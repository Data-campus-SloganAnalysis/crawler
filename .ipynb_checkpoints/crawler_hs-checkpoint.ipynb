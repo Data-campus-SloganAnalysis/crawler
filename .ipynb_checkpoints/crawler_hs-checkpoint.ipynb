{
 "cells": [
  {
   "cell_type": "code",
   "execution_count": 1,
   "id": "e616d3bb",
   "metadata": {
    "ExecuteTime": {
     "end_time": "2021-08-03T08:05:42.729322Z",
     "start_time": "2021-08-03T08:05:42.001808Z"
    }
   },
   "outputs": [],
   "source": [
    "import re\n",
    "from bs4 import BeautifulSoup\n",
    "from selenium import webdriver\n",
    "import time\n",
    "import pandas as pd\n",
    "\n",
    "\n",
    "options = webdriver.ChromeOptions()\n",
    "options.add_argument(\"headless\")"
   ]
  },
  {
   "cell_type": "markdown",
   "id": "44aa4261",
   "metadata": {},
   "source": [
    "chromedriver.exe 경로 수정"
   ]
  },
  {
   "cell_type": "code",
   "execution_count": 2,
   "id": "96859955",
   "metadata": {
    "ExecuteTime": {
     "end_time": "2021-08-03T08:05:42.745381Z",
     "start_time": "2021-08-03T08:05:42.729322Z"
    }
   },
   "outputs": [],
   "source": [
    "driver_path = 'C:/chromedriver_win32/chromedriver.exe' "
   ]
  },
  {
   "cell_type": "code",
   "execution_count": 3,
   "id": "f018481a",
   "metadata": {
    "ExecuteTime": {
     "end_time": "2021-08-03T08:05:42.760445Z",
     "start_time": "2021-08-03T08:05:42.746245Z"
    }
   },
   "outputs": [],
   "source": [
    "def clean_text(text):\n",
    "    cleaned_text = re.sub('[a-zA-Z]', '', text)\n",
    "    cleaned_text = re.sub('[\\{\\}\\[\\]\\/?.,;:|\\)*~`!^\\-_+<>@\\#$%&\\\\\\=\\(\\'\\\"]',\n",
    "                          '', cleaned_text)\n",
    "    cleaned_text = ' '.join(cleaned_text.split())\n",
    "    return cleaned_text"
   ]
  },
  {
   "cell_type": "markdown",
   "id": "abd2b48c",
   "metadata": {},
   "source": [
    "네이버에 언론사 설정하고 검색 시에 url_domain + 검색어 + news_domain 과 같은 구조  \n",
    "그래서 아래 함수에서 news_domain을 각자 언론사에 맞춰서 수정해주시면 됩니다"
   ]
  },
  {
   "cell_type": "markdown",
   "id": "0971470f",
   "metadata": {},
   "source": [
    "경향신문"
   ]
  },
  {
   "cell_type": "code",
   "execution_count": 30,
   "id": "40936834",
   "metadata": {
    "ExecuteTime": {
     "end_time": "2021-08-03T08:31:54.670656Z",
     "start_time": "2021-08-03T08:30:06.732830Z"
    }
   },
   "outputs": [
    {
     "name": "stdout",
     "output_type": "stream",
     "text": [
      "http://news.khan.co.kr/kh_news/khan_art_view.html?artid=201703210802011&code=620109\n",
      "None_type\n"
     ]
    }
   ],
   "source": [
    "def biz_khan(query,driver_path):\n",
    "    domain = '경향신문'\n",
    "    driver = webdriver.Chrome(executable_path=driver_path, options=options)  # for Windows\n",
    "    url_domain = 'https://search.naver.com/search.naver?where=news&query='\n",
    "    news_domain ='&sm=tab_opt&sort=0&photo=0&field=0&pd=0&ds=&de=&docid=&related=0&mynews=1&office_type=1&office_section_code=1&news_office_checked=1032&nso=&is_sug_officeid=0' \n",
    "    url = url_domain + query + news_domain\n",
    "    \n",
    "    driver.get(url)\n",
    "    soup = BeautifulSoup(driver.page_source,'html.parser')\n",
    "    \n",
    "    # 기사 url을 list형태로 반환\n",
    "    try:\n",
    "        news_list = soup.select('#main_pack > section > div > div.group_news > ul')\n",
    "        url_list = []\n",
    "        news_list = news_list[0].find_all('li')\n",
    "        for url in news_list:\n",
    "            url_list.append(str(url.find_all('a')[0].get('data-url')))\n",
    "    except:\n",
    "        print('기사가 없습니다.')\n",
    "        driver.close()\n",
    "        return 0\n",
    "    driver.close()\n",
    "    \n",
    "    head_list = []\n",
    "    data_list = []\n",
    "    \n",
    "    for url in url_list:\n",
    "        driver = webdriver.Chrome(executable_path=driver_path,options=options)  # for Windows\n",
    "        driver.get(url)\n",
    "        time.sleep(2)\n",
    "        # try문 안에서 각자 언론사에 맞게 수정\n",
    "        try:\n",
    "            soup = BeautifulSoup(driver.page_source,'html.parser')\n",
    "            head_list.append(soup.find('h1',id='articleTtitle').text)\n",
    "            tags = soup.select_one('#container > div.main_container > div.art_cont > div.art_body').find_all('p')\n",
    "            data = [clean_text(x.text) for x in tags]\n",
    "            data_list.append(' '.join(data))\n",
    "        except:\n",
    "            print(url)\n",
    "            print('None_type')\n",
    "        driver.close()\n",
    "        \n",
    "    output = pd.DataFrame({'언론사' : [domain]*len(head_list),\n",
    "                          '제목' :  head_list,\n",
    "                          '내용' : data_list})\n",
    "    return output\n",
    "\n",
    "biz = biz_khan('삼성전자 슬로건',driver_path)"
   ]
  },
  {
   "cell_type": "markdown",
   "id": "7c8cd686",
   "metadata": {},
   "source": [
    "중앙일보"
   ]
  },
  {
   "cell_type": "code",
   "execution_count": 5,
   "id": "dbb49b0c",
   "metadata": {
    "ExecuteTime": {
     "end_time": "2021-08-03T08:14:48.760366Z",
     "start_time": "2021-08-03T08:12:58.776200Z"
    }
   },
   "outputs": [],
   "source": [
    "def chungang(query,driver_path):\n",
    "    driver = webdriver.Chrome(executable_path=driver_path, options=options)  # for Windows\n",
    "\n",
    "    domain = '중앙일보'\n",
    "    url_domain = 'https://search.naver.com/search.naver?where=news&query='\n",
    "    news_domain = '&sm=tab_opt&sort=0&photo=0&field=0&pd=0&ds=&de=&docid=&related=0&mynews=1&office_type=1&office_section_code=1&news_office_checked=1025&nso=&is_sug_officeid=0'\n",
    "    url = url_domain + query + news_domain\n",
    "    driver.get(url)\n",
    "    soup = BeautifulSoup(driver.page_source,'html.parser')\n",
    "\n",
    "    # 기사 url을 list형태로 반환\n",
    "    try:\n",
    "        news_list = soup.select('#main_pack > section > div > div.group_news > ul')\n",
    "        url_list = []\n",
    "        news_list = news_list[0].find_all('li')\n",
    "        for url in news_list:\n",
    "            url_list.append(str(url.find_all('a')[0].get('data-url')))\n",
    "    except:\n",
    "        print('기사가 없습니다.')\n",
    "        driver.close()\n",
    "        return 0\n",
    "    driver.close()\n",
    "\n",
    "    head_list = []\n",
    "    data_list = []\n",
    "\n",
    "    for url in url_list:\n",
    "        try:\n",
    "            driver = webdriver.Chrome(executable_path=driver_path, options=options)  # for Windows\n",
    "            driver.get(url)\n",
    "            time.sleep(2)\n",
    "            soup = BeautifulSoup(driver.page_source,'html.parser')\n",
    "            head = clean_text(soup.select('#article_title')[0].text)\n",
    "            head_list.append(head)\n",
    "            text = soup.find('div', id='article_body').text\n",
    "            text = clean_text(text)\n",
    "            data_list.append(text)\n",
    "        except:\n",
    "            print(\"None_type\")\n",
    "        driver.close()\n",
    "    output = pd.DataFrame({'언론사' : [domain]*len(head_list),\n",
    "                           '제목' :  head_list,\n",
    "                           '내용' : data_list})\n",
    "    return output\n",
    "\n",
    "chungang_df = chungang('삼성전자 슬로건', driver_path)"
   ]
  },
  {
   "cell_type": "code",
   "execution_count": 6,
   "id": "ddfcb650",
   "metadata": {
    "ExecuteTime": {
     "end_time": "2021-08-03T08:16:06.007825Z",
     "start_time": "2021-08-03T08:16:05.983418Z"
    }
   },
   "outputs": [
    {
     "data": {
      "text/html": [
       "<div>\n",
       "<style scoped>\n",
       "    .dataframe tbody tr th:only-of-type {\n",
       "        vertical-align: middle;\n",
       "    }\n",
       "\n",
       "    .dataframe tbody tr th {\n",
       "        vertical-align: top;\n",
       "    }\n",
       "\n",
       "    .dataframe thead th {\n",
       "        text-align: right;\n",
       "    }\n",
       "</style>\n",
       "<table border=\"1\" class=\"dataframe\">\n",
       "  <thead>\n",
       "    <tr style=\"text-align: right;\">\n",
       "      <th></th>\n",
       "      <th>언론사</th>\n",
       "      <th>제목</th>\n",
       "      <th>내용</th>\n",
       "    </tr>\n",
       "  </thead>\n",
       "  <tbody>\n",
       "    <tr>\n",
       "      <th>0</th>\n",
       "      <td>중앙일보</td>\n",
       "      <td>삼성· 펄펄 나는데 ‘탱크주의’ 대우전자가 아쉬운 이유</td>\n",
       "      <td>1993년 대우전자가 선보인 탱크주의 신문 광고 배순훈 대우전 사장오른쪽 광고 속 ...</td>\n",
       "    </tr>\n",
       "    <tr>\n",
       "      <th>1</th>\n",
       "      <td>중앙일보</td>\n",
       "      <td>코로나 위기로 브랜드 더 중요해져…딤채·삼성서울병원 등 1위</td>\n",
       "      <td>사진 브랜드스탁 신종 코로나바이러스 감염증코로나19의 확산 속에도 딤채 하나투어 제...</td>\n",
       "    </tr>\n",
       "    <tr>\n",
       "      <th>2</th>\n",
       "      <td>중앙일보</td>\n",
       "      <td>“비스포크 냉장고 130만원 올레드 200만원”…삼성·전자 31일까지 세일 행사</td>\n",
       "      <td>삼성전자와 전자가 이달 31일까지 한 달간 주요 가전제품과 모바일기기를 대상으로 세...</td>\n",
       "    </tr>\n",
       "    <tr>\n",
       "      <th>3</th>\n",
       "      <td>중앙일보</td>\n",
       "      <td>2021 승현준 삼성리서치 사장 “맞춤형 가전으로 ‘보다 나은 일상’ 실현”</td>\n",
       "      <td>승현준 삼성전자 사장삼성리서치 소장이 11일현지시간 온라인으고 개막한 2021 삼성...</td>\n",
       "    </tr>\n",
       "    <tr>\n",
       "      <th>4</th>\n",
       "      <td>중앙일보</td>\n",
       "      <td>미 헤지펀드 삼성에 밀린 반도체 생산 멈춰라…인텔의 위기</td>\n",
       "      <td>삼성전자와 인텔 로고 중앙포토 1990년대 중반 이후 ‘인텔 인사이드’라는 슬로건과...</td>\n",
       "    </tr>\n",
       "    <tr>\n",
       "      <th>5</th>\n",
       "      <td>중앙일보</td>\n",
       "      <td>바이든 승리에도 삼성 美 텍사스에 반도체 추가투자 가능성</td>\n",
       "      <td>삼성 미국 오스틴 팹 사진 삼성전자 7일현지시간 미국 대선에서 승리 선언을 한 조지...</td>\n",
       "    </tr>\n",
       "    <tr>\n",
       "      <th>6</th>\n",
       "      <td>중앙일보</td>\n",
       "      <td>스마트폰 시장 긁지않은 복권…삼성·애플 14억 인도 쟁탈전</td>\n",
       "      <td>지난8월 인도 벵갈루루에 위치한 삼성 오페라 하우스에서 갤럭시 노트20를 체험하고 ...</td>\n",
       "    </tr>\n",
       "    <tr>\n",
       "      <th>7</th>\n",
       "      <td>중앙일보</td>\n",
       "      <td>파운드리 2위 삼성에 는 넘사벽</td>\n",
       "      <td>삼성전자 평택캠퍼스 전경 사진 삼성전자 가까이하기엔 너무 멀다 파운드리반도체 위탁생...</td>\n",
       "    </tr>\n",
       "    <tr>\n",
       "      <th>8</th>\n",
       "      <td>중앙일보</td>\n",
       "      <td>파운드리 2위 삼성 공격 투자에도 와 격차 커진 까닭</td>\n",
       "      <td>삼성 가까이하기엔 너무 멀다 파운드리반도체 위탁생산 시장에서 1위를 지키고 있는 대...</td>\n",
       "    </tr>\n",
       "    <tr>\n",
       "      <th>9</th>\n",
       "      <td>중앙일보</td>\n",
       "      <td>윤석열 “파일은 마타도어…검증은 팩트에 기초해 이뤄져야</td>\n",
       "      <td>윤석열 전 검찰총장은 29일 출마선언 직후 곧바로 기자들의 질문 검증대에 섰다 약 ...</td>\n",
       "    </tr>\n",
       "  </tbody>\n",
       "</table>\n",
       "</div>"
      ],
      "text/plain": [
       "    언론사                                            제목  \\\n",
       "0  중앙일보                삼성· 펄펄 나는데 ‘탱크주의’ 대우전자가 아쉬운 이유   \n",
       "1  중앙일보             코로나 위기로 브랜드 더 중요해져…딤채·삼성서울병원 등 1위   \n",
       "2  중앙일보  “비스포크 냉장고 130만원 올레드 200만원”…삼성·전자 31일까지 세일 행사   \n",
       "3  중앙일보    2021 승현준 삼성리서치 사장 “맞춤형 가전으로 ‘보다 나은 일상’ 실현”   \n",
       "4  중앙일보               미 헤지펀드 삼성에 밀린 반도체 생산 멈춰라…인텔의 위기   \n",
       "5  중앙일보               바이든 승리에도 삼성 美 텍사스에 반도체 추가투자 가능성   \n",
       "6  중앙일보              스마트폰 시장 긁지않은 복권…삼성·애플 14억 인도 쟁탈전   \n",
       "7  중앙일보                             파운드리 2위 삼성에 는 넘사벽   \n",
       "8  중앙일보                 파운드리 2위 삼성 공격 투자에도 와 격차 커진 까닭   \n",
       "9  중앙일보                윤석열 “파일은 마타도어…검증은 팩트에 기초해 이뤄져야   \n",
       "\n",
       "                                                  내용  \n",
       "0  1993년 대우전자가 선보인 탱크주의 신문 광고 배순훈 대우전 사장오른쪽 광고 속 ...  \n",
       "1  사진 브랜드스탁 신종 코로나바이러스 감염증코로나19의 확산 속에도 딤채 하나투어 제...  \n",
       "2  삼성전자와 전자가 이달 31일까지 한 달간 주요 가전제품과 모바일기기를 대상으로 세...  \n",
       "3  승현준 삼성전자 사장삼성리서치 소장이 11일현지시간 온라인으고 개막한 2021 삼성...  \n",
       "4  삼성전자와 인텔 로고 중앙포토 1990년대 중반 이후 ‘인텔 인사이드’라는 슬로건과...  \n",
       "5  삼성 미국 오스틴 팹 사진 삼성전자 7일현지시간 미국 대선에서 승리 선언을 한 조지...  \n",
       "6  지난8월 인도 벵갈루루에 위치한 삼성 오페라 하우스에서 갤럭시 노트20를 체험하고 ...  \n",
       "7  삼성전자 평택캠퍼스 전경 사진 삼성전자 가까이하기엔 너무 멀다 파운드리반도체 위탁생...  \n",
       "8  삼성 가까이하기엔 너무 멀다 파운드리반도체 위탁생산 시장에서 1위를 지키고 있는 대...  \n",
       "9  윤석열 전 검찰총장은 29일 출마선언 직후 곧바로 기자들의 질문 검증대에 섰다 약 ...  "
      ]
     },
     "execution_count": 6,
     "metadata": {},
     "output_type": "execute_result"
    }
   ],
   "source": [
    "chungang_df"
   ]
  },
  {
   "cell_type": "markdown",
   "id": "af5de77a",
   "metadata": {},
   "source": [
    "조선일보"
   ]
  },
  {
   "cell_type": "code",
   "execution_count": 7,
   "id": "e8adaad4",
   "metadata": {
    "ExecuteTime": {
     "end_time": "2021-08-03T08:17:29.842028Z",
     "start_time": "2021-08-03T08:16:09.186646Z"
    }
   },
   "outputs": [],
   "source": [
    "def joseon(query,driver_path):\n",
    "    driver = webdriver.Chrome(executable_path=driver_path, options=options)  # for Windows\n",
    "\n",
    "    domain = '조선일보'\n",
    "    url_domain = 'https://search.naver.com/search.naver?where=news&query='\n",
    "    news_domain = '&sm=tab_opt&sort=0&photo=0&field=0&pd=0&ds=&de=&docid=&related=0&mynews=1&office_type=1&office_section_code=1&news_office_checked=1023&nso=&is_sug_officeid=0'\n",
    "    url = url_domain + query + news_domain\n",
    "    driver.get(url)\n",
    "    soup = BeautifulSoup(driver.page_source,'html.parser')\n",
    "\n",
    "    # 기사 url을 list형태로 반환\n",
    "    try:\n",
    "        news_list = soup.select('#main_pack > section > div > div.group_news > ul')\n",
    "        url_list = []\n",
    "        news_list = news_list[0].find_all('li')\n",
    "        for url in news_list:\n",
    "            url_list.append(str(url.find_all('a')[0].get('data-url')))\n",
    "    except:\n",
    "        print('기사가 없습니다.')\n",
    "        driver.close()\n",
    "        return 0\n",
    "    driver.close()\n",
    "    \n",
    "    head_list = []\n",
    "    data_list = []\n",
    "\n",
    "    for url in url_list:\n",
    "        try:\n",
    "            driver = webdriver.Chrome(executable_path=driver_path, options=options)  # for Windows\n",
    "            driver.get(url)\n",
    "            time.sleep(2)\n",
    "            soup = BeautifulSoup(driver.page_source,'html.parser')\n",
    "            head = clean_text(soup.find_all(\"h1\", class_=\"article-header__headline | font--primary text--black\")[0].text)\n",
    "            head_list.append(head)\n",
    "            tags = soup.find_all('p',class_=' article-body__content article-body__content-text | text--black text font--size-sm-18 font--size-md-18 font--primary')\n",
    "            data = [clean_text(x.text) for x in tags]\n",
    "            data_list.append(' '.join(data))\n",
    "        except:\n",
    "            print(\"None_type\")\n",
    "        driver.close()\n",
    "    output = pd.DataFrame({'언론사' : [domain]*len(head_list),\n",
    "                           '제목' :  head_list,\n",
    "                           '내용' : data_list})\n",
    "    return output\n",
    "\n",
    "joseon_df = joseon('삼성전자 슬로건', driver_path)"
   ]
  },
  {
   "cell_type": "code",
   "execution_count": 8,
   "id": "6b2fec1e",
   "metadata": {
    "ExecuteTime": {
     "end_time": "2021-08-03T08:17:44.304162Z",
     "start_time": "2021-08-03T08:17:44.293969Z"
    }
   },
   "outputs": [
    {
     "data": {
      "text/html": [
       "<div>\n",
       "<style scoped>\n",
       "    .dataframe tbody tr th:only-of-type {\n",
       "        vertical-align: middle;\n",
       "    }\n",
       "\n",
       "    .dataframe tbody tr th {\n",
       "        vertical-align: top;\n",
       "    }\n",
       "\n",
       "    .dataframe thead th {\n",
       "        text-align: right;\n",
       "    }\n",
       "</style>\n",
       "<table border=\"1\" class=\"dataframe\">\n",
       "  <thead>\n",
       "    <tr style=\"text-align: right;\">\n",
       "      <th></th>\n",
       "      <th>언론사</th>\n",
       "      <th>제목</th>\n",
       "      <th>내용</th>\n",
       "    </tr>\n",
       "  </thead>\n",
       "  <tbody>\n",
       "    <tr>\n",
       "      <th>0</th>\n",
       "      <td>조선일보</td>\n",
       "      <td>이제는 가전을 나답게 삼성전자 맞춤형 가전 강화</td>\n",
       "      <td>‘이제는 가전을 나답게’ 삼성전자가 새롭게 정한 가전제품 통합 슬로건이다 삼성전자는...</td>\n",
       "    </tr>\n",
       "    <tr>\n",
       "      <th>1</th>\n",
       "      <td>조선일보</td>\n",
       "      <td>지펠·디오스·쏘나타… 별나고 멋진 중산층 만든 디자인</td>\n",
       "      <td>이 글의 제목은 영국의 팝아트 작가 리처드 해밀턴의 1956년 작 ‘오늘의 가정을 ...</td>\n",
       "    </tr>\n",
       "    <tr>\n",
       "      <th>2</th>\n",
       "      <td>조선일보</td>\n",
       "      <td>“정치와 정책의 괴리…文 정부는 정경환란 상태”</td>\n",
       "      <td>한국 경제의 역사를 쉽게 이해하는 방법 중의 하나는 역대 대통령들의 경제정책을 분석...</td>\n",
       "    </tr>\n",
       "    <tr>\n",
       "      <th>3</th>\n",
       "      <td>조선일보</td>\n",
       "      <td>냉장고 내부도 이젠 내 마음대로 삼성전자 뉴 셰프컬렉션 출시</td>\n",
       "      <td>삼성전자가 3번째 프로젝트 프리즘맞춤형 가전 제품인 ‘뉴 셰프컬렉션 냉장고’를 2일...</td>\n",
       "    </tr>\n",
       "    <tr>\n",
       "      <th>4</th>\n",
       "      <td>조선일보</td>\n",
       "      <td>자산 364억 빚 291억공약만큼 재산도 파격적인 ‘이단아’ 허경영</td>\n",
       "      <td>“나라에 돈이 없는 것이 아니라 도둑놈이 많습니다” 지난달 28일 오전 10시 서울...</td>\n",
       "    </tr>\n",
       "    <tr>\n",
       "      <th>5</th>\n",
       "      <td>조선일보</td>\n",
       "      <td>미중 사이 줄타기하며 성장한 미중 갈등 핵심으로</td>\n",
       "      <td>미·중 갈등이 다시 달아오르면서 최근 가장 뜨겁게 주목받는 반도체 기업이 있다 대만...</td>\n",
       "    </tr>\n",
       "    <tr>\n",
       "      <th>6</th>\n",
       "      <td>조선일보</td>\n",
       "      <td>세계 파운드리 54 장악한 대만 킹핀… 美·中 갈등의 핵으로</td>\n",
       "      <td>미·중 갈등이 다시 달아오르면서 최근 가장 뜨겁게 주목받는 반도체 기업이 있다 대만...</td>\n",
       "    </tr>\n",
       "    <tr>\n",
       "      <th>7</th>\n",
       "      <td>조선일보</td>\n",
       "      <td>2020 의 모든 것 보여준다</td>\n",
       "      <td>인공지능를 우리의 일상으로 내년 1월 710일현지 시각 미국 라스베이거스에서 미국소...</td>\n",
       "    </tr>\n",
       "    <tr>\n",
       "      <th>8</th>\n",
       "      <td>조선일보</td>\n",
       "      <td>가장 친환경적경제적 에너지원 에너지 효율 혁신 전략 한눈에</td>\n",
       "      <td>대한민국의 에너지 산업과 기술의 현재와 미래를 한눈에 살펴볼 수 있는 전시회가 열린...</td>\n",
       "    </tr>\n",
       "    <tr>\n",
       "      <th>9</th>\n",
       "      <td>조선일보</td>\n",
       "      <td>스토리 대만을 대표하는 기업가 궈타이밍은 ‘트럼프’가 될까</td>\n",
       "      <td>궈타이밍郭台銘·69·사진은 대만의 트럼프가 될 수 있을 것인가 세계 최대 전자제품 ...</td>\n",
       "    </tr>\n",
       "  </tbody>\n",
       "</table>\n",
       "</div>"
      ],
      "text/plain": [
       "    언론사                                     제목  \\\n",
       "0  조선일보             이제는 가전을 나답게 삼성전자 맞춤형 가전 강화   \n",
       "1  조선일보          지펠·디오스·쏘나타… 별나고 멋진 중산층 만든 디자인   \n",
       "2  조선일보             “정치와 정책의 괴리…文 정부는 정경환란 상태”   \n",
       "3  조선일보      냉장고 내부도 이젠 내 마음대로 삼성전자 뉴 셰프컬렉션 출시   \n",
       "4  조선일보  자산 364억 빚 291억공약만큼 재산도 파격적인 ‘이단아’ 허경영   \n",
       "5  조선일보             미중 사이 줄타기하며 성장한 미중 갈등 핵심으로   \n",
       "6  조선일보      세계 파운드리 54 장악한 대만 킹핀… 美·中 갈등의 핵으로   \n",
       "7  조선일보                       2020 의 모든 것 보여준다   \n",
       "8  조선일보       가장 친환경적경제적 에너지원 에너지 효율 혁신 전략 한눈에   \n",
       "9  조선일보       스토리 대만을 대표하는 기업가 궈타이밍은 ‘트럼프’가 될까   \n",
       "\n",
       "                                                  내용  \n",
       "0  ‘이제는 가전을 나답게’ 삼성전자가 새롭게 정한 가전제품 통합 슬로건이다 삼성전자는...  \n",
       "1  이 글의 제목은 영국의 팝아트 작가 리처드 해밀턴의 1956년 작 ‘오늘의 가정을 ...  \n",
       "2  한국 경제의 역사를 쉽게 이해하는 방법 중의 하나는 역대 대통령들의 경제정책을 분석...  \n",
       "3  삼성전자가 3번째 프로젝트 프리즘맞춤형 가전 제품인 ‘뉴 셰프컬렉션 냉장고’를 2일...  \n",
       "4  “나라에 돈이 없는 것이 아니라 도둑놈이 많습니다” 지난달 28일 오전 10시 서울...  \n",
       "5  미·중 갈등이 다시 달아오르면서 최근 가장 뜨겁게 주목받는 반도체 기업이 있다 대만...  \n",
       "6  미·중 갈등이 다시 달아오르면서 최근 가장 뜨겁게 주목받는 반도체 기업이 있다 대만...  \n",
       "7  인공지능를 우리의 일상으로 내년 1월 710일현지 시각 미국 라스베이거스에서 미국소...  \n",
       "8  대한민국의 에너지 산업과 기술의 현재와 미래를 한눈에 살펴볼 수 있는 전시회가 열린...  \n",
       "9  궈타이밍郭台銘·69·사진은 대만의 트럼프가 될 수 있을 것인가 세계 최대 전자제품 ...  "
      ]
     },
     "execution_count": 8,
     "metadata": {},
     "output_type": "execute_result"
    }
   ],
   "source": [
    "joseon_df"
   ]
  },
  {
   "cell_type": "markdown",
   "id": "2ef8aebf",
   "metadata": {},
   "source": [
    "전국매일신문"
   ]
  },
  {
   "cell_type": "code",
   "execution_count": 9,
   "id": "daaf4b1a",
   "metadata": {
    "ExecuteTime": {
     "end_time": "2021-08-03T08:17:49.379564Z",
     "start_time": "2021-08-03T08:17:47.919324Z"
    }
   },
   "outputs": [
    {
     "name": "stdout",
     "output_type": "stream",
     "text": [
      "기사가 없습니다.\n"
     ]
    }
   ],
   "source": [
    "def alldays(query,driver_path):\n",
    "    driver = webdriver.Chrome(executable_path=driver_path, options=options)  # for Windows\n",
    "\n",
    "    domain = '전국매일신문'\n",
    "    url_domain = 'https://search.naver.com/search.naver?where=news&query='\n",
    "    news_domain = '&sm=tab_opt&sort=0&photo=0&field=0&pd=0&ds=&de=&docid=&related=0&mynews=1&office_type=1&office_section_code=1&news_office_checked=2844&nso=&is_sug_officeid=0'\n",
    "    url = url_domain + query + news_domain\n",
    "    driver.get(url)\n",
    "    soup = BeautifulSoup(driver.page_source,'html.parser')\n",
    "\n",
    "    # 기사 url을 list형태로 반환\n",
    "    try:\n",
    "        news_list = soup.select('#main_pack > section > div > div.group_news > ul')\n",
    "        url_list = []\n",
    "        news_list = news_list[0].find_all('li')\n",
    "        for url in news_list:\n",
    "            url_list.append(str(url.find_all('a')[0].get('data-url')))\n",
    "    except:\n",
    "        print('기사가 없습니다.')\n",
    "        driver.close()\n",
    "        return 0\n",
    "    \n",
    "    driver.close()\n",
    "\n",
    "    head_list = []\n",
    "    data_list = []\n",
    "\n",
    "    for url in url_list:\n",
    "        try:\n",
    "            driver = webdriver.Chrome(executable_path=driver_path, options=options)  # for Windows\n",
    "            driver.get(url)\n",
    "            time.sleep(2)\n",
    "            soup = BeautifulSoup(driver.page_source,'html.parser')\n",
    "            head = clean_text(soup.find('div',class_=\"article-head-title\").text)\n",
    "            head_list.append(head)\n",
    "            tags = soup.select_one('#article-view-content-div').find_all('p')\n",
    "            data = [clean_text(x.text) for x in tags]\n",
    "            data_list.append(' '.join(data))\n",
    "        except:\n",
    "            print(\"None_type\")\n",
    "        driver.close()\n",
    "    output = pd.DataFrame({'언론사' : [domain]*len(head_list),\n",
    "                           '제목' :  head_list,\n",
    "                           '내용' : data_list})\n",
    "    return output\n",
    "\n",
    "alldays_df = alldays('삼성전자 슬로건', driver_path)"
   ]
  },
  {
   "cell_type": "code",
   "execution_count": 26,
   "id": "a94cecd7",
   "metadata": {
    "ExecuteTime": {
     "end_time": "2021-08-03T08:29:10.785520Z",
     "start_time": "2021-08-03T08:29:10.762782Z"
    }
   },
   "outputs": [
    {
     "data": {
      "text/html": [
       "<div>\n",
       "<style scoped>\n",
       "    .dataframe tbody tr th:only-of-type {\n",
       "        vertical-align: middle;\n",
       "    }\n",
       "\n",
       "    .dataframe tbody tr th {\n",
       "        vertical-align: top;\n",
       "    }\n",
       "\n",
       "    .dataframe thead th {\n",
       "        text-align: right;\n",
       "    }\n",
       "</style>\n",
       "<table border=\"1\" class=\"dataframe\">\n",
       "  <thead>\n",
       "    <tr style=\"text-align: right;\">\n",
       "      <th></th>\n",
       "      <th>언론사</th>\n",
       "      <th>제목</th>\n",
       "      <th>내용</th>\n",
       "    </tr>\n",
       "  </thead>\n",
       "  <tbody>\n",
       "    <tr>\n",
       "      <th>0</th>\n",
       "      <td>경향신문</td>\n",
       "      <td>삼성전자, 21일 밤 국내외 사업장서 ‘전등끄기’ 까닭은</td>\n",
       "      <td>삼성전자가 지난 21일 저녁 경기 수원 삼성 디지털시티와 44개 해외 판매·생산법인...</td>\n",
       "    </tr>\n",
       "    <tr>\n",
       "      <th>1</th>\n",
       "      <td>경향신문</td>\n",
       "      <td>삼성 가전 새 슬로건 ‘이제는 가전을 나답게’</td>\n",
       "      <td>ㆍ‘틀에 박힌 시장에 마침표’ 의미 담아…마케팅 전반에 활용 예정 삼성전자가 전 가...</td>\n",
       "    </tr>\n",
       "    <tr>\n",
       "      <th>2</th>\n",
       "      <td>경향신문</td>\n",
       "      <td>철 없는 ‘4K TV’, 삼성에 효자 TV</td>\n",
       "      <td>게임 환경에서 4 왼쪽와 일반 의 화질을 비교한 모습 삼성전자 제공 신제품 ‘8 ’...</td>\n",
       "    </tr>\n",
       "    <tr>\n",
       "      <th>3</th>\n",
       "      <td>경향신문</td>\n",
       "      <td>[단독] 윤종원 청와대 경제수석 첫 인터뷰 “문 대통령·삼성 이재용 만남, 재벌 구...</td>\n",
       "      <td>·윤종원 신임 경제수석 임명 후 첫 언론 인터뷰 ·대통령이 삼성 이재용 부회장 만난...</td>\n",
       "    </tr>\n",
       "    <tr>\n",
       "      <th>4</th>\n",
       "      <td>경향신문</td>\n",
       "      <td>삼성그룹 새해 슬로건 ‘새로운 도전’···경영기조는 ‘내실’</td>\n",
       "      <td>삼성그룹이 새해 경영전략의 기조를 ‘내실 다지기’로 정했다 ‘새로운 도전’을 슬로건...</td>\n",
       "    </tr>\n",
       "    <tr>\n",
       "      <th>5</th>\n",
       "      <td>경향신문</td>\n",
       "      <td>삼성 “당신 일상의 새 기준”…LG “더 나은 삶으로 혁신”</td>\n",
       "      <td>ㆍ국제가전전시회 내일 개막 삼성전자가 다음달 1일 독일 베를린에서 개막하는 ‘국제가...</td>\n",
       "    </tr>\n",
       "    <tr>\n",
       "      <th>6</th>\n",
       "      <td>경향신문</td>\n",
       "      <td>무풍 에어컨의 돌풍?···삼성 국내 에어컨 판매 100만대 돌파</td>\n",
       "      <td>삼성전자가 ‘무풍 에어컨’ 인기에 힘입어 올해 들어 가정용 에어컨 국내 판매 100...</td>\n",
       "    </tr>\n",
       "    <tr>\n",
       "      <th>7</th>\n",
       "      <td>경향신문</td>\n",
       "      <td>삼성전자 ‘스마트홈’ 사업 美 CES서 선보여</td>\n",
       "      <td>삼성전자는 ·냉장고·세탁기 등 집안의 가전기기에다 스마트폰 같은 기기를 연결해 손쉽...</td>\n",
       "    </tr>\n",
       "    <tr>\n",
       "      <th>8</th>\n",
       "      <td>경향신문</td>\n",
       "      <td>[기업특집] “실패해도 괜찮아”…삼성의 도전은 계속된다</td>\n",
       "      <td>삼성전자 수원공장에는 스페이스와 아이디어 라운지라는 다소 이색적인 공간이 마련돼 있...</td>\n",
       "    </tr>\n",
       "  </tbody>\n",
       "</table>\n",
       "</div>"
      ],
      "text/plain": [
       "    언론사                                                 제목  \\\n",
       "0  경향신문                    삼성전자, 21일 밤 국내외 사업장서 ‘전등끄기’ 까닭은   \n",
       "1  경향신문                          삼성 가전 새 슬로건 ‘이제는 가전을 나답게’   \n",
       "2  경향신문                            철 없는 ‘4K TV’, 삼성에 효자 TV   \n",
       "3  경향신문  [단독] 윤종원 청와대 경제수석 첫 인터뷰 “문 대통령·삼성 이재용 만남, 재벌 구...   \n",
       "4  경향신문                  삼성그룹 새해 슬로건 ‘새로운 도전’···경영기조는 ‘내실’   \n",
       "5  경향신문                  삼성 “당신 일상의 새 기준”…LG “더 나은 삶으로 혁신”   \n",
       "6  경향신문                무풍 에어컨의 돌풍?···삼성 국내 에어컨 판매 100만대 돌파   \n",
       "7  경향신문                          삼성전자 ‘스마트홈’ 사업 美 CES서 선보여   \n",
       "8  경향신문                     [기업특집] “실패해도 괜찮아”…삼성의 도전은 계속된다   \n",
       "\n",
       "                                                  내용  \n",
       "0  삼성전자가 지난 21일 저녁 경기 수원 삼성 디지털시티와 44개 해외 판매·생산법인...  \n",
       "1  ㆍ‘틀에 박힌 시장에 마침표’ 의미 담아…마케팅 전반에 활용 예정 삼성전자가 전 가...  \n",
       "2  게임 환경에서 4 왼쪽와 일반 의 화질을 비교한 모습 삼성전자 제공 신제품 ‘8 ’...  \n",
       "3  ·윤종원 신임 경제수석 임명 후 첫 언론 인터뷰 ·대통령이 삼성 이재용 부회장 만난...  \n",
       "4  삼성그룹이 새해 경영전략의 기조를 ‘내실 다지기’로 정했다 ‘새로운 도전’을 슬로건...  \n",
       "5  ㆍ국제가전전시회 내일 개막 삼성전자가 다음달 1일 독일 베를린에서 개막하는 ‘국제가...  \n",
       "6  삼성전자가 ‘무풍 에어컨’ 인기에 힘입어 올해 들어 가정용 에어컨 국내 판매 100...  \n",
       "7  삼성전자는 ·냉장고·세탁기 등 집안의 가전기기에다 스마트폰 같은 기기를 연결해 손쉽...  \n",
       "8  삼성전자 수원공장에는 스페이스와 아이디어 라운지라는 다소 이색적인 공간이 마련돼 있...  "
      ]
     },
     "execution_count": 26,
     "metadata": {},
     "output_type": "execute_result"
    }
   ],
   "source": [
    "biz"
   ]
  },
  {
   "cell_type": "code",
   "execution_count": 27,
   "id": "2c872984",
   "metadata": {
    "ExecuteTime": {
     "end_time": "2021-08-03T08:29:11.356767Z",
     "start_time": "2021-08-03T08:29:11.346893Z"
    }
   },
   "outputs": [
    {
     "data": {
      "text/html": [
       "<div>\n",
       "<style scoped>\n",
       "    .dataframe tbody tr th:only-of-type {\n",
       "        vertical-align: middle;\n",
       "    }\n",
       "\n",
       "    .dataframe tbody tr th {\n",
       "        vertical-align: top;\n",
       "    }\n",
       "\n",
       "    .dataframe thead th {\n",
       "        text-align: right;\n",
       "    }\n",
       "</style>\n",
       "<table border=\"1\" class=\"dataframe\">\n",
       "  <thead>\n",
       "    <tr style=\"text-align: right;\">\n",
       "      <th></th>\n",
       "      <th>언론사</th>\n",
       "      <th>제목</th>\n",
       "      <th>내용</th>\n",
       "    </tr>\n",
       "  </thead>\n",
       "  <tbody>\n",
       "    <tr>\n",
       "      <th>0</th>\n",
       "      <td>중앙일보</td>\n",
       "      <td>삼성· 펄펄 나는데 ‘탱크주의’ 대우전자가 아쉬운 이유</td>\n",
       "      <td>1993년 대우전자가 선보인 탱크주의 신문 광고 배순훈 대우전 사장오른쪽 광고 속 ...</td>\n",
       "    </tr>\n",
       "    <tr>\n",
       "      <th>1</th>\n",
       "      <td>중앙일보</td>\n",
       "      <td>코로나 위기로 브랜드 더 중요해져…딤채·삼성서울병원 등 1위</td>\n",
       "      <td>사진 브랜드스탁 신종 코로나바이러스 감염증코로나19의 확산 속에도 딤채 하나투어 제...</td>\n",
       "    </tr>\n",
       "    <tr>\n",
       "      <th>2</th>\n",
       "      <td>중앙일보</td>\n",
       "      <td>“비스포크 냉장고 130만원 올레드 200만원”…삼성·전자 31일까지 세일 행사</td>\n",
       "      <td>삼성전자와 전자가 이달 31일까지 한 달간 주요 가전제품과 모바일기기를 대상으로 세...</td>\n",
       "    </tr>\n",
       "    <tr>\n",
       "      <th>3</th>\n",
       "      <td>중앙일보</td>\n",
       "      <td>2021 승현준 삼성리서치 사장 “맞춤형 가전으로 ‘보다 나은 일상’ 실현”</td>\n",
       "      <td>승현준 삼성전자 사장삼성리서치 소장이 11일현지시간 온라인으고 개막한 2021 삼성...</td>\n",
       "    </tr>\n",
       "    <tr>\n",
       "      <th>4</th>\n",
       "      <td>중앙일보</td>\n",
       "      <td>미 헤지펀드 삼성에 밀린 반도체 생산 멈춰라…인텔의 위기</td>\n",
       "      <td>삼성전자와 인텔 로고 중앙포토 1990년대 중반 이후 ‘인텔 인사이드’라는 슬로건과...</td>\n",
       "    </tr>\n",
       "    <tr>\n",
       "      <th>5</th>\n",
       "      <td>중앙일보</td>\n",
       "      <td>바이든 승리에도 삼성 美 텍사스에 반도체 추가투자 가능성</td>\n",
       "      <td>삼성 미국 오스틴 팹 사진 삼성전자 7일현지시간 미국 대선에서 승리 선언을 한 조지...</td>\n",
       "    </tr>\n",
       "    <tr>\n",
       "      <th>6</th>\n",
       "      <td>중앙일보</td>\n",
       "      <td>스마트폰 시장 긁지않은 복권…삼성·애플 14억 인도 쟁탈전</td>\n",
       "      <td>지난8월 인도 벵갈루루에 위치한 삼성 오페라 하우스에서 갤럭시 노트20를 체험하고 ...</td>\n",
       "    </tr>\n",
       "    <tr>\n",
       "      <th>7</th>\n",
       "      <td>중앙일보</td>\n",
       "      <td>파운드리 2위 삼성에 는 넘사벽</td>\n",
       "      <td>삼성전자 평택캠퍼스 전경 사진 삼성전자 가까이하기엔 너무 멀다 파운드리반도체 위탁생...</td>\n",
       "    </tr>\n",
       "    <tr>\n",
       "      <th>8</th>\n",
       "      <td>중앙일보</td>\n",
       "      <td>파운드리 2위 삼성 공격 투자에도 와 격차 커진 까닭</td>\n",
       "      <td>삼성 가까이하기엔 너무 멀다 파운드리반도체 위탁생산 시장에서 1위를 지키고 있는 대...</td>\n",
       "    </tr>\n",
       "    <tr>\n",
       "      <th>9</th>\n",
       "      <td>중앙일보</td>\n",
       "      <td>윤석열 “파일은 마타도어…검증은 팩트에 기초해 이뤄져야</td>\n",
       "      <td>윤석열 전 검찰총장은 29일 출마선언 직후 곧바로 기자들의 질문 검증대에 섰다 약 ...</td>\n",
       "    </tr>\n",
       "  </tbody>\n",
       "</table>\n",
       "</div>"
      ],
      "text/plain": [
       "    언론사                                            제목  \\\n",
       "0  중앙일보                삼성· 펄펄 나는데 ‘탱크주의’ 대우전자가 아쉬운 이유   \n",
       "1  중앙일보             코로나 위기로 브랜드 더 중요해져…딤채·삼성서울병원 등 1위   \n",
       "2  중앙일보  “비스포크 냉장고 130만원 올레드 200만원”…삼성·전자 31일까지 세일 행사   \n",
       "3  중앙일보    2021 승현준 삼성리서치 사장 “맞춤형 가전으로 ‘보다 나은 일상’ 실현”   \n",
       "4  중앙일보               미 헤지펀드 삼성에 밀린 반도체 생산 멈춰라…인텔의 위기   \n",
       "5  중앙일보               바이든 승리에도 삼성 美 텍사스에 반도체 추가투자 가능성   \n",
       "6  중앙일보              스마트폰 시장 긁지않은 복권…삼성·애플 14억 인도 쟁탈전   \n",
       "7  중앙일보                             파운드리 2위 삼성에 는 넘사벽   \n",
       "8  중앙일보                 파운드리 2위 삼성 공격 투자에도 와 격차 커진 까닭   \n",
       "9  중앙일보                윤석열 “파일은 마타도어…검증은 팩트에 기초해 이뤄져야   \n",
       "\n",
       "                                                  내용  \n",
       "0  1993년 대우전자가 선보인 탱크주의 신문 광고 배순훈 대우전 사장오른쪽 광고 속 ...  \n",
       "1  사진 브랜드스탁 신종 코로나바이러스 감염증코로나19의 확산 속에도 딤채 하나투어 제...  \n",
       "2  삼성전자와 전자가 이달 31일까지 한 달간 주요 가전제품과 모바일기기를 대상으로 세...  \n",
       "3  승현준 삼성전자 사장삼성리서치 소장이 11일현지시간 온라인으고 개막한 2021 삼성...  \n",
       "4  삼성전자와 인텔 로고 중앙포토 1990년대 중반 이후 ‘인텔 인사이드’라는 슬로건과...  \n",
       "5  삼성 미국 오스틴 팹 사진 삼성전자 7일현지시간 미국 대선에서 승리 선언을 한 조지...  \n",
       "6  지난8월 인도 벵갈루루에 위치한 삼성 오페라 하우스에서 갤럭시 노트20를 체험하고 ...  \n",
       "7  삼성전자 평택캠퍼스 전경 사진 삼성전자 가까이하기엔 너무 멀다 파운드리반도체 위탁생...  \n",
       "8  삼성 가까이하기엔 너무 멀다 파운드리반도체 위탁생산 시장에서 1위를 지키고 있는 대...  \n",
       "9  윤석열 전 검찰총장은 29일 출마선언 직후 곧바로 기자들의 질문 검증대에 섰다 약 ...  "
      ]
     },
     "execution_count": 27,
     "metadata": {},
     "output_type": "execute_result"
    }
   ],
   "source": [
    "chungang_df"
   ]
  },
  {
   "cell_type": "code",
   "execution_count": 28,
   "id": "143dfc29",
   "metadata": {
    "ExecuteTime": {
     "end_time": "2021-08-03T08:29:11.914389Z",
     "start_time": "2021-08-03T08:29:11.896250Z"
    }
   },
   "outputs": [
    {
     "data": {
      "text/html": [
       "<div>\n",
       "<style scoped>\n",
       "    .dataframe tbody tr th:only-of-type {\n",
       "        vertical-align: middle;\n",
       "    }\n",
       "\n",
       "    .dataframe tbody tr th {\n",
       "        vertical-align: top;\n",
       "    }\n",
       "\n",
       "    .dataframe thead th {\n",
       "        text-align: right;\n",
       "    }\n",
       "</style>\n",
       "<table border=\"1\" class=\"dataframe\">\n",
       "  <thead>\n",
       "    <tr style=\"text-align: right;\">\n",
       "      <th></th>\n",
       "      <th>언론사</th>\n",
       "      <th>제목</th>\n",
       "      <th>내용</th>\n",
       "    </tr>\n",
       "  </thead>\n",
       "  <tbody>\n",
       "    <tr>\n",
       "      <th>0</th>\n",
       "      <td>조선일보</td>\n",
       "      <td>이제는 가전을 나답게 삼성전자 맞춤형 가전 강화</td>\n",
       "      <td>‘이제는 가전을 나답게’ 삼성전자가 새롭게 정한 가전제품 통합 슬로건이다 삼성전자는...</td>\n",
       "    </tr>\n",
       "    <tr>\n",
       "      <th>1</th>\n",
       "      <td>조선일보</td>\n",
       "      <td>지펠·디오스·쏘나타… 별나고 멋진 중산층 만든 디자인</td>\n",
       "      <td>이 글의 제목은 영국의 팝아트 작가 리처드 해밀턴의 1956년 작 ‘오늘의 가정을 ...</td>\n",
       "    </tr>\n",
       "    <tr>\n",
       "      <th>2</th>\n",
       "      <td>조선일보</td>\n",
       "      <td>“정치와 정책의 괴리…文 정부는 정경환란 상태”</td>\n",
       "      <td>한국 경제의 역사를 쉽게 이해하는 방법 중의 하나는 역대 대통령들의 경제정책을 분석...</td>\n",
       "    </tr>\n",
       "    <tr>\n",
       "      <th>3</th>\n",
       "      <td>조선일보</td>\n",
       "      <td>냉장고 내부도 이젠 내 마음대로 삼성전자 뉴 셰프컬렉션 출시</td>\n",
       "      <td>삼성전자가 3번째 프로젝트 프리즘맞춤형 가전 제품인 ‘뉴 셰프컬렉션 냉장고’를 2일...</td>\n",
       "    </tr>\n",
       "    <tr>\n",
       "      <th>4</th>\n",
       "      <td>조선일보</td>\n",
       "      <td>자산 364억 빚 291억공약만큼 재산도 파격적인 ‘이단아’ 허경영</td>\n",
       "      <td>“나라에 돈이 없는 것이 아니라 도둑놈이 많습니다” 지난달 28일 오전 10시 서울...</td>\n",
       "    </tr>\n",
       "    <tr>\n",
       "      <th>5</th>\n",
       "      <td>조선일보</td>\n",
       "      <td>미중 사이 줄타기하며 성장한 미중 갈등 핵심으로</td>\n",
       "      <td>미·중 갈등이 다시 달아오르면서 최근 가장 뜨겁게 주목받는 반도체 기업이 있다 대만...</td>\n",
       "    </tr>\n",
       "    <tr>\n",
       "      <th>6</th>\n",
       "      <td>조선일보</td>\n",
       "      <td>세계 파운드리 54 장악한 대만 킹핀… 美·中 갈등의 핵으로</td>\n",
       "      <td>미·중 갈등이 다시 달아오르면서 최근 가장 뜨겁게 주목받는 반도체 기업이 있다 대만...</td>\n",
       "    </tr>\n",
       "    <tr>\n",
       "      <th>7</th>\n",
       "      <td>조선일보</td>\n",
       "      <td>2020 의 모든 것 보여준다</td>\n",
       "      <td>인공지능를 우리의 일상으로 내년 1월 710일현지 시각 미국 라스베이거스에서 미국소...</td>\n",
       "    </tr>\n",
       "    <tr>\n",
       "      <th>8</th>\n",
       "      <td>조선일보</td>\n",
       "      <td>가장 친환경적경제적 에너지원 에너지 효율 혁신 전략 한눈에</td>\n",
       "      <td>대한민국의 에너지 산업과 기술의 현재와 미래를 한눈에 살펴볼 수 있는 전시회가 열린...</td>\n",
       "    </tr>\n",
       "    <tr>\n",
       "      <th>9</th>\n",
       "      <td>조선일보</td>\n",
       "      <td>스토리 대만을 대표하는 기업가 궈타이밍은 ‘트럼프’가 될까</td>\n",
       "      <td>궈타이밍郭台銘·69·사진은 대만의 트럼프가 될 수 있을 것인가 세계 최대 전자제품 ...</td>\n",
       "    </tr>\n",
       "  </tbody>\n",
       "</table>\n",
       "</div>"
      ],
      "text/plain": [
       "    언론사                                     제목  \\\n",
       "0  조선일보             이제는 가전을 나답게 삼성전자 맞춤형 가전 강화   \n",
       "1  조선일보          지펠·디오스·쏘나타… 별나고 멋진 중산층 만든 디자인   \n",
       "2  조선일보             “정치와 정책의 괴리…文 정부는 정경환란 상태”   \n",
       "3  조선일보      냉장고 내부도 이젠 내 마음대로 삼성전자 뉴 셰프컬렉션 출시   \n",
       "4  조선일보  자산 364억 빚 291억공약만큼 재산도 파격적인 ‘이단아’ 허경영   \n",
       "5  조선일보             미중 사이 줄타기하며 성장한 미중 갈등 핵심으로   \n",
       "6  조선일보      세계 파운드리 54 장악한 대만 킹핀… 美·中 갈등의 핵으로   \n",
       "7  조선일보                       2020 의 모든 것 보여준다   \n",
       "8  조선일보       가장 친환경적경제적 에너지원 에너지 효율 혁신 전략 한눈에   \n",
       "9  조선일보       스토리 대만을 대표하는 기업가 궈타이밍은 ‘트럼프’가 될까   \n",
       "\n",
       "                                                  내용  \n",
       "0  ‘이제는 가전을 나답게’ 삼성전자가 새롭게 정한 가전제품 통합 슬로건이다 삼성전자는...  \n",
       "1  이 글의 제목은 영국의 팝아트 작가 리처드 해밀턴의 1956년 작 ‘오늘의 가정을 ...  \n",
       "2  한국 경제의 역사를 쉽게 이해하는 방법 중의 하나는 역대 대통령들의 경제정책을 분석...  \n",
       "3  삼성전자가 3번째 프로젝트 프리즘맞춤형 가전 제품인 ‘뉴 셰프컬렉션 냉장고’를 2일...  \n",
       "4  “나라에 돈이 없는 것이 아니라 도둑놈이 많습니다” 지난달 28일 오전 10시 서울...  \n",
       "5  미·중 갈등이 다시 달아오르면서 최근 가장 뜨겁게 주목받는 반도체 기업이 있다 대만...  \n",
       "6  미·중 갈등이 다시 달아오르면서 최근 가장 뜨겁게 주목받는 반도체 기업이 있다 대만...  \n",
       "7  인공지능를 우리의 일상으로 내년 1월 710일현지 시각 미국 라스베이거스에서 미국소...  \n",
       "8  대한민국의 에너지 산업과 기술의 현재와 미래를 한눈에 살펴볼 수 있는 전시회가 열린...  \n",
       "9  궈타이밍郭台銘·69·사진은 대만의 트럼프가 될 수 있을 것인가 세계 최대 전자제품 ...  "
      ]
     },
     "execution_count": 28,
     "metadata": {},
     "output_type": "execute_result"
    }
   ],
   "source": [
    "joseon_df"
   ]
  },
  {
   "cell_type": "code",
   "execution_count": 29,
   "id": "dd31bbef",
   "metadata": {
    "ExecuteTime": {
     "end_time": "2021-08-03T08:29:12.644068Z",
     "start_time": "2021-08-03T08:29:12.633441Z"
    }
   },
   "outputs": [
    {
     "data": {
      "text/plain": [
       "0"
      ]
     },
     "execution_count": 29,
     "metadata": {},
     "output_type": "execute_result"
    }
   ],
   "source": [
    "alldays_df"
   ]
  },
  {
   "cell_type": "markdown",
   "id": "cb867d1e",
   "metadata": {},
   "source": [
    "* * *  \n",
    "저장할 때"
   ]
  },
  {
   "cell_type": "code",
   "execution_count": null,
   "id": "6440774e",
   "metadata": {
    "ExecuteTime": {
     "end_time": "2021-08-03T08:07:25.721985Z",
     "start_time": "2021-08-03T08:05:41.989Z"
    }
   },
   "outputs": [],
   "source": [
    "# biz.to_csv('경향신문.csv',encoding='CP949',index=None)"
   ]
  },
  {
   "cell_type": "code",
   "execution_count": null,
   "id": "306e3293",
   "metadata": {
    "ExecuteTime": {
     "end_time": "2021-08-03T08:07:25.722894Z",
     "start_time": "2021-08-03T08:05:41.990Z"
    }
   },
   "outputs": [],
   "source": [
    "# test = pd.read_csv('경향신문.csv',encoding='CP949')"
   ]
  },
  {
   "cell_type": "code",
   "execution_count": null,
   "id": "873b3c39",
   "metadata": {
    "ExecuteTime": {
     "end_time": "2021-08-03T08:07:25.723987Z",
     "start_time": "2021-08-03T08:05:41.991Z"
    }
   },
   "outputs": [],
   "source": [
    "# test"
   ]
  },
  {
   "cell_type": "markdown",
   "id": "e65a3679",
   "metadata": {
    "ExecuteTime": {
     "end_time": "2021-08-03T07:07:15.550802Z",
     "start_time": "2021-08-03T07:07:15.540101Z"
    }
   },
   "source": [
    "* * * \n",
    "연습"
   ]
  }
 ],
 "metadata": {
  "kernelspec": {
   "display_name": "Python 3",
   "language": "python",
   "name": "python3"
  },
  "language_info": {
   "codemirror_mode": {
    "name": "ipython",
    "version": 3
   },
   "file_extension": ".py",
   "mimetype": "text/x-python",
   "name": "python",
   "nbconvert_exporter": "python",
   "pygments_lexer": "ipython3",
   "version": "3.8.8"
  },
  "toc": {
   "base_numbering": 1,
   "nav_menu": {},
   "number_sections": true,
   "sideBar": true,
   "skip_h1_title": false,
   "title_cell": "Table of Contents",
   "title_sidebar": "Contents",
   "toc_cell": false,
   "toc_position": {},
   "toc_section_display": true,
   "toc_window_display": false
  },
  "varInspector": {
   "cols": {
    "lenName": 16,
    "lenType": 16,
    "lenVar": 40
   },
   "kernels_config": {
    "python": {
     "delete_cmd_postfix": "",
     "delete_cmd_prefix": "del ",
     "library": "var_list.py",
     "varRefreshCmd": "print(var_dic_list())"
    },
    "r": {
     "delete_cmd_postfix": ") ",
     "delete_cmd_prefix": "rm(",
     "library": "var_list.r",
     "varRefreshCmd": "cat(var_dic_list()) "
    }
   },
   "types_to_exclude": [
    "module",
    "function",
    "builtin_function_or_method",
    "instance",
    "_Feature"
   ],
   "window_display": false
  }
 },
 "nbformat": 4,
 "nbformat_minor": 5
}
