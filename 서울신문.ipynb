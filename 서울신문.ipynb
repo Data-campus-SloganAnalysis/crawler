{
 "cells": [
  {
   "cell_type": "code",
   "execution_count": 1,
   "metadata": {},
   "outputs": [],
   "source": [
    "import re\n",
    "from bs4 import BeautifulSoup\n",
    "from selenium import webdriver\n",
    "import time\n",
    "import pandas as pd\n",
    "\n",
    "\n",
    "options = webdriver.ChromeOptions()\n",
    "options.add_argument(\"headless\")"
   ]
  },
  {
   "cell_type": "code",
   "execution_count": 2,
   "metadata": {},
   "outputs": [],
   "source": [
    "driver_path = 'C:/Users/MY/Downloads/chromedriver.exe'"
   ]
  },
  {
   "cell_type": "code",
   "execution_count": 3,
   "metadata": {},
   "outputs": [],
   "source": [
    "def clean_text(text):\n",
    "    cleaned_text = re.sub('[a-zA-Z]', '', text)\n",
    "    cleaned_text = re.sub('[\\{\\}\\[\\]\\/?.,;:|\\)*~`!^\\-_+<>@\\#$%&\\\\\\=\\(\\'\\\"]',\n",
    "                          '', cleaned_text)\n",
    "    cleaned_text = ' '.join(cleaned_text.split())\n",
    "    return cleaned_text"
   ]
  },
  {
   "cell_type": "code",
   "execution_count": 22,
   "metadata": {},
   "outputs": [],
   "source": [
    "def biz_khan(query,driver_path):\n",
    "    domain = '서울신문'\n",
    "    driver = webdriver.Chrome(executable_path=driver_path, options=options)  # for Windows\n",
    "    url_domain = 'https://search.naver.com/search.naver?where=news&query='\n",
    "    news_domain ='%EB%89%B4%EC%8A%A4&sm=tab_opt&sort=0&photo=0&field=0&pd=0&ds=&de=&docid=&related=0&mynews=1&office_type=1&office_section_code=1&news_office_checked=1081&nso=&is_sug_officeid=0' \n",
    "    url = url_domain + query + news_domain\n",
    "    driver.get(url)\n",
    "    soup = BeautifulSoup(driver.page_source,'html.parser')\n",
    "    \n",
    "    # 기사 url을 list형태로 반환\n",
    "    news_list = soup.select('#main_pack > section > div > div.group_news > ul')\n",
    "    url_list = []\n",
    "    news_list = news_list[0].find_all('li')\n",
    "\n",
    "    for url in news_list:\n",
    "        url_list.append(str(url.find_all('a')[0].get('data-url')))\n",
    "    driver.close()\n",
    "    \n",
    "    data_list = []\n",
    "    head_list = []\n",
    "    for url in url_list:\n",
    "        driver = webdriver.Chrome(executable_path=driver_path,options=options)  # for Windows\n",
    "        time.sleep(2)\n",
    "        driver.get(url)\n",
    "        time.sleep(2)\n",
    "        # try문 안에서 각자 언론사에 맞게 수정\n",
    "        try:\n",
    "            soup = BeautifulSoup(driver.page_source,'html.parser')\n",
    "            head_list.append(clean_text(soup.find('h1', class_ = 'atit2').text))\n",
    "            data = clean_text(soup.select('#atic_txt1')[0].text)\n",
    "            data_list.append(data)\n",
    "        except:\n",
    "            print('None_type')\n",
    "        driver.close()\n",
    "        \n",
    "    output = pd.DataFrame({'언론사' : [domain]*len(head_list),\n",
    "                          '제목' :  head_list,\n",
    "                          '내용' : data_list})\n",
    "    return output\n",
    "\n",
    "biz = biz_khan('삼성전자 슬로건',driver_path)"
   ]
  },
  {
   "cell_type": "code",
   "execution_count": 8,
   "metadata": {},
   "outputs": [],
   "source": [
    "query = '삼성전자 슬로건'\n",
    "domain = '서울신문'\n",
    "driver = webdriver.Chrome(executable_path=driver_path, options=options)  # for Windows\n",
    "url_domain = 'https://search.naver.com/search.naver?where=news&query='\n",
    "news_domain ='%EB%89%B4%EC%8A%A4&sm=tab_opt&sort=0&photo=0&field=0&pd=0&ds=&de=&docid=&related=0&mynews=1&office_type=1&office_section_code=1&news_office_checked=1081&nso=&is_sug_officeid=0' \n",
    "url = url_domain + query + news_domain\n",
    "driver.get(url)\n",
    "soup = BeautifulSoup(driver.page_source,'html.parser')\n",
    "\n",
    "# 기사 url을 list형태로 반환\n",
    "news_list = soup.select('#main_pack > section > div > div.group_news > ul')\n",
    "url_list = []\n",
    "news_list = news_list[0].find_all('li')\n",
    "\n",
    "for url in news_list:\n",
    "    url_list.append(str(url.find_all('a')[0].get('data-url')))\n",
    "driver.close()"
   ]
  },
  {
   "cell_type": "code",
   "execution_count": 17,
   "metadata": {},
   "outputs": [],
   "source": [
    "driver = webdriver.Chrome(executable_path=driver_path)  # for Windows\n",
    "driver.get(url_list[0])"
   ]
  },
  {
   "cell_type": "code",
   "execution_count": 15,
   "metadata": {},
   "outputs": [],
   "source": [
    "driver.close()"
   ]
  },
  {
   "cell_type": "code",
   "execution_count": 20,
   "metadata": {
    "collapsed": true
   },
   "outputs": [
    {
     "data": {
      "text/plain": [
       "'\\n美 ‘CES 2018’ 내일 개막 \\nAI·IoT 스마트홈·커넥티드카 차세대 디스플레이 경쟁 막올라 구글·아마존 맞서 AI 전면전 \\n\\n\\n\\n\\n\\n\\n\\n\\n\\t\\t\\t      $(window).load(function() {\\n\\t\\t\\t         var lightObj = jQuery(\\'#gallery784514 a\\').lightBox({\\n                        imageLoading:\\t\\t\\t\\'https://img.seoul.co.kr/img/12_lightbox-ico-loading.gif\\',\\n                \\t\\timageBlank:\\t\\t\\t\\t\\'https://img.seoul.co.kr/img/12_lightbox-blank.gif\\',\\n\\t\\t\\t\\t\\t\\timageBtnPrev:\\t\\t\\t\\'https://img.seoul.co.kr/img/12_pre_i.gif\\',\\t\\n                \\t\\timageBtnNext:\\t\\t\\t\\'https://img.seoul.co.kr/img/12_next_i.gif\\',\\t\\n                 \\t\\timageBtnClose:\\t\\t\\t\\'https://img.seoul.co.kr/img/12_close_i.gif\\',\\n\\t\\t\\t\\t\\t\\toverlayOpacity:0.6                           \\n\\t\\t\\t         });\\n\\n\\t\\t\\t         $(\"#expands_784514\").click(function(){\\n\\t\\t\\t            jQuery(\\'#gallery784514 a\\').click();\\n\\t\\t\\t         });\\n\\t\\t\\t      });\\n\\t\\t\\t      \\n\\n▲ LG전자가 ‘CES 2018’ 개막을 앞두고 미국 라스베이거스에 설치한 ‘씽큐’ 옥외 홍보관 앞을 7일 외국인들이 지나가고 있다.라스베이거스 연합뉴스\\n\\n\\n9일(현지시간) 미국 라스베이거스에서 개막하는 세계 최대 가전쇼 ‘CES 2018’을 앞두고 삼성전자와 LG전자가 ‘스마트 기술 대전’ 포문을 열었다. 경쟁의 방점은 인공지능(AI)·사물인터넷(IoT) 기술이 모인 스마트홈과 커넥티드카, 차세대 디스플레이 경쟁에 찍혔다. 올해 전시회 슬로건이 ‘스마트시티의 미래’인 것과도 맥을 함께한다. 삼성전자는 IoT를 통해 소비자 경험을 모두 연결하는 ‘원 삼성’, LG전자는 자체 AI 브랜드 ‘LG 씽큐’를 앞세워 ‘가전이 궁극적으로 연결하는 세상’을 실감나게 보여 준다는 계획이다.참가 업체 중 가장 넓은 면적의 전시관을 확보한 삼성전자는 IoT 서비스를 ‘스마트싱스’로 통합해 연결성을 더욱 확대했다. 자사 AI 플랫폼 ‘빅스비’도 가전 제품은 물론 집안 곳곳과 연동돼 쓰임새가 넓어졌다. 올해를 ‘AI 가전 원년’으로 선포한 LG전자는 집 내부를 연출한 ‘LG 씽큐 스위트’에서 다양한 AI 제품과 함께하는 일상생활을 시연한다. 개막 하루 전인 8일 글로벌 미디어 초청 기자회견에서는 신임 최고기술책임자(CTO)인 박일평 사장이 ‘씽큐’의 지향점을 설명할 예정이다.두 회사가 구글 어시스턴트, 아마존 알렉사 등 이미 앞서 나가는 글로벌 정보기술(IT) 기업의 AI에 맞서 자사 AI 생태계 덩치를 어떻게 키워 낼지도 관심거리다. 이를 위해 삼성전자는 ‘빅스비 2.0’을 올해 출시되는 스마트 TV에 탑재할 계획이다. LG전자는 자사 AI 플랫폼 ‘딥씽큐’를 전면에 내세울 작정이다..iwmads{z-index:1000!important;transition:max-height 400ms ease-in-out;-webkit-transition:max-height 400ms ease-in-out;-moz-transition:max-height 400ms ease-in-out;-ms-transition:max-height 400ms ease-in-out;-o-transition:max-height 400ms ease-in-out;}.iwmads span{display:none}.ip-title h1{margin-left:35px!important}.ip-title h1:before{background-image:url(//static.interworksmedia.co.kr/PID1203/AT/B/logo.jpg)}.ip-icons .close, .ip-icons .close2{top:10px;right:10px;width:20px;height:20px;}\\n\\n\\n\\n\\n\\n\\n\\n\\n\\n\\n\\n\\n\\n업비트 투자자 보호 센터\\n\\n\\n\\n\\n\\n\\n\\n\\n지난해 CES에서 격전을 치렀던 퀀텀닷발광다이오드(QLED)와 유기발광다이오드(OLED)의 디스플레이 경쟁도 업그레이드됐다.\\n\\n\\n\\n\\n\\n\\n\\n\\n\\t\\t\\t      $(window).load(function() {\\n\\t\\t\\t         var lightObj = jQuery(\\'#gallery784515 a\\').lightBox({\\n                        imageLoading:\\t\\t\\t\\'https://img.seoul.co.kr/img/12_lightbox-ico-loading.gif\\',\\n                \\t\\timageBlank:\\t\\t\\t\\t\\'https://img.seoul.co.kr/img/12_lightbox-blank.gif\\',\\n\\t\\t\\t\\t\\t\\timageBtnPrev:\\t\\t\\t\\'https://img.seoul.co.kr/img/12_pre_i.gif\\',\\t\\n                \\t\\timageBtnNext:\\t\\t\\t\\'https://img.seoul.co.kr/img/12_next_i.gif\\',\\t\\n                 \\t\\timageBtnClose:\\t\\t\\t\\'https://img.seoul.co.kr/img/12_close_i.gif\\',\\n\\t\\t\\t\\t\\t\\toverlayOpacity:0.6                           \\n\\t\\t\\t         });\\n\\n\\t\\t\\t         $(\"#expands_784515\").click(function(){\\n\\t\\t\\t            jQuery(\\'#gallery784515 a\\').click();\\n\\t\\t\\t         });\\n\\t\\t\\t      });\\n\\t\\t\\t      \\n\\n▲ TV 스스로 알아서 고화질로 바꿔 주는 삼성전자의 인공지능(AI) 화질 변환 개념도.삼성전자 제공\\n\\n\\n삼성전자는 세계 최초로 AI 기술을 적용한 85인치형 8K QLED TV를 올해 CES에 공개한다. 8K TV는 초고화질(UHD)보다 화질이 4배 더 선명한 3300만 화소다. 여기에 저화질 영상을 고화질로 바꿔 주는 AI 기술을 더했다. 수백만 가지의 영상 장면을 AI가 미리 학습하고 유형별로 분석해 데이터베이스를 구축한 뒤 TV에 저화질 영상이 입력되면 TV 스스로 밝기, 명암, 선명도 등을 보정해 주는 최적의 필터를 찾아 고화질 영상으로 바꿔 준다. 그동안 8K TV가 있어도 콘텐츠 해상도가 뒷받침되지 않았는데 이를 AI 기술을 통해 극복했다는 게 삼성전자의 설명이다.\\n\\n\\n\\n\\n\\n\\n\\n\\n\\t\\t\\t      $(window).load(function() {\\n\\t\\t\\t         var lightObj = jQuery(\\'#gallery784516 a\\').lightBox({\\n                        imageLoading:\\t\\t\\t\\'https://img.seoul.co.kr/img/12_lightbox-ico-loading.gif\\',\\n                \\t\\timageBlank:\\t\\t\\t\\t\\'https://img.seoul.co.kr/img/12_lightbox-blank.gif\\',\\n\\t\\t\\t\\t\\t\\timageBtnPrev:\\t\\t\\t\\'https://img.seoul.co.kr/img/12_pre_i.gif\\',\\t\\n                \\t\\timageBtnNext:\\t\\t\\t\\'https://img.seoul.co.kr/img/12_next_i.gif\\',\\t\\n                 \\t\\timageBtnClose:\\t\\t\\t\\'https://img.seoul.co.kr/img/12_close_i.gif\\',\\n\\t\\t\\t\\t\\t\\toverlayOpacity:0.6                           \\n\\t\\t\\t         });\\n\\n\\t\\t\\t         $(\"#expands_784516\").click(function(){\\n\\t\\t\\t            jQuery(\\'#gallery784516 a\\').click();\\n\\t\\t\\t         });\\n\\t\\t\\t      });\\n\\t\\t\\t      \\n\\n▲ LG디스플레이가 올해 CES에 세계 최초로 공개하는 65인치 롤러블 디스플레이. 사용하지 않을 때는 돌돌 말아 놓을 수 있다. LG디스플레이 제공\\n\\n\\n이에 맞서 LG는 65인치 초고화질(UHD) 롤러블 디스플레이를 세계 최초로 공개한다. 둘둘 말 수 있는 50인치 이상 디스플레이가 나온 것은 처음이다. TV에 바로 적용할 수 있는 수준이라는 게 LG 측의 설명이다. 자유자재로 접혀 설치가 편리하고 필요에 따라 최적화된 화면 크기와 비율로도 조정할 수 있다. 55인치 투명 디스플레이, 0.6㎜ 두께 비디오월 신제품도 함께 내놓는다.\\n\\n\\n\\n\\n\\n\\n올해 CES에는 전 세계 150여개국에서 약 4000개 업체가 참석한다. 우리나라도 삼성, LG, 현대·기아차 등 200여개 업체가 첨단 기술과 제품을 선보인다.라스베이거스(미국) 이재연 기자 oscal@seoul.co.kr\\n            '"
      ]
     },
     "execution_count": 20,
     "metadata": {},
     "output_type": "execute_result"
    }
   ],
   "source": [
    "soup = BeautifulSoup(driver.page_source,'html.parser')\n",
    "soup.select('#atic_txt1')[0].text"
   ]
  },
  {
   "cell_type": "code",
   "execution_count": 23,
   "metadata": {},
   "outputs": [],
   "source": [
    "biz.to_csv('서울신문.csv',index=None)"
   ]
  },
  {
   "cell_type": "code",
   "execution_count": 24,
   "metadata": {},
   "outputs": [],
   "source": [
    "data1 = pd.read_csv('서울신문.csv')"
   ]
  },
  {
   "cell_type": "code",
   "execution_count": 25,
   "metadata": {},
   "outputs": [
    {
     "data": {
      "text/html": [
       "<div>\n",
       "<style scoped>\n",
       "    .dataframe tbody tr th:only-of-type {\n",
       "        vertical-align: middle;\n",
       "    }\n",
       "\n",
       "    .dataframe tbody tr th {\n",
       "        vertical-align: top;\n",
       "    }\n",
       "\n",
       "    .dataframe thead th {\n",
       "        text-align: right;\n",
       "    }\n",
       "</style>\n",
       "<table border=\"1\" class=\"dataframe\">\n",
       "  <thead>\n",
       "    <tr style=\"text-align: right;\">\n",
       "      <th></th>\n",
       "      <th>언론사</th>\n",
       "      <th>제목</th>\n",
       "      <th>내용</th>\n",
       "    </tr>\n",
       "  </thead>\n",
       "  <tbody>\n",
       "    <tr>\n",
       "      <th>0</th>\n",
       "      <td>서울신문</td>\n",
       "      <td>원 삼성 씽큐… 스마트 기술 대전</td>\n",
       "      <td>美 ‘ 2018’ 내일 개막 · 스마트홈·커넥티드카 차세대 디스플레이 경쟁 막올라 ...</td>\n",
       "    </tr>\n",
       "    <tr>\n",
       "      <th>1</th>\n",
       "      <td>서울신문</td>\n",
       "      <td>‘삼성표 김치’만 326… 기업들은 왜 김장에 팔걷었나</td>\n",
       "      <td>사회봉사의 대명사 ‘김장나눔’ 야쿠르트 아줌마 수천명 김장 유명세 겨울마다 수많은 ...</td>\n",
       "    </tr>\n",
       "    <tr>\n",
       "      <th>2</th>\n",
       "      <td>서울신문</td>\n",
       "      <td>백석예술대 경영행정학부의료경영 보건복지부 장관상 2년 연속 수상</td>\n",
       "      <td>보건복지부와 한국건강증진개발원이 주최한 2019년 음주폐해예방의 달 기념식에서 백석...</td>\n",
       "    </tr>\n",
       "    <tr>\n",
       "      <th>3</th>\n",
       "      <td>서울신문</td>\n",
       "      <td>전자 최고 화질로 스마트폰 승부수</td>\n",
       "      <td>야심작 ‘3’ 국내외 동시 출시 레드전자의 상징색의 역습이 시작됐다 초기 스마트폰 ...</td>\n",
       "    </tr>\n",
       "    <tr>\n",
       "      <th>4</th>\n",
       "      <td>서울신문</td>\n",
       "      <td>이종락의 재계인맥 대해부11 현대가의 ‘큰 어른’ 정몽구 회장과 ‘장손’ 정의선 부회장</td>\n",
       "      <td>정몽구 회장 현대가 실질적 장남 역할일가 챙겨아들 정의선 부회장 경영 최일선에서 그...</td>\n",
       "    </tr>\n",
       "    <tr>\n",
       "      <th>5</th>\n",
       "      <td>서울신문</td>\n",
       "      <td>말로 합시다… ‘음성인식 ’ 가전시장 큰 싸움</td>\n",
       "      <td>세계 3대 가전 박람회 개막 삼성 ‘새로운 일상’ 슬로건 걸고 ‘빅스비’ 냉장고 음...</td>\n",
       "    </tr>\n",
       "    <tr>\n",
       "      <th>6</th>\n",
       "      <td>서울신문</td>\n",
       "      <td>“실패 덕에 재정비”… 5 오답노트로 6 성공기 쓴다</td>\n",
       "      <td>조준호 본부장 간담회 “개발 단계부터 협력사와 함께” 삼성 갤8 공개 전 선점 총력...</td>\n",
       "    </tr>\n",
       "    <tr>\n",
       "      <th>7</th>\n",
       "      <td>서울신문</td>\n",
       "      <td>구글 스마트폰 ‘픽셀’ 등 자체 제작 하드웨어기기 발표</td>\n",
       "      <td>위주 경영 벗어나… 삼성·애플과 정면승부 불가피 안드로이드 운영체제로 스마트폰 생태...</td>\n",
       "    </tr>\n",
       "    <tr>\n",
       "      <th>8</th>\n",
       "      <td>서울신문</td>\n",
       "      <td>3 화질 ‘25601440’ 세계 첫 장착 왜</td>\n",
       "      <td>▲ 스마트폰 3 3 화질 ‘25601440’ 세계 첫 장착 왜’화질의 ’라는 슬로건...</td>\n",
       "    </tr>\n",
       "    <tr>\n",
       "      <th>9</th>\n",
       "      <td>서울신문</td>\n",
       "      <td>2009 우수기업 우수상품 15개 기업·상품 선정</td>\n",
       "      <td>서울신문은 27일 올해 한국경제를 이끌어 갈 ‘우수기업 우수상품’에 총 15개 기업...</td>\n",
       "    </tr>\n",
       "  </tbody>\n",
       "</table>\n",
       "</div>"
      ],
      "text/plain": [
       "    언론사                                                제목  \\\n",
       "0  서울신문                                원 삼성 씽큐… 스마트 기술 대전   \n",
       "1  서울신문                    ‘삼성표 김치’만 326… 기업들은 왜 김장에 팔걷었나   \n",
       "2  서울신문               백석예술대 경영행정학부의료경영 보건복지부 장관상 2년 연속 수상   \n",
       "3  서울신문                                전자 최고 화질로 스마트폰 승부수   \n",
       "4  서울신문  이종락의 재계인맥 대해부11 현대가의 ‘큰 어른’ 정몽구 회장과 ‘장손’ 정의선 부회장   \n",
       "5  서울신문                         말로 합시다… ‘음성인식 ’ 가전시장 큰 싸움   \n",
       "6  서울신문                     “실패 덕에 재정비”… 5 오답노트로 6 성공기 쓴다   \n",
       "7  서울신문                    구글 스마트폰 ‘픽셀’ 등 자체 제작 하드웨어기기 발표   \n",
       "8  서울신문                         3 화질 ‘25601440’ 세계 첫 장착 왜   \n",
       "9  서울신문                       2009 우수기업 우수상품 15개 기업·상품 선정   \n",
       "\n",
       "                                                  내용  \n",
       "0  美 ‘ 2018’ 내일 개막 · 스마트홈·커넥티드카 차세대 디스플레이 경쟁 막올라 ...  \n",
       "1  사회봉사의 대명사 ‘김장나눔’ 야쿠르트 아줌마 수천명 김장 유명세 겨울마다 수많은 ...  \n",
       "2  보건복지부와 한국건강증진개발원이 주최한 2019년 음주폐해예방의 달 기념식에서 백석...  \n",
       "3  야심작 ‘3’ 국내외 동시 출시 레드전자의 상징색의 역습이 시작됐다 초기 스마트폰 ...  \n",
       "4  정몽구 회장 현대가 실질적 장남 역할일가 챙겨아들 정의선 부회장 경영 최일선에서 그...  \n",
       "5  세계 3대 가전 박람회 개막 삼성 ‘새로운 일상’ 슬로건 걸고 ‘빅스비’ 냉장고 음...  \n",
       "6  조준호 본부장 간담회 “개발 단계부터 협력사와 함께” 삼성 갤8 공개 전 선점 총력...  \n",
       "7  위주 경영 벗어나… 삼성·애플과 정면승부 불가피 안드로이드 운영체제로 스마트폰 생태...  \n",
       "8  ▲ 스마트폰 3 3 화질 ‘25601440’ 세계 첫 장착 왜’화질의 ’라는 슬로건...  \n",
       "9  서울신문은 27일 올해 한국경제를 이끌어 갈 ‘우수기업 우수상품’에 총 15개 기업...  "
      ]
     },
     "execution_count": 25,
     "metadata": {},
     "output_type": "execute_result"
    }
   ],
   "source": [
    "data1"
   ]
  },
  {
   "cell_type": "code",
   "execution_count": null,
   "metadata": {},
   "outputs": [],
   "source": []
  }
 ],
 "metadata": {
  "kernelspec": {
   "display_name": "Python 3",
   "language": "python",
   "name": "python3"
  },
  "language_info": {
   "codemirror_mode": {
    "name": "ipython",
    "version": 3
   },
   "file_extension": ".py",
   "mimetype": "text/x-python",
   "name": "python",
   "nbconvert_exporter": "python",
   "pygments_lexer": "ipython3",
   "version": "3.7.6"
  }
 },
 "nbformat": 4,
 "nbformat_minor": 4
}
