{
 "cells": [
  {
   "cell_type": "code",
   "execution_count": 1,
   "id": "eeb23313",
   "metadata": {
    "ExecuteTime": {
     "end_time": "2021-08-10T03:31:11.865704Z",
     "start_time": "2021-08-10T03:31:11.472852Z"
    }
   },
   "outputs": [],
   "source": [
    "import tweepy\n",
    "import pandas as pd\n",
    "import re\n",
    "import os, sys\n",
    "import json\n",
    "sys.path.append(os.pardir)"
   ]
  },
  {
   "cell_type": "code",
   "execution_count": 2,
   "id": "bd631bd9",
   "metadata": {
    "ExecuteTime": {
     "end_time": "2021-08-10T03:31:12.677894Z",
     "start_time": "2021-08-10T03:31:12.673977Z"
    }
   },
   "outputs": [],
   "source": [
    "# def clean_text(text):\n",
    "#     emoji_pattern = re.compile(\"[\"\n",
    "#                            u\"\\U0001F600-\\U0001F64F\"  \n",
    "#                            u\"\\U0001F300-\\U0001F5FF\"  \n",
    "#                            u\"\\U0001F680-\\U0001F6FF\"\n",
    "#                            u\"\\U0001F1E0-\\U0001F1FF\"\n",
    "#                            \"]+\", flags=re.UNICODE)\n",
    "#     text = emoji_pattern.sub(' ', text)\n",
    "#     cleaned_text = re.sub('[a-zA-Z]', '', text)\n",
    "#     cleaned_text = re.sub('[\\{\\}\\[\\]\\/?.,;:|\\)*~`!^\\-_+<>@\\#$%&\\\\\\=\\(\\'\\\"]',\n",
    "#                           '', cleaned_text)\n",
    "#     cleaned_text = ' '.join(cleaned_text.split())\n",
    "#     return cleaned_text\n",
    "\n",
    "import re\n",
    "\n",
    "def clean_text(text):\n",
    "    cleaned_text = re.sub('[^ ㄱ-ㅣ가-힣]+',' ',text)\n",
    "    cleaned_text = ' '.join(cleaned_text.split())\n",
    "    return cleaned_text"
   ]
  },
  {
   "cell_type": "markdown",
   "id": "729a7f77",
   "metadata": {},
   "source": [
    "api_key.json 파일은 따로 올려드릴게요!"
   ]
  },
  {
   "cell_type": "code",
   "execution_count": 4,
   "id": "5f4436e4",
   "metadata": {
    "ExecuteTime": {
     "end_time": "2021-08-10T03:32:03.271741Z",
     "start_time": "2021-08-10T03:32:03.259520Z"
    }
   },
   "outputs": [],
   "source": [
    "key_path = 'C:/Users/hyunsoo/study/ds_project/api_key.json'\n",
    "with open(key_path,'r') as f:\n",
    "    key = json.load(f)\n",
    "\n",
    "# 개인정보 인증을 요청하는 Handler입니다.\n",
    "auth = tweepy.OAuthHandler(key['CONSUMER_KEY'], key['CONSUMER_SECRET'])\n",
    "\n",
    "# 인증 요청을 수행합니다.\n",
    "auth.set_access_token(key['ACCESS_TOKEN_KEY'], key['ACCESS_TOKEN_SECRET'])\n",
    "\n",
    "# twitter API를 사용하기 위한 준비입니다.\n",
    "api = tweepy.API(auth,wait_on_rate_limit=True)"
   ]
  },
  {
   "cell_type": "code",
   "execution_count": 6,
   "id": "e01684fe",
   "metadata": {
    "ExecuteTime": {
     "end_time": "2021-08-10T04:02:54.418083Z",
     "start_time": "2021-08-10T03:50:51.671052Z"
    }
   },
   "outputs": [],
   "source": [
    "keyword = \"풀무원\"\n",
    "\n",
    "def twitter_crawling(query):\n",
    "    columns = ['created', 'tweet_text']\n",
    "    df = pd.DataFrame(columns=columns)\n",
    "\n",
    "    max_tweets = 2000\n",
    "    searched_tweets = [status for status in tweepy.Cursor(api.search, q=keyword).items(max_tweets)]\n",
    "\n",
    "    for tweet in searched_tweets:\n",
    "        tweet_json = tweet._json\n",
    "        tweet_text = tweet_json['text']\n",
    "        created = tweet_json['created_at']\n",
    "        row = [created, tweet_text]\n",
    "        series = pd.Series(row, index=df.columns)\n",
    "        df = df.append(series, ignore_index=True)\n",
    "\n",
    "    df['tweet_text'] = df['tweet_text'].apply(lambda x : clean_text(x))\n",
    "    df = df.drop_duplicates(subset=['tweet_text'])\n",
    "    \n",
    "    return df\n",
    "\n",
    "data = twitter_crawling(keyword)"
   ]
  },
  {
   "cell_type": "code",
   "execution_count": 9,
   "id": "f9fc0caf",
   "metadata": {
    "ExecuteTime": {
     "end_time": "2021-08-10T04:24:48.905020Z",
     "start_time": "2021-08-10T04:24:48.887713Z"
    }
   },
   "outputs": [],
   "source": [
    "data.to_csv('testing.csv',encoding='CP949')"
   ]
  },
  {
   "cell_type": "code",
   "execution_count": 6,
   "id": "2d65b672",
   "metadata": {
    "ExecuteTime": {
     "end_time": "2021-08-09T07:21:15.973110Z",
     "start_time": "2021-08-09T07:21:15.938908Z"
    }
   },
   "outputs": [
    {
     "data": {
      "text/plain": [
       "array(['근육 쩌는 언니들이 포효하는거 분동안 보다가 김안산 보니까 걍 풀무원 순두부가 걸어다님',\n",
       "       '풀무원 두부바 너무 간편하고 먹기 좋은데', '풀무원 한끼 연두부 오리엔탈 유자 소스 개입 세트',\n",
       "       '어뭐야풀무원님이네',\n",
       "       '저 옛날에 콩나물 함 키워봣는데 제 콩나물은 엄청 초록색에 얇고 시들해서 다 밭에 비료로 줘보렸거든요 오마이갓리틀풀무원수석원구원이즈히얼',\n",
       "       '코스트코 가시는분들 꼭 저 풀무원 하트연두부를 사서 드십시오 완전 마싯습니당',\n",
       "       '머선 회 바른 먹거리 풀무원 쳐들어갔습니다 뿌뿌 회 몸을 사리지 않는 대결 풀무원 강호동',\n",
       "       '한때 역성장 냉동피자 오뚜기 풀무원 포기 못하는 이유',\n",
       "       '혼자만 알기 너무 아까워서 올리는 자장면 재료 이 두 가지로 만들어 먹었더니 매우 훌륭하다 사진 찍는 것도 잊고 정신없이 먹을 정도 면 신맛 덜어내는 거랑 소스 풍미를 올리는 방법을 찾아내는 게 앞으로의 과제 풀무',\n",
       "       '오늘 장본것 그릭요거트가 원플원인데 저지방이 하나뿐이라 플레인을 택했다 저지방이 구석에 숨어있어 손이 안닿아 낑낑거리자 옆에서 풀무원시식광고 하시는 분이 꺼내주셨다 감사합니다를 여러번 말했다 죄송해요 풀무',\n",
       "       '나는 다 알고 있지 하지만 걱정마여 나는 착즙 녹즙의 명가 풀무원 이니까',\n",
       "       '풀무원 순두부 에바 ㅠ 걍 순두부 연두부 내가 호로록 해버림',\n",
       "       '풀무원 정확한 네이밍을 위해 비빵밀집으로 정정 부탁드립니다',\n",
       "       '회 몸을 사리지 않는 대결 풀무원 강호동 샤이니 민호 머선',\n",
       "       '풀무원샘물 생수 팩 개 풀무원샘물 생수 파트너스 활동을 통해 일정액의 수수료를 제공받을 수 있음',\n",
       "       '생수 호불호 삼다수 호호호 아이시스 호호 에비앙 굳이 있음먹음 백산수 호 석수 쌉불호 풀무원샘물 불호 피지워터 모름 제주용암수 있음먹음 기타 평창수 극호 마켓컬리 지리산수 별로',\n",
       "       '생수 호불호 삼다수 극극극극극호 아이시스 불호 에비앙 불호 백산수 보통 석수 보통 풀무원샘물 보통 피지워터 보통 제주용암수 보통 기타 생각나는 게 없다',\n",
       "       '생수 호불호 삼다수 불호 아이시스 극ㄱ극극극호 에비앙 불호 잇으면마심 백산수 보통 석수 호 풀무원샘물 불호 피지워터 극불호 제주용암수 불호 기타 ㅇㅓ 음 다이앙몬드생수 불호',\n",
       "       '생수 호불호 삼다수 아이시스 에비앙 백산수 석수 풀무원샘물 피지워터 제주용암수 기타',\n",
       "       '이것은 식품공학의 승리 풀무원 두부텐더 푸주느낌의 포슬포슬 씹히는 두부반죽과 바삭매콤 자극적인 튀김옷이 만나니 진짜로 그럴듯한 텐더맛이 난다 눈감도 먹으면 치킨이라고 깜빡 속아줄 정도',\n",
       "       '풀무원 상무들 앞에서 표정 하나 안변하고 냅다 뿌뿌 갈기는 심지어 꾸러기 꾸러미 라임까지 맞추며 협상 시도하는 센스천재다람지 존나 존나 짱',\n",
       "       '풀무원 라면들 좋은데 왜 인기 없을까',\n",
       "       '오늘 세상을 잃었어 내가 전에 조와하던 라면 오랜만에 사먹어볼까 했는데 단종이래 이거 진짜진짜 맛있는데 아니 생면식감 라인 아직도 팔길래 돈코츠라멘도 파는줄알았는데 언제 소리소문없이 단종되',\n",
       "       '풀무원생수 병 풀무원생수 파트너스 활동을 통해 일정액의 수수료를 제공받을 수 있음',\n",
       "       '풀무원샘물 풀무원생수 병 풀무원샘물 풀무원생수 파트너스 활동을 통해 일정액의 수수료를 제공받을 수 있음',\n",
       "       '풀무원 냉동 베이커리 라인업 확장 쌀가루 냉동 빵 비밀빵집 출시',\n",
       "       'ㅋㅋㅋㅋㅋㅋㅋ실제로 저는 풀무원김치랑 햇반 챙겨갔었어요 캐리어에서 빼는데 잠옷에 김치냄새가 배였더라구요',\n",
       "       '아침으로 들기름 막국수 말아먹엇삼 오뚜기 고기리 꺼는 아직 못먹어봤는데 풀무원 들막도 아주 맛있다 면이 쫄깃해서 넘 조아',\n",
       "       '풀무원다논 그릭요거트 달지않은플레인 개 플레인 개 파트너스 활동을 통해 수수료를 제공받을 수 있음',\n",
       "       '핫딜발견 풀무원 사계절 아삭 포기김치 원 먹을것 마켓 핫딜 지름 알구몬',\n",
       "       '핫딜발견 풀무원 얇은피만두 봉 원 먹을것 마켓 핫딜 지름 알구몬', '번가 풀무원 몰 입점 유통허브 구축',\n",
       "       '마자요 진짜 광일이 의식의 흐름 같은게 우리 누나 집 앞에 풀무원이 있으니까 풀무원 해야지 한거 ㅋㅋㅋㅋㅋㅋ 하 ㅠㅠ 이게무슨ㅠ',\n",
       "       '방울만두 왠지 있을거같았는데 진짜 있네 풀무원 방울만두 밀가루 의 찹쌀감자피만두',\n",
       "       '풀무원 낫또가 너무 마싯대서 나도 먹어보고싶우',\n",
       "       '넣는 족족 순삭되는 민호의 클라쓰가 다른 먹방 이 열쩡 가지고 풀무원과 현피뜨러 갑니다 보러 가기 호동이가 승리하면 선물이 쏟아진다 본격 선물 제',\n",
       "       '회 바른 먹거리 풀무원 쳐들어갔습니다 뿌뿌 샤이니 민호 머선', '칭구들아 풀무원 밀 누들 떡볶이 맛있어용 머거봐용',\n",
       "       '아 ㅅ 발 고민하다 결국 풀무원 국물떡볶이 까서 빡빡 만들다가 헉 왈각이 맵찔이면 어덕하지 하는 생각 들어서 쿨피스 이리터짜리 사 옴',\n",
       "       '풀무원 볶음밥 요 두개가 맛있거든요 근데 이걸 불 앞에 서서 팬에 달달 볶아줘야 그 맛이 나는데 그걸 램프쿡이 알아서 해줘요 나중에 날계란 깨서 넣어주면 자동 크램블',\n",
       "       '아워홈 곤약 비빔면 풀무원 두부면',\n",
       "       '민호의 코어 힘이 머선 를 구한다 이길 준비 된 민호 호동이와 함께 풀무원과 현피 뜨러 가자 보러 가기 본격 선물 제공 현피 버라이어티 머선',\n",
       "       '풀무원잇슬핌밸런스', '풀무원 순두부라니 다들 비유천재 넘 기엽고 말랑말랑', '풀무원 다논 요거톡 링 초코볼 개입',\n",
       "       '아 그거 레토르트에요ㅋㅋ 풀무원 치즈그라탕 검색하시면 나올거에요 하지만 그냥 순두부에 토마토소스랑 모짜렐라 넣고 만들어도 똑같은 맛일듯한',\n",
       "       '번가 풀무원 몰 입점 유통허브 노린다', '아ㅠㅠ 풀무원순두부광고 빨리 얘 주라고', '풀무원순두부'],\n",
       "      dtype=object)"
      ]
     },
     "execution_count": 6,
     "metadata": {},
     "output_type": "execute_result"
    }
   ],
   "source": [
    "data['tweet_text'].unique()"
   ]
  }
 ],
 "metadata": {
  "kernelspec": {
   "display_name": "Python 3",
   "language": "python",
   "name": "python3"
  },
  "language_info": {
   "codemirror_mode": {
    "name": "ipython",
    "version": 3
   },
   "file_extension": ".py",
   "mimetype": "text/x-python",
   "name": "python",
   "nbconvert_exporter": "python",
   "pygments_lexer": "ipython3",
   "version": "3.8.8"
  },
  "toc": {
   "base_numbering": 1,
   "nav_menu": {},
   "number_sections": true,
   "sideBar": true,
   "skip_h1_title": false,
   "title_cell": "Table of Contents",
   "title_sidebar": "Contents",
   "toc_cell": false,
   "toc_position": {},
   "toc_section_display": true,
   "toc_window_display": false
  },
  "varInspector": {
   "cols": {
    "lenName": 16,
    "lenType": 16,
    "lenVar": 40
   },
   "kernels_config": {
    "python": {
     "delete_cmd_postfix": "",
     "delete_cmd_prefix": "del ",
     "library": "var_list.py",
     "varRefreshCmd": "print(var_dic_list())"
    },
    "r": {
     "delete_cmd_postfix": ") ",
     "delete_cmd_prefix": "rm(",
     "library": "var_list.r",
     "varRefreshCmd": "cat(var_dic_list()) "
    }
   },
   "types_to_exclude": [
    "module",
    "function",
    "builtin_function_or_method",
    "instance",
    "_Feature"
   ],
   "window_display": false
  }
 },
 "nbformat": 4,
 "nbformat_minor": 5
}
