{
  "nbformat": 4,
  "nbformat_minor": 0,
  "metadata": {
    "accelerator": "GPU",
    "colab": {
      "name": "cent_dict.ipynb",
      "provenance": [],
      "collapsed_sections": []
    },
    "kernelspec": {
      "display_name": "Python 3",
      "name": "python3"
    },
    "language_info": {
      "name": "python"
    }
  },
  "cells": [
    {
      "cell_type": "code",
      "metadata": {
        "id": "FKBKoKxebZTd"
      },
      "source": [
        "!apt-get update \n",
        "!apt-get install g++ openjdk-8-jdk \n",
        "!pip install konlpy JPype1-py3 \n",
        "!bash <(curl -s https://raw.githubusercontent.com/konlpy/konlpy/master/scripts/mecab.sh)"
      ],
      "execution_count": null,
      "outputs": []
    },
    {
      "cell_type": "markdown",
      "metadata": {
        "id": "icpNexW2cAVN"
      },
      "source": [
        "1. 이 데이터셋만 사용하여 학습(현재 베이스라인==Logistic Regression)  \n",
        "2. 우리 데이터셋 안에 단어가 없다면? 말뭉치에서 유사한 단어 가져오기  \n",
        "감성 말뭉치 데이터셋 사용하려면, 우리가 원하는 결과에 맞게 label을 수정하는 것이 좋을 듯"
      ]
    },
    {
      "cell_type": "code",
      "metadata": {
        "id": "lGt_AVOMazDb"
      },
      "source": [
        "import pandas as pd\n",
        "import numpy as np\n",
        "import matplotlib.pyplot as plt\n",
        "import seaborn as sns\n",
        "from konlpy.tag import Okt\n",
        "\n",
        "okt = Okt()"
      ],
      "execution_count": 1,
      "outputs": []
    },
    {
      "cell_type": "code",
      "metadata": {
        "id": "DtbrxxVtcfvP"
      },
      "source": [
        "file_path ='/content/drive/MyDrive/data/centi_data/'"
      ],
      "execution_count": 2,
      "outputs": []
    },
    {
      "cell_type": "code",
      "metadata": {
        "id": "uQL6Jwm1bPjU"
      },
      "source": [
        "train = pd.read_excel(file_path+'train.xlsx')"
      ],
      "execution_count": null,
      "outputs": []
    },
    {
      "cell_type": "code",
      "metadata": {
        "id": "gKz0kCl8cnZ4"
      },
      "source": [
        "train.head(5)"
      ],
      "execution_count": null,
      "outputs": []
    },
    {
      "cell_type": "code",
      "metadata": {
        "colab": {
          "base_uri": "https://localhost:8080/"
        },
        "id": "1Mm8aZFncsGN",
        "outputId": "bdd4abfc-73a7-4a14-e9d5-d0d2609147fd"
      },
      "source": [
        "train['감정_소분류'].unique()"
      ],
      "execution_count": null,
      "outputs": [
        {
          "output_type": "execute_result",
          "data": {
            "text/plain": [
              "array(['신이 난', '스트레스 받는', '당황', '안도', '취약한', '우울한', '구역질 나는', '좌절한',\n",
              "       '눈물이 나는', '배신당한', '남의 시선을 의식하는', '죄책감의', '당혹스러운', '분노', '두려운',\n",
              "       '낙담한', '회의적인', '마비된', '혼란스러운', '흥분', '한심한', '염세적인', '안달하는',\n",
              "       '걱정스러운', '조심스러운', '충격 받은', '상처', '불안', '노여워하는', '기쁨', '짜증내는',\n",
              "       '환멸을 느끼는', '비통한', '혐오스러운', '억울한', '만족스러운', '부끄러운', '버려진', '고립된',\n",
              "       '괴로워하는', '자신하는', '외로운', '방어적인', '편안한', '질투하는', '감사하는', '초조한',\n",
              "       '실망한', '슬픔', '신뢰하는', '가난한, 불우한', '후회되는', '툴툴대는', '성가신', '열등감',\n",
              "       '희생된', '느긋', '악의적인'], dtype=object)"
            ]
          },
          "metadata": {
            "tags": []
          },
          "execution_count": 5
        }
      ]
    },
    {
      "cell_type": "code",
      "metadata": {
        "id": "3k9UY9zgc0kt"
      },
      "source": [
        "unknown=['신이 난', '스트레스 받는', '당황', '구역질 나는', '좌절한', '눈물이 나는', '배신당한', '남의 시선을 의식하는', '죄책감의', '당혹스러운', '낙담한', '회의적인', '마비된',\n",
        "\t '흥분', '염세적인', '안달하는', '걱정스러운', '조심스러운', '충격 받은', '노여워하는', '짜증내는', '환멸을 느끼는', '혐오스러운', '버려진', '고립된', '자신하는', '방어적인',\n",
        "\t '질투하는', '신뢰하는', '가난한, 불우한', '후회되는', '툴툴대는', '성가신', '열등감', '희생된', '느긋']"
      ],
      "execution_count": null,
      "outputs": []
    },
    {
      "cell_type": "code",
      "metadata": {
        "colab": {
          "base_uri": "https://localhost:8080/"
        },
        "id": "gG0nMH0Ogurp",
        "outputId": "e199adbb-98de-4338-d70f-824e894740da"
      },
      "source": [
        "train['상황키워드'].unique()"
      ],
      "execution_count": null,
      "outputs": [
        {
          "output_type": "execute_result",
          "data": {
            "text/plain": [
              "array(['연애, 결혼, 출산', '건강, 죽음', '학업 및 진로', '재정', '재정, 은퇴, 노후준비', '건강',\n",
              "       '학교폭력/따돌림', '대인관계', '진로, 취업, 직장', '가족관계', '직장, 업무 스트레스',\n",
              "       '대인관계(부부, 자녀)'], dtype=object)"
            ]
          },
          "metadata": {
            "tags": []
          },
          "execution_count": 19
        }
      ]
    },
    {
      "cell_type": "code",
      "metadata": {
        "id": "fwY5du2Nfp7F"
      },
      "source": [
        "y = pd.get_dummies(train['감정_소분류'])"
      ],
      "execution_count": null,
      "outputs": []
    },
    {
      "cell_type": "code",
      "metadata": {
        "id": "WBHLs0M6glkK"
      },
      "source": [
        "train.iloc[0][7:].dropna().tolist()\n",
        "d_set = pd.DataFrame(columns=['text','label'])\n",
        "for x in range(len(train)):\n",
        "  train_x = train.iloc[x][7:].dropna().tolist()\n",
        "  train_y = train.iloc[x]['감정_소분류']\n",
        "  tmp = pd.DataFrame({'text':train_x,\n",
        "                      'label':[train_y]*len(train_x)})\n",
        "  d_set=d_set.append(tmp)"
      ],
      "execution_count": null,
      "outputs": []
    },
    {
      "cell_type": "code",
      "metadata": {
        "id": "X0DP9DmwoLlL"
      },
      "source": [
        "from konlpy.tag import Okt\n",
        "from sklearn.feature_extraction.text import TfidfVectorizer\n",
        "from sklearn.model_selection import train_test_split\n",
        "\n",
        "from sklearn.linear_model import LogisticRegressionCV\n",
        "\n",
        "from sklearn.metrics import accuracy_score\n",
        "import re\n",
        "\n",
        "import gensim\n",
        "from lxml import etree\n",
        "\n",
        "import nltk\n",
        "from nltk.tokenize import word_tokenize, sent_tokenize\n",
        "from nltk.corpus import stopwords\n",
        "\n",
        "from gensim.models.word2vec import Word2Vec\n",
        "\n",
        "import tensorflow as tf\n",
        "from tensorflow.keras.preprocessing.sequence import pad_sequences"
      ],
      "execution_count": 9,
      "outputs": []
    },
    {
      "cell_type": "code",
      "metadata": {
        "id": "-ZrKSmVPpp1H"
      },
      "source": [
        "d_set = pd.read_csv(file_path+'train_data.csv')"
      ],
      "execution_count": 4,
      "outputs": []
    },
    {
      "cell_type": "code",
      "metadata": {
        "id": "4i_RYdj_mXOo"
      },
      "source": [
        "# testing\n",
        "def convert(text):\n",
        "  pos = ['신이 난','기쁨','만족스러운','자신하는','편안한','감사하는','신뢰하는','안도']\n",
        "  neg = ['스트레스 받는', '당황',  '취약한', '우울한', '구역질 나는', '좌절한',\n",
        "\t\t   '눈물이 나는', '배신당한', '남의 시선을 의식하는', '죄책감의', '당혹스러운', '분노', '두려운',\n",
        "\t\t   '낙담한', '회의적인', '마비된', '혼란스러운', '흥분', '한심한', '염세적인', '안달하는',\n",
        "\t\t   '걱정스러운', '조심스러운', '충격 받은', '상처', '불안', '노여워하는',\n",
        "\t\t   '짜증내는','질투하는','초조한', '실망한', '슬픔', '가난한, 불우한', '후회되는', '툴툴대는', '성가신', '열등감',\n",
        "\t\t   '희생된','느긋', '악의적인','환멸을 느끼는', '비통한', '혐오스러운', '억울한','부끄러운', '버려진', '고립된','외로운', '방어적인', \n",
        "\t\t   '괴로워하는']\n",
        "  if text in pos:\n",
        "    return 1\n",
        "  else:\n",
        "    return -1\n",
        "\n",
        "d_set['encoded'] = d_set['label'].apply(lambda x: convert(x))"
      ],
      "execution_count": 5,
      "outputs": []
    },
    {
      "cell_type": "code",
      "metadata": {
        "id": "Qsto1p6Nh8W8"
      },
      "source": [
        "okt = Okt()\n",
        "def tokenizer(text):\n",
        "    re.sub('[\\W]',' ',text)\n",
        "    result = []\n",
        "    token_pos = okt.pos(text)\n",
        "    for word, pos in token_pos:\n",
        "        if (pos != 'KoreanParticle'):\n",
        "            result.append(word)\n",
        "    return result"
      ],
      "execution_count": 6,
      "outputs": []
    },
    {
      "cell_type": "code",
      "metadata": {
        "id": "z4CEaaOXpeiY"
      },
      "source": [
        "x = d_set['text']\n",
        "y = d_set['encoded']\n",
        "# tfidf = TfidfVectorizer(max_features=1000,tokenizer=tokenizer)\n",
        "# x_tdm = tfidf.fit_transform(x)"
      ],
      "execution_count": 7,
      "outputs": []
    },
    {
      "cell_type": "code",
      "metadata": {
        "id": "NwGYVInMgZFW"
      },
      "source": [
        "x = d_set['text'].apply(lambda x : tokenizer(x))\n",
        "# y = d_set['encoded']\n",
        "y = pd.get_dummies(d_set['label'])"
      ],
      "execution_count": 8,
      "outputs": []
    },
    {
      "cell_type": "markdown",
      "metadata": {
        "id": "0egGGA_v4tbf"
      },
      "source": [
        "word2vec 구축 시 dataset merge  \n",
        "이를 하면 우리가 구축한 dataset 과 유사도 측정 가능"
      ]
    },
    {
      "cell_type": "code",
      "metadata": {
        "id": "9rQLPhyzfxr4"
      },
      "source": [
        "w2v =  Word2Vec(x, size=1000,\n",
        "                window=10, min_count=10,workers=-1,sg=0)"
      ],
      "execution_count": 10,
      "outputs": []
    },
    {
      "cell_type": "code",
      "metadata": {
        "id": "X1ZzZVWNqurY"
      },
      "source": [
        "vocab_shape = w2v.wv.vectors.shape\n",
        "embedding_matrix = np.zeros((vocab_shape[0],vocab_shape[1]))\n",
        "embedding_matrix = w2v.wv.vectors"
      ],
      "execution_count": 14,
      "outputs": []
    },
    {
      "cell_type": "code",
      "metadata": {
        "id": "74WCa6cUrB9U"
      },
      "source": [
        "def get_vector(word):\n",
        "    if word in w2v.wv:\n",
        "        return w2v.wv[word]\n",
        "    else:\n",
        "        return None"
      ],
      "execution_count": 15,
      "outputs": []
    },
    {
      "cell_type": "code",
      "metadata": {
        "id": "xIQwy1z6uXN7"
      },
      "source": [
        "x = x.apply(lambda a : np.array([w2v.wv.index2word.index(t) for t in a if t in w2v.wv.index2word]))\n",
        "max_len = max(x.apply(lambda a : len(a)).tolist())\n",
        "\n",
        "x_train = pad_sequences(x,maxlen=max_len,padding='post')\n",
        "y_train = y.to_numpy()"
      ],
      "execution_count": 17,
      "outputs": []
    },
    {
      "cell_type": "code",
      "metadata": {
        "colab": {
          "base_uri": "https://localhost:8080/"
        },
        "id": "jsHu-Zmsbebm",
        "outputId": "4da20565-dcd8-433e-bdfa-576b8509b810"
      },
      "source": [
        "import tensorflow as tf\n",
        "\n",
        "model = tf.keras.Sequential([\n",
        "  tf.keras.layers.Embedding(vocab_shape[0],vocab_shape[1], weights=[embedding_matrix],\n",
        "                            input_length=max_len, trainable=False),\n",
        "  tf.keras.layers.LSTM(units=128),\n",
        "  tf.keras.layers.Dense(y_train.shape[1], activation='softmax')\n",
        "])\n",
        "\n",
        "model.compile(optimizer='adam', loss='categorical_crossentropy', metrics=['accuracy'])\n",
        "model.summary()"
      ],
      "execution_count": 41,
      "outputs": [
        {
          "output_type": "stream",
          "text": [
            "Model: \"sequential_7\"\n",
            "_________________________________________________________________\n",
            "Layer (type)                 Output Shape              Param #   \n",
            "=================================================================\n",
            "embedding_7 (Embedding)      (None, 59, 1000)          10926000  \n",
            "_________________________________________________________________\n",
            "lstm_12 (LSTM)               (None, 128)               578048    \n",
            "_________________________________________________________________\n",
            "dense_7 (Dense)              (None, 58)                7482      \n",
            "=================================================================\n",
            "Total params: 11,511,530\n",
            "Trainable params: 585,530\n",
            "Non-trainable params: 10,926,000\n",
            "_________________________________________________________________\n"
          ],
          "name": "stdout"
        }
      ]
    },
    {
      "cell_type": "markdown",
      "metadata": {
        "id": "pFHRmVFKnuoA"
      },
      "source": [
        "현재 학습이 잘 안됨.  \n",
        "이유  \n",
        "1. embedding을 고정시켜서?  \n",
        "2. lstm 구조를 바꿔야하는가?\n"
      ]
    },
    {
      "cell_type": "code",
      "metadata": {
        "colab": {
          "base_uri": "https://localhost:8080/"
        },
        "id": "omGpzCDdivpY",
        "outputId": "ade124ce-4188-4caa-d7dc-aa84b20b198c"
      },
      "source": [
        "history = model.fit(x_train,y_train,epochs=5,verbose=2)"
      ],
      "execution_count": 42,
      "outputs": [
        {
          "output_type": "stream",
          "text": [
            "Epoch 1/5\n",
            "7140/7140 - 106s - loss: 4.0454 - accuracy: 0.0327\n",
            "Epoch 2/5\n",
            "7140/7140 - 105s - loss: 4.0443 - accuracy: 0.0332\n",
            "Epoch 3/5\n",
            "7140/7140 - 104s - loss: 4.0441 - accuracy: 0.0331\n",
            "Epoch 4/5\n",
            "7140/7140 - 104s - loss: 4.0440 - accuracy: 0.0333\n",
            "Epoch 5/5\n",
            "7140/7140 - 105s - loss: 4.0440 - accuracy: 0.0333\n"
          ],
          "name": "stdout"
        }
      ]
    },
    {
      "cell_type": "code",
      "metadata": {
        "colab": {
          "base_uri": "https://localhost:8080/",
          "height": 176
        },
        "id": "9I8KA8tpsYxQ",
        "outputId": "d19332dc-3923-42e9-dbb8-0ff387b4a33e"
      },
      "source": [
        "x_tdm"
      ],
      "execution_count": 36,
      "outputs": [
        {
          "output_type": "error",
          "ename": "NameError",
          "evalue": "ignored",
          "traceback": [
            "\u001b[0;31m---------------------------------------------------------------------------\u001b[0m",
            "\u001b[0;31mNameError\u001b[0m                                 Traceback (most recent call last)",
            "\u001b[0;32m<ipython-input-36-ed1cda689065>\u001b[0m in \u001b[0;36m<module>\u001b[0;34m()\u001b[0m\n\u001b[0;32m----> 1\u001b[0;31m \u001b[0mx_tdm\u001b[0m\u001b[0;34m\u001b[0m\u001b[0;34m\u001b[0m\u001b[0m\n\u001b[0m",
            "\u001b[0;31mNameError\u001b[0m: name 'x_tdm' is not defined"
          ]
        }
      ]
    },
    {
      "cell_type": "markdown",
      "metadata": {
        "id": "7Tmni9wPlimO"
      },
      "source": [
        "# Rogistic Regression"
      ]
    },
    {
      "cell_type": "code",
      "metadata": {
        "id": "Btt244iyqGEA"
      },
      "source": [
        "x_train, x_test, y_train, y_test = train_test_split(x_tdm,y,\n",
        "                                                   test_size=0.3,\n",
        "                                                   random_state=42)"
      ],
      "execution_count": null,
      "outputs": []
    },
    {
      "cell_type": "code",
      "metadata": {
        "colab": {
          "base_uri": "https://localhost:8080/"
        },
        "id": "qdVyDCaxrSW9",
        "outputId": "8d20738e-4dfa-4dd5-f66a-065019e6a210"
      },
      "source": [
        "lr_clf = LogisticRegressionCV(max_iter=1000)\n",
        "lr_clf.fit(x_train,y_train)\n",
        "print(lr_clf.score(x_train,y_train))\n",
        "\n",
        "pred =lr_clf.predict(x_test)\n",
        "print(accuracy_score(y_test,pred))"
      ],
      "execution_count": null,
      "outputs": [
        {
          "output_type": "stream",
          "text": [
            "0.8888680460460084\n",
            "0.8882858435097241\n"
          ],
          "name": "stdout"
        }
      ]
    },
    {
      "cell_type": "code",
      "metadata": {
        "colab": {
          "base_uri": "https://localhost:8080/",
          "height": 206
        },
        "id": "71eflKOgrTXO",
        "outputId": "6695ada5-de24-40b3-bd54-df4e34e58501"
      },
      "source": [
        "st_df = pd.DataFrame({'단어':tfidf.get_feature_names(),\n",
        "                      '회귀계수':lr_clf.coef_.flat})\n",
        "st_df.tail()"
      ],
      "execution_count": null,
      "outputs": [
        {
          "output_type": "execute_result",
          "data": {
            "text/html": [
              "<div>\n",
              "<style scoped>\n",
              "    .dataframe tbody tr th:only-of-type {\n",
              "        vertical-align: middle;\n",
              "    }\n",
              "\n",
              "    .dataframe tbody tr th {\n",
              "        vertical-align: top;\n",
              "    }\n",
              "\n",
              "    .dataframe thead th {\n",
              "        text-align: right;\n",
              "    }\n",
              "</style>\n",
              "<table border=\"1\" class=\"dataframe\">\n",
              "  <thead>\n",
              "    <tr style=\"text-align: right;\">\n",
              "      <th></th>\n",
              "      <th>단어</th>\n",
              "      <th>회귀계수</th>\n",
              "    </tr>\n",
              "  </thead>\n",
              "  <tbody>\n",
              "    <tr>\n",
              "      <th>995</th>\n",
              "      <td>힘드시군요</td>\n",
              "      <td>-9.369579</td>\n",
              "    </tr>\n",
              "    <tr>\n",
              "      <th>996</th>\n",
              "      <td>힘든</td>\n",
              "      <td>-0.396638</td>\n",
              "    </tr>\n",
              "    <tr>\n",
              "      <th>997</th>\n",
              "      <td>힘들</td>\n",
              "      <td>0.291997</td>\n",
              "    </tr>\n",
              "    <tr>\n",
              "      <th>998</th>\n",
              "      <td>힘들고</td>\n",
              "      <td>-2.579653</td>\n",
              "    </tr>\n",
              "    <tr>\n",
              "      <th>999</th>\n",
              "      <td>힘들어</td>\n",
              "      <td>-5.590216</td>\n",
              "    </tr>\n",
              "  </tbody>\n",
              "</table>\n",
              "</div>"
            ],
            "text/plain": [
              "        단어      회귀계수\n",
              "995  힘드시군요 -9.369579\n",
              "996     힘든 -0.396638\n",
              "997     힘들  0.291997\n",
              "998    힘들고 -2.579653\n",
              "999    힘들어 -5.590216"
            ]
          },
          "metadata": {
            "tags": []
          },
          "execution_count": 15
        }
      ]
    },
    {
      "cell_type": "code",
      "metadata": {
        "colab": {
          "base_uri": "https://localhost:8080/",
          "height": 206
        },
        "id": "mwaDkTQQrngQ",
        "outputId": "74fce393-65d8-459e-8a12-d49ccd27ae55"
      },
      "source": [
        "st_neg = st_df[st_df['회귀계수']<0].sort_values('회귀계수')\n",
        "st_neg.head()"
      ],
      "execution_count": null,
      "outputs": [
        {
          "output_type": "execute_result",
          "data": {
            "text/html": [
              "<div>\n",
              "<style scoped>\n",
              "    .dataframe tbody tr th:only-of-type {\n",
              "        vertical-align: middle;\n",
              "    }\n",
              "\n",
              "    .dataframe tbody tr th {\n",
              "        vertical-align: top;\n",
              "    }\n",
              "\n",
              "    .dataframe thead th {\n",
              "        text-align: right;\n",
              "    }\n",
              "</style>\n",
              "<table border=\"1\" class=\"dataframe\">\n",
              "  <thead>\n",
              "    <tr style=\"text-align: right;\">\n",
              "      <th></th>\n",
              "      <th>단어</th>\n",
              "      <th>회귀계수</th>\n",
              "    </tr>\n",
              "  </thead>\n",
              "  <tbody>\n",
              "    <tr>\n",
              "      <th>461</th>\n",
              "      <td>속상하시겠어요</td>\n",
              "      <td>-15.476448</td>\n",
              "    </tr>\n",
              "    <tr>\n",
              "      <th>978</th>\n",
              "      <td>혼란</td>\n",
              "      <td>-13.613267</td>\n",
              "    </tr>\n",
              "    <tr>\n",
              "      <th>484</th>\n",
              "      <td>슬퍼</td>\n",
              "      <td>-12.903112</td>\n",
              "    </tr>\n",
              "    <tr>\n",
              "      <th>575</th>\n",
              "      <td>억울해</td>\n",
              "      <td>-12.781573</td>\n",
              "    </tr>\n",
              "    <tr>\n",
              "      <th>935</th>\n",
              "      <td>한심해</td>\n",
              "      <td>-12.416772</td>\n",
              "    </tr>\n",
              "  </tbody>\n",
              "</table>\n",
              "</div>"
            ],
            "text/plain": [
              "          단어       회귀계수\n",
              "461  속상하시겠어요 -15.476448\n",
              "978       혼란 -13.613267\n",
              "484       슬퍼 -12.903112\n",
              "575      억울해 -12.781573\n",
              "935      한심해 -12.416772"
            ]
          },
          "metadata": {
            "tags": []
          },
          "execution_count": 16
        }
      ]
    },
    {
      "cell_type": "code",
      "metadata": {
        "colab": {
          "base_uri": "https://localhost:8080/",
          "height": 206
        },
        "id": "UnuJIFE6ronL",
        "outputId": "bb14e526-23e4-4592-c6ae-99721985df14"
      },
      "source": [
        "st_pos = st_df[st_df['회귀계수']>0].sort_values('회귀계수',ascending=False)\n",
        "st_pos.head()"
      ],
      "execution_count": null,
      "outputs": [
        {
          "output_type": "execute_result",
          "data": {
            "text/html": [
              "<div>\n",
              "<style scoped>\n",
              "    .dataframe tbody tr th:only-of-type {\n",
              "        vertical-align: middle;\n",
              "    }\n",
              "\n",
              "    .dataframe tbody tr th {\n",
              "        vertical-align: top;\n",
              "    }\n",
              "\n",
              "    .dataframe thead th {\n",
              "        text-align: right;\n",
              "    }\n",
              "</style>\n",
              "<table border=\"1\" class=\"dataframe\">\n",
              "  <thead>\n",
              "    <tr style=\"text-align: right;\">\n",
              "      <th></th>\n",
              "      <th>단어</th>\n",
              "      <th>회귀계수</th>\n",
              "    </tr>\n",
              "  </thead>\n",
              "  <tbody>\n",
              "    <tr>\n",
              "      <th>190</th>\n",
              "      <td>다행</td>\n",
              "      <td>7.407279</td>\n",
              "    </tr>\n",
              "    <tr>\n",
              "      <th>505</th>\n",
              "      <td>신뢰</td>\n",
              "      <td>7.239126</td>\n",
              "    </tr>\n",
              "    <tr>\n",
              "      <th>113</th>\n",
              "      <td>기뻐</td>\n",
              "      <td>6.291304</td>\n",
              "    </tr>\n",
              "    <tr>\n",
              "      <th>213</th>\n",
              "      <td>덕분</td>\n",
              "      <td>6.134323</td>\n",
              "    </tr>\n",
              "    <tr>\n",
              "      <th>115</th>\n",
              "      <td>기쁘시군요</td>\n",
              "      <td>5.015769</td>\n",
              "    </tr>\n",
              "  </tbody>\n",
              "</table>\n",
              "</div>"
            ],
            "text/plain": [
              "        단어      회귀계수\n",
              "190     다행  7.407279\n",
              "505     신뢰  7.239126\n",
              "113     기뻐  6.291304\n",
              "213     덕분  6.134323\n",
              "115  기쁘시군요  5.015769"
            ]
          },
          "metadata": {
            "tags": []
          },
          "execution_count": 17
        }
      ]
    },
    {
      "cell_type": "code",
      "metadata": {
        "colab": {
          "base_uri": "https://localhost:8080/"
        },
        "id": "19qolDZ-rrrF",
        "outputId": "496faef2-2430-477d-c7e8-095739c27e87"
      },
      "source": [
        "st_df['극성'] = np.sign(st_df['회귀계수'])\n",
        "\n",
        "st_df.tail()\n",
        "print(st_df['극성'].value_counts())"
      ],
      "execution_count": null,
      "outputs": [
        {
          "output_type": "stream",
          "text": [
            "-1.0    592\n",
            " 1.0    408\n",
            "Name: 극성, dtype: int64\n"
          ],
          "name": "stdout"
        }
      ]
    },
    {
      "cell_type": "code",
      "metadata": {
        "colab": {
          "base_uri": "https://localhost:8080/"
        },
        "id": "XbrA75DDrtCK",
        "outputId": "8435d418-7747-48d2-c12e-3fcc37099c27"
      },
      "source": [
        "st_df['극성'].sum()/st_df['극성'].abs().sum()"
      ],
      "execution_count": null,
      "outputs": [
        {
          "output_type": "execute_result",
          "data": {
            "text/plain": [
              "-0.184"
            ]
          },
          "metadata": {
            "tags": []
          },
          "execution_count": 19
        }
      ]
    },
    {
      "cell_type": "code",
      "metadata": {
        "id": "-0VJ7LWmruPG"
      },
      "source": [
        "st_pos['단어'].tolist()"
      ],
      "execution_count": null,
      "outputs": []
    },
    {
      "cell_type": "code",
      "metadata": {
        "colab": {
          "base_uri": "https://localhost:8080/",
          "height": 81
        },
        "id": "DOV2B8jGsEuw",
        "outputId": "75ed0e84-ad87-44b8-97fb-91f57d6eb5e6"
      },
      "source": [
        "st_pos[st_pos['단어']=='폭력']"
      ],
      "execution_count": null,
      "outputs": [
        {
          "output_type": "execute_result",
          "data": {
            "text/html": [
              "<div>\n",
              "<style scoped>\n",
              "    .dataframe tbody tr th:only-of-type {\n",
              "        vertical-align: middle;\n",
              "    }\n",
              "\n",
              "    .dataframe tbody tr th {\n",
              "        vertical-align: top;\n",
              "    }\n",
              "\n",
              "    .dataframe thead th {\n",
              "        text-align: right;\n",
              "    }\n",
              "</style>\n",
              "<table border=\"1\" class=\"dataframe\">\n",
              "  <thead>\n",
              "    <tr style=\"text-align: right;\">\n",
              "      <th></th>\n",
              "      <th>단어</th>\n",
              "      <th>회귀계수</th>\n",
              "    </tr>\n",
              "  </thead>\n",
              "  <tbody>\n",
              "    <tr>\n",
              "      <th>880</th>\n",
              "      <td>폭력</td>\n",
              "      <td>0.597697</td>\n",
              "    </tr>\n",
              "  </tbody>\n",
              "</table>\n",
              "</div>"
            ],
            "text/plain": [
              "     단어      회귀계수\n",
              "880  폭력  0.597697"
            ]
          },
          "metadata": {
            "tags": []
          },
          "execution_count": 21
        }
      ]
    },
    {
      "cell_type": "code",
      "metadata": {
        "id": "Fh-8THuqsRS2"
      },
      "source": [
        ""
      ],
      "execution_count": null,
      "outputs": []
    }
  ]
}