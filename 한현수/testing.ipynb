{
 "cells": [
  {
   "cell_type": "code",
   "execution_count": 45,
   "id": "f30162b3",
   "metadata": {
    "ExecuteTime": {
     "end_time": "2021-08-10T02:44:15.301533Z",
     "start_time": "2021-08-10T02:44:15.285885Z"
    }
   },
   "outputs": [],
   "source": [
    "import pandas as pd\n",
    "import os, sys\n",
    "import re"
   ]
  },
  {
   "cell_type": "code",
   "execution_count": 46,
   "id": "5ef8e511",
   "metadata": {
    "ExecuteTime": {
     "end_time": "2021-08-10T02:44:15.565309Z",
     "start_time": "2021-08-10T02:44:15.557618Z"
    }
   },
   "outputs": [],
   "source": [
    "csv_list = [csv for csv in os.listdir() if ('csv' in csv)]"
   ]
  },
  {
   "cell_type": "code",
   "execution_count": 43,
   "id": "fa84281a",
   "metadata": {
    "ExecuteTime": {
     "end_time": "2021-08-10T02:44:02.907620Z",
     "start_time": "2021-08-10T02:44:02.899631Z"
    }
   },
   "outputs": [],
   "source": [
    "def clean_text(text):\n",
    "    cleaned_text = re.sub('[^ ㄱ-ㅣ가-힣]+',' ',text)\n",
    "    cleaned_text = ' '.join(cleaned_text.split())\n",
    "    return cleaned_text"
   ]
  },
  {
   "cell_type": "code",
   "execution_count": 39,
   "id": "32da4230",
   "metadata": {
    "ExecuteTime": {
     "end_time": "2021-08-10T02:42:07.656912Z",
     "start_time": "2021-08-10T02:42:07.604566Z"
    }
   },
   "outputs": [
    {
     "name": "stdout",
     "output_type": "stream",
     "text": [
      "nnnn\n",
      "nnnn\n",
      "nnnn\n",
      "nnnn\n",
      "nnnn\n",
      "nnnn\n",
      "nnnn\n",
      "nnnn\n",
      "nnnn\n",
      "nnnn\n"
     ]
    }
   ],
   "source": [
    "col = ['언론사', '제목', '내용']\n",
    "data = pd.DataFrame(columns=col)\n",
    "for idx, x in enumerate(csv_list):\n",
    "    try:\n",
    "        data = data.append(pd.read_csv(x, encoding='CP949'))\n",
    "    except:\n",
    "        data = data.append(pd.read_csv(x))\n",
    "        print('nnnn')"
   ]
  },
  {
   "cell_type": "code",
   "execution_count": 54,
   "id": "37e8ecf2",
   "metadata": {
    "ExecuteTime": {
     "end_time": "2021-08-10T02:45:52.500191Z",
     "start_time": "2021-08-10T02:45:52.473461Z"
    }
   },
   "outputs": [],
   "source": [
    "data['내용'] = data['내용'].apply(lambda x : clean_text(str(x)))"
   ]
  },
  {
   "cell_type": "code",
   "execution_count": 55,
   "id": "9e6c956c",
   "metadata": {
    "ExecuteTime": {
     "end_time": "2021-08-10T02:45:53.274037Z",
     "start_time": "2021-08-10T02:45:53.268039Z"
    }
   },
   "outputs": [
    {
     "data": {
      "text/plain": [
       "0    지난 일 사회관계망서비스에서는 차밑에 들어가 있는 한 노동자의 사진이 화제를 모았다...\n",
       "1    풀무원 홀딩스는 초등학교 여름방학을 맞아 충북 음성 풀무원 두부공장을 돌아보는 풀무...\n",
       "2    그릭 요거트가 인기다 그리스 등 지중해 연안지역 가정에서 만들어 먹던 영양이 풍부하...\n",
       "3    혈관 장 건강 돕는 유산균 오메가 한 병에 담아 풀무원건강생활 유산균음료 전문 브랜...\n",
       "4    풀무원베이비밀이 생후 백일이 지나고 만 개월부터 시작하는 이유식의 중요성을 알리기 ...\n",
       "                           ...                        \n",
       "2    풀무원이 년 이후 년 만에 기업이미지 를 교체하고 계열사 브랜드 체계를 일원화했다 ...\n",
       "3    기업의 비 재무적 성과를 뜻하는 환경 사회 지배구조 경영이 유통업계의 주요한 생존 ...\n",
       "4    기업의 비 재무적 성과를 뜻하는 환경 사회 지배구조 경영이 유통업계의 주요한 생존 ...\n",
       "5    기업의 비 재무적 성과를 뜻하는 환경 사회 지배구조 경영이 유통업계의 주요한 생존 ...\n",
       "6    기업의 비 재무적 성과를 뜻하는 환경 사회 지배구조 경영이 유통업계의 주요한 생존 ...\n",
       "Name: 내용, Length: 211, dtype: object"
      ]
     },
     "execution_count": 55,
     "metadata": {},
     "output_type": "execute_result"
    }
   ],
   "source": [
    "data['내용']"
   ]
  },
  {
   "cell_type": "code",
   "execution_count": 56,
   "id": "fa8e4c98",
   "metadata": {
    "ExecuteTime": {
     "end_time": "2021-08-10T02:51:21.395322Z",
     "start_time": "2021-08-10T02:46:49.181442Z"
    }
   },
   "outputs": [
    {
     "name": "stderr",
     "output_type": "stream",
     "text": [
      "C:\\python_anaconda3\\lib\\site-packages\\sklearn\\cluster\\_kmeans.py:881: UserWarning: KMeans is known to have a memory leak on Windows with MKL, when there are less chunks than available threads. You can avoid it by setting the environment variable OMP_NUM_THREADS=1.\n",
      "  warnings.warn(\n",
      "<ipython-input-56-5179b88774ce>:38: ConvergenceWarning: Number of distinct clusters (203) found smaller than n_clusters (204). Possibly due to duplicate points in X.\n",
      "  km.fit(tfidf)\n",
      "<ipython-input-56-5179b88774ce>:38: ConvergenceWarning: Number of distinct clusters (203) found smaller than n_clusters (205). Possibly due to duplicate points in X.\n",
      "  km.fit(tfidf)\n",
      "<ipython-input-56-5179b88774ce>:38: ConvergenceWarning: Number of distinct clusters (203) found smaller than n_clusters (206). Possibly due to duplicate points in X.\n",
      "  km.fit(tfidf)\n",
      "<ipython-input-56-5179b88774ce>:38: ConvergenceWarning: Number of distinct clusters (203) found smaller than n_clusters (207). Possibly due to duplicate points in X.\n",
      "  km.fit(tfidf)\n",
      "<ipython-input-56-5179b88774ce>:38: ConvergenceWarning: Number of distinct clusters (203) found smaller than n_clusters (208). Possibly due to duplicate points in X.\n",
      "  km.fit(tfidf)\n",
      "<ipython-input-56-5179b88774ce>:38: ConvergenceWarning: Number of distinct clusters (203) found smaller than n_clusters (209). Possibly due to duplicate points in X.\n",
      "  km.fit(tfidf)\n",
      "<ipython-input-56-5179b88774ce>:38: ConvergenceWarning: Number of distinct clusters (203) found smaller than n_clusters (210). Possibly due to duplicate points in X.\n",
      "  km.fit(tfidf)\n",
      "<ipython-input-56-5179b88774ce>:38: ConvergenceWarning: Number of distinct clusters (203) found smaller than n_clusters (211). Possibly due to duplicate points in X.\n",
      "  km.fit(tfidf)\n"
     ]
    },
    {
     "data": {
      "image/png": "[encoded data removed]",
      "text/plain": [
       "<Figure size 432x288 with 1 Axes>"
      ]
     },
     "metadata": {
      "needs_background": "light"
     },
     "output_type": "display_data"
    }
   ],
   "source": [
    "from sklearn.feature_extraction.text import TfidfVectorizer\n",
    "import pandas as pd\n",
    "import numpy as np\n",
    "\n",
    "from konlpy.tag import Okt\n",
    "import re\n",
    "\n",
    "def get_nouns(text):\n",
    "    nouns = okt.nouns(text)\n",
    "    nouns = [word for word in nouns if len(word) > 1] # 명사중 길이가 1 이상만\n",
    "    nouns = [word for word in nouns if not re.match(r'\\d+',word)] # 숫자 제거\n",
    "    return nouns\n",
    "\n",
    "okt = Okt()\n",
    "\n",
    "cv = TfidfVectorizer(max_features=1000, tokenizer=get_nouns)\n",
    "tfidf = cv.fit_transform(data['내용'])\n",
    "# print('tfidf : ',tfidf)\n",
    "\n",
    "tfidf = tfidf.toarray()\n",
    "\n",
    "from sklearn.cluster import KMeans\n",
    "import matplotlib.pyplot as plt\n",
    "\n",
    "%matplotlib inline\n",
    "\n",
    "km = KMeans(n_clusters=4)\n",
    "km.fit(tfidf)\n",
    "\n",
    "data['cluster'] = km.labels_\n",
    "data.head()\n",
    "\n",
    "num_clusters = list(range(1, len(data)+1))\t# K는 1 ~ 8사이의 정수입니다\n",
    "inertias = []\n",
    "# 각 K별로 모델을 생성하여 inertia를 측정합니다\n",
    "for i in num_clusters:\n",
    "    km = KMeans(n_clusters=i)\n",
    "    km.fit(tfidf)\n",
    "    inertias.append(km.inertia_)\n",
    "# K에 따른 inertia의 변화를 시각화합니다\n",
    "plt.plot(num_clusters, inertias, '-o')\n",
    "plt.xlabel('Number of Clusters (k)')\n",
    "plt.ylabel('Inertia')\n",
    "plt.show()"
   ]
  },
  {
   "cell_type": "code",
   "execution_count": null,
   "id": "7c4c2d07",
   "metadata": {},
   "outputs": [],
   "source": []
  }
 ],
 "metadata": {
  "kernelspec": {
   "display_name": "Python 3",
   "language": "python",
   "name": "python3"
  },
  "language_info": {
   "codemirror_mode": {
    "name": "ipython",
    "version": 3
   },
   "file_extension": ".py",
   "mimetype": "text/x-python",
   "name": "python",
   "nbconvert_exporter": "python",
   "pygments_lexer": "ipython3",
   "version": "3.8.8"
  },
  "varInspector": {
   "cols": {
    "lenName": 16,
    "lenType": 16,
    "lenVar": 40
   },
   "kernels_config": {
    "python": {
     "delete_cmd_postfix": "",
     "delete_cmd_prefix": "del ",
     "library": "var_list.py",
     "varRefreshCmd": "print(var_dic_list())"
    },
    "r": {
     "delete_cmd_postfix": ") ",
     "delete_cmd_prefix": "rm(",
     "library": "var_list.r",
     "varRefreshCmd": "cat(var_dic_list()) "
    }
   },
   "types_to_exclude": [
    "module",
    "function",
    "builtin_function_or_method",
    "instance",
    "_Feature"
   ],
   "window_display": false
  }
 },
 "nbformat": 4,
 "nbformat_minor": 5
}
