{
 "cells": [
  {
   "cell_type": "code",
   "execution_count": 16,
   "id": "b5820137",
   "metadata": {
    "ExecuteTime": {
     "end_time": "2021-08-07T10:11:23.999913Z",
     "start_time": "2021-08-07T10:11:23.991322Z"
    }
   },
   "outputs": [],
   "source": [
    "from sklearn.feature_extraction.text import TfidfVectorizer\n",
    "import pandas as pd\n",
    "import numpy as np\n",
    "\n",
    "from konlpy.tag import Okt\n",
    "import re"
   ]
  },
  {
   "cell_type": "code",
   "execution_count": 3,
   "id": "90ca9f73",
   "metadata": {
    "ExecuteTime": {
     "end_time": "2021-08-07T10:08:09.050355Z",
     "start_time": "2021-08-07T10:08:09.025717Z"
    }
   },
   "outputs": [],
   "source": [
    "data = pd.read_csv('경향신문.csv',encoding='CP949')"
   ]
  },
  {
   "cell_type": "code",
   "execution_count": 7,
   "id": "793200e7",
   "metadata": {
    "ExecuteTime": {
     "end_time": "2021-08-07T10:09:46.452829Z",
     "start_time": "2021-08-07T10:09:46.430230Z"
    }
   },
   "outputs": [
    {
     "data": {
      "text/html": [
       "<div>\n",
       "<style scoped>\n",
       "    .dataframe tbody tr th:only-of-type {\n",
       "        vertical-align: middle;\n",
       "    }\n",
       "\n",
       "    .dataframe tbody tr th {\n",
       "        vertical-align: top;\n",
       "    }\n",
       "\n",
       "    .dataframe thead th {\n",
       "        text-align: right;\n",
       "    }\n",
       "</style>\n",
       "<table border=\"1\" class=\"dataframe\">\n",
       "  <thead>\n",
       "    <tr style=\"text-align: right;\">\n",
       "      <th></th>\n",
       "      <th>언론사</th>\n",
       "      <th>제목</th>\n",
       "      <th>내용</th>\n",
       "    </tr>\n",
       "  </thead>\n",
       "  <tbody>\n",
       "    <tr>\n",
       "      <th>0</th>\n",
       "      <td>경향신문</td>\n",
       "      <td>‘바른 먹거리’ 풀무원 물류센터에서는 무슨 일이?</td>\n",
       "      <td>지난 16일 사회관계망서비스에서는 차밑에 들어가 있는 한 노동자의 사진이 화제를 모...</td>\n",
       "    </tr>\n",
       "    <tr>\n",
       "      <th>1</th>\n",
       "      <td>경향신문</td>\n",
       "      <td>풀무원, 어린이 바른 먹거리 현장 체험교육</td>\n",
       "      <td>풀무원 홀딩스는 초등학교 여름방학을 맞아 충북 음성 풀무원 두부공장을 돌아보는 ‘풀...</td>\n",
       "    </tr>\n",
       "    <tr>\n",
       "      <th>2</th>\n",
       "      <td>경향신문</td>\n",
       "      <td>풀무원다논의 ‘다논 그릭’, 고단백 저지방 깊고 진한 풍미로 그릭요거트 시장 판매 ...</td>\n",
       "      <td>그릭 요거트가 인기다 그리스 등 지중해 연안지역 가정에서 만들어 먹던 영양이 풍부하...</td>\n",
       "    </tr>\n",
       "    <tr>\n",
       "      <th>3</th>\n",
       "      <td>경향신문</td>\n",
       "      <td>풀무원, ‘식물성유산균 치아씨드 오메가’ 리뉴얼 출시</td>\n",
       "      <td>혈관·장 건강 돕는 ‘유산균’ ‘오메가3’ 한 병에 담아 풀무원건강생활 유산균음료 ...</td>\n",
       "    </tr>\n",
       "    <tr>\n",
       "      <th>4</th>\n",
       "      <td>경향신문</td>\n",
       "      <td>풀무원베이비밀 ‘백일되면 베이비밀’ 이벤트</td>\n",
       "      <td>풀무원베이비밀이 생후 백일이 지나고 만 4개월부터 시작하는 이유식의 중요성을 알리기...</td>\n",
       "    </tr>\n",
       "  </tbody>\n",
       "</table>\n",
       "</div>"
      ],
      "text/plain": [
       "    언론사                                                 제목  \\\n",
       "0  경향신문                        ‘바른 먹거리’ 풀무원 물류센터에서는 무슨 일이?   \n",
       "1  경향신문                            풀무원, 어린이 바른 먹거리 현장 체험교육   \n",
       "2  경향신문  풀무원다논의 ‘다논 그릭’, 고단백 저지방 깊고 진한 풍미로 그릭요거트 시장 판매 ...   \n",
       "3  경향신문                      풀무원, ‘식물성유산균 치아씨드 오메가’ 리뉴얼 출시   \n",
       "4  경향신문                            풀무원베이비밀 ‘백일되면 베이비밀’ 이벤트   \n",
       "\n",
       "                                                  내용  \n",
       "0  지난 16일 사회관계망서비스에서는 차밑에 들어가 있는 한 노동자의 사진이 화제를 모...  \n",
       "1  풀무원 홀딩스는 초등학교 여름방학을 맞아 충북 음성 풀무원 두부공장을 돌아보는 ‘풀...  \n",
       "2  그릭 요거트가 인기다 그리스 등 지중해 연안지역 가정에서 만들어 먹던 영양이 풍부하...  \n",
       "3  혈관·장 건강 돕는 ‘유산균’ ‘오메가3’ 한 병에 담아 풀무원건강생활 유산균음료 ...  \n",
       "4  풀무원베이비밀이 생후 백일이 지나고 만 4개월부터 시작하는 이유식의 중요성을 알리기...  "
      ]
     },
     "execution_count": 7,
     "metadata": {},
     "output_type": "execute_result"
    }
   ],
   "source": [
    "data.head(5)"
   ]
  },
  {
   "cell_type": "code",
   "execution_count": 5,
   "id": "69c8d79e",
   "metadata": {
    "ExecuteTime": {
     "end_time": "2021-08-07T10:09:21.588596Z",
     "start_time": "2021-08-07T10:09:21.570491Z"
    }
   },
   "outputs": [],
   "source": [
    "def get_nouns(text):\n",
    "    nouns = okt.nouns(text)\n",
    "    nouns = [word for word in nouns if len(word) > 1] # 명사중 길이가 1 이상만\n",
    "    nouns = [word for word in nouns if not re.match(r'\\d+',word)] # 숫자 제거\n",
    "    return nouns"
   ]
  },
  {
   "cell_type": "code",
   "execution_count": 12,
   "id": "0a460f1b",
   "metadata": {
    "ExecuteTime": {
     "end_time": "2021-08-07T10:10:41.063178Z",
     "start_time": "2021-08-07T10:10:34.346945Z"
    }
   },
   "outputs": [
    {
     "name": "stdout",
     "output_type": "stream",
     "text": [
      "tfidf :    (0, 246)\t0.027647247200256082\n",
      "  (0, 965)\t0.027647247200256082\n",
      "  (0, 314)\t0.027647247200256082\n",
      "  (0, 563)\t0.019855600697691766\n",
      "  (0, 171)\t0.055294494400512165\n",
      "  (0, 437)\t0.027647247200256082\n",
      "  (0, 79)\t0.027647247200256082\n",
      "  (0, 319)\t0.027647247200256082\n",
      "  (0, 359)\t0.027647247200256082\n",
      "  (0, 143)\t0.027647247200256082\n",
      "  (0, 899)\t0.019855600697691766\n",
      "  (0, 195)\t0.027647247200256082\n",
      "  (0, 251)\t0.024199388696829967\n",
      "  (0, 919)\t0.024199388696829967\n",
      "  (0, 703)\t0.027647247200256082\n",
      "  (0, 866)\t0.027647247200256082\n",
      "  (0, 71)\t0.027647247200256082\n",
      "  (0, 106)\t0.055294494400512165\n",
      "  (0, 711)\t0.027647247200256082\n",
      "  (0, 665)\t0.024199388696829967\n",
      "  (0, 242)\t0.027647247200256082\n",
      "  (0, 440)\t0.027647247200256082\n",
      "  (0, 38)\t0.021753094157667015\n",
      "  (0, 897)\t0.018305235654240904\n",
      "  (0, 891)\t0.055294494400512165\n",
      "  :\t:\n",
      "  (17, 883)\t0.038724661324497374\n",
      "  (17, 215)\t0.028976554630377585\n",
      "  (17, 481)\t0.04242536989140225\n",
      "  (17, 105)\t0.04242536989140225\n",
      "  (17, 775)\t0.038724661324497374\n",
      "  (17, 761)\t0.06628892225869704\n",
      "  (17, 983)\t0.03570096226088992\n",
      "  (17, 525)\t0.26515568903478814\n",
      "  (17, 519)\t0.4646959358939685\n",
      "  (17, 563)\t0.4646959358939685\n",
      "  (17, 239)\t0.09439282606580125\n",
      "  (17, 297)\t0.047196413032900626\n",
      "  (17, 739)\t0.04242536989140225\n",
      "  (17, 189)\t0.047196413032900626\n",
      "  (17, 572)\t0.054458421104973335\n",
      "  (17, 416)\t0.07140192452177983\n",
      "  (17, 524)\t0.04242536989140225\n",
      "  (17, 315)\t0.09439282606580125\n",
      "  (17, 438)\t0.08692966389113276\n",
      "  (17, 502)\t0.03570096226088992\n",
      "  (17, 921)\t0.04242536989140225\n",
      "  (17, 700)\t0.11590621852151034\n",
      "  (17, 905)\t0.04975328946468918\n",
      "  (17, 292)\t0.04975328946468918\n",
      "  (17, 740)\t0.04242536989140225\n"
     ]
    }
   ],
   "source": [
    "okt = Okt()\n",
    "\n",
    "cv = TfidfVectorizer(max_features=1000, tokenizer=get_nouns)\n",
    "tfidf = cv.fit_transform(data['내용'])\n",
    "# print('tfidf : ',tfidf)"
   ]
  },
  {
   "cell_type": "code",
   "execution_count": 17,
   "id": "efc9789b",
   "metadata": {
    "ExecuteTime": {
     "end_time": "2021-08-07T10:12:06.394674Z",
     "start_time": "2021-08-07T10:12:06.385277Z"
    }
   },
   "outputs": [],
   "source": [
    "tfidf = tfidf.toarray()"
   ]
  },
  {
   "cell_type": "code",
   "execution_count": 23,
   "id": "638bb7dd",
   "metadata": {
    "ExecuteTime": {
     "end_time": "2021-08-07T10:15:50.003057Z",
     "start_time": "2021-08-07T10:15:49.410492Z"
    }
   },
   "outputs": [],
   "source": [
    "from sklearn.cluster import KMeans\n",
    "import matplotlib.pyplot as plt\n",
    "\n",
    "%matplotlib inline"
   ]
  },
  {
   "cell_type": "code",
   "execution_count": 20,
   "id": "bda9d4e4",
   "metadata": {
    "ExecuteTime": {
     "end_time": "2021-08-07T10:13:29.587383Z",
     "start_time": "2021-08-07T10:13:29.497014Z"
    }
   },
   "outputs": [
    {
     "data": {
      "text/plain": [
       "KMeans(n_clusters=4)"
      ]
     },
     "execution_count": 20,
     "metadata": {},
     "output_type": "execute_result"
    }
   ],
   "source": [
    "km = KMeans(n_clusters=4)\n",
    "km.fit(tfidf)"
   ]
  },
  {
   "cell_type": "code",
   "execution_count": 21,
   "id": "decf14f2",
   "metadata": {
    "ExecuteTime": {
     "end_time": "2021-08-07T10:13:55.217428Z",
     "start_time": "2021-08-07T10:13:55.192229Z"
    }
   },
   "outputs": [
    {
     "data": {
      "text/html": [
       "<div>\n",
       "<style scoped>\n",
       "    .dataframe tbody tr th:only-of-type {\n",
       "        vertical-align: middle;\n",
       "    }\n",
       "\n",
       "    .dataframe tbody tr th {\n",
       "        vertical-align: top;\n",
       "    }\n",
       "\n",
       "    .dataframe thead th {\n",
       "        text-align: right;\n",
       "    }\n",
       "</style>\n",
       "<table border=\"1\" class=\"dataframe\">\n",
       "  <thead>\n",
       "    <tr style=\"text-align: right;\">\n",
       "      <th></th>\n",
       "      <th>언론사</th>\n",
       "      <th>제목</th>\n",
       "      <th>내용</th>\n",
       "      <th>cluster</th>\n",
       "    </tr>\n",
       "  </thead>\n",
       "  <tbody>\n",
       "    <tr>\n",
       "      <th>0</th>\n",
       "      <td>경향신문</td>\n",
       "      <td>‘바른 먹거리’ 풀무원 물류센터에서는 무슨 일이?</td>\n",
       "      <td>지난 16일 사회관계망서비스에서는 차밑에 들어가 있는 한 노동자의 사진이 화제를 모...</td>\n",
       "      <td>0</td>\n",
       "    </tr>\n",
       "    <tr>\n",
       "      <th>1</th>\n",
       "      <td>경향신문</td>\n",
       "      <td>풀무원, 어린이 바른 먹거리 현장 체험교육</td>\n",
       "      <td>풀무원 홀딩스는 초등학교 여름방학을 맞아 충북 음성 풀무원 두부공장을 돌아보는 ‘풀...</td>\n",
       "      <td>2</td>\n",
       "    </tr>\n",
       "    <tr>\n",
       "      <th>2</th>\n",
       "      <td>경향신문</td>\n",
       "      <td>풀무원다논의 ‘다논 그릭’, 고단백 저지방 깊고 진한 풍미로 그릭요거트 시장 판매 ...</td>\n",
       "      <td>그릭 요거트가 인기다 그리스 등 지중해 연안지역 가정에서 만들어 먹던 영양이 풍부하...</td>\n",
       "      <td>3</td>\n",
       "    </tr>\n",
       "    <tr>\n",
       "      <th>3</th>\n",
       "      <td>경향신문</td>\n",
       "      <td>풀무원, ‘식물성유산균 치아씨드 오메가’ 리뉴얼 출시</td>\n",
       "      <td>혈관·장 건강 돕는 ‘유산균’ ‘오메가3’ 한 병에 담아 풀무원건강생활 유산균음료 ...</td>\n",
       "      <td>3</td>\n",
       "    </tr>\n",
       "    <tr>\n",
       "      <th>4</th>\n",
       "      <td>경향신문</td>\n",
       "      <td>풀무원베이비밀 ‘백일되면 베이비밀’ 이벤트</td>\n",
       "      <td>풀무원베이비밀이 생후 백일이 지나고 만 4개월부터 시작하는 이유식의 중요성을 알리기...</td>\n",
       "      <td>0</td>\n",
       "    </tr>\n",
       "  </tbody>\n",
       "</table>\n",
       "</div>"
      ],
      "text/plain": [
       "    언론사                                                 제목  \\\n",
       "0  경향신문                        ‘바른 먹거리’ 풀무원 물류센터에서는 무슨 일이?   \n",
       "1  경향신문                            풀무원, 어린이 바른 먹거리 현장 체험교육   \n",
       "2  경향신문  풀무원다논의 ‘다논 그릭’, 고단백 저지방 깊고 진한 풍미로 그릭요거트 시장 판매 ...   \n",
       "3  경향신문                      풀무원, ‘식물성유산균 치아씨드 오메가’ 리뉴얼 출시   \n",
       "4  경향신문                            풀무원베이비밀 ‘백일되면 베이비밀’ 이벤트   \n",
       "\n",
       "                                                  내용  cluster  \n",
       "0  지난 16일 사회관계망서비스에서는 차밑에 들어가 있는 한 노동자의 사진이 화제를 모...        0  \n",
       "1  풀무원 홀딩스는 초등학교 여름방학을 맞아 충북 음성 풀무원 두부공장을 돌아보는 ‘풀...        2  \n",
       "2  그릭 요거트가 인기다 그리스 등 지중해 연안지역 가정에서 만들어 먹던 영양이 풍부하...        3  \n",
       "3  혈관·장 건강 돕는 ‘유산균’ ‘오메가3’ 한 병에 담아 풀무원건강생활 유산균음료 ...        3  \n",
       "4  풀무원베이비밀이 생후 백일이 지나고 만 4개월부터 시작하는 이유식의 중요성을 알리기...        0  "
      ]
     },
     "execution_count": 21,
     "metadata": {},
     "output_type": "execute_result"
    }
   ],
   "source": [
    "data['cluster'] = km.labels_\n",
    "data.head()"
   ]
  },
  {
   "cell_type": "code",
   "execution_count": 28,
   "id": "a4179f3e",
   "metadata": {
    "ExecuteTime": {
     "end_time": "2021-08-07T10:16:37.779594Z",
     "start_time": "2021-08-07T10:16:37.095481Z"
    }
   },
   "outputs": [
    {
     "name": "stderr",
     "output_type": "stream",
     "text": [
      "C:\\python_anaconda3\\lib\\site-packages\\sklearn\\cluster\\_kmeans.py:881: UserWarning: KMeans is known to have a memory leak on Windows with MKL, when there are less chunks than available threads. You can avoid it by setting the environment variable OMP_NUM_THREADS=1.\n",
      "  warnings.warn(\n"
     ]
    },
    {
     "data": {
      "image/png": "[encoded data removed]",
      "text/plain": [
       "<Figure size 432x288 with 1 Axes>"
      ]
     },
     "metadata": {
      "needs_background": "light"
     },
     "output_type": "display_data"
    }
   ],
   "source": [
    "num_clusters = list(range(1, len(data)+1))\t# K는 1 ~ 8사이의 정수입니다\n",
    "inertias = []\n",
    "# 각 K별로 모델을 생성하여 inertia를 측정합니다\n",
    "for i in num_clusters:\n",
    "    km = KMeans(n_clusters=i)\n",
    "    km.fit(tfidf)\n",
    "    inertias.append(km.inertia_)\n",
    "# K에 따른 inertia의 변화를 시각화합니다\n",
    "plt.plot(num_clusters, inertias, '-o')\n",
    "plt.xlabel('Number of Clusters (k)')\n",
    "plt.ylabel('Inertia')\n",
    "plt.show()"
   ]
  },
  {
   "cell_type": "code",
   "execution_count": null,
   "id": "196c955c",
   "metadata": {},
   "outputs": [],
   "source": []
  }
 ],
 "metadata": {
  "kernelspec": {
   "display_name": "Python 3",
   "language": "python",
   "name": "python3"
  },
  "language_info": {
   "codemirror_mode": {
    "name": "ipython",
    "version": 3
   },
   "file_extension": ".py",
   "mimetype": "text/x-python",
   "name": "python",
   "nbconvert_exporter": "python",
   "pygments_lexer": "ipython3",
   "version": "3.8.8"
  },
  "toc": {
   "base_numbering": 1,
   "nav_menu": {},
   "number_sections": true,
   "sideBar": true,
   "skip_h1_title": false,
   "title_cell": "Table of Contents",
   "title_sidebar": "Contents",
   "toc_cell": false,
   "toc_position": {},
   "toc_section_display": true,
   "toc_window_display": false
  },
  "varInspector": {
   "cols": {
    "lenName": 16,
    "lenType": 16,
    "lenVar": 40
   },
   "kernels_config": {
    "python": {
     "delete_cmd_postfix": "",
     "delete_cmd_prefix": "del ",
     "library": "var_list.py",
     "varRefreshCmd": "print(var_dic_list())"
    },
    "r": {
     "delete_cmd_postfix": ") ",
     "delete_cmd_prefix": "rm(",
     "library": "var_list.r",
     "varRefreshCmd": "cat(var_dic_list()) "
    }
   },
   "types_to_exclude": [
    "module",
    "function",
    "builtin_function_or_method",
    "instance",
    "_Feature"
   ],
   "window_display": false
  }
 },
 "nbformat": 4,
 "nbformat_minor": 5
}
