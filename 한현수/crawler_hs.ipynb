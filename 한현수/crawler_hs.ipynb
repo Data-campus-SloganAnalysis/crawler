{
 "cells": [
  {
   "cell_type": "code",
   "execution_count": 13,
   "id": "e616d3bb",
   "metadata": {
    "ExecuteTime": {
     "end_time": "2021-08-06T06:45:35.012425Z",
     "start_time": "2021-08-06T06:45:34.982496Z"
    }
   },
   "outputs": [],
   "source": [
    "import re\n",
    "from bs4 import BeautifulSoup\n",
    "from selenium import webdriver\n",
    "import time\n",
    "import pandas as pd\n",
    "\n",
    "\n",
    "options = webdriver.ChromeOptions()\n",
    "options.add_argument(\"headless\")"
   ]
  },
  {
   "cell_type": "markdown",
   "id": "44aa4261",
   "metadata": {},
   "source": [
    "chromedriver.exe 경로 수정"
   ]
  },
  {
   "cell_type": "code",
   "execution_count": 14,
   "id": "96859955",
   "metadata": {
    "ExecuteTime": {
     "end_time": "2021-08-06T06:45:35.269023Z",
     "start_time": "2021-08-06T06:45:35.250717Z"
    }
   },
   "outputs": [],
   "source": [
    "driver_path = 'C:/chromedriver_win32/chromedriver.exe' "
   ]
  },
  {
   "cell_type": "code",
   "execution_count": 15,
   "id": "f018481a",
   "metadata": {
    "ExecuteTime": {
     "end_time": "2021-08-06T06:45:35.436969Z",
     "start_time": "2021-08-06T06:45:35.413794Z"
    }
   },
   "outputs": [],
   "source": [
    "def clean_text(text):\n",
    "    cleaned_text = re.sub('[a-zA-Z]', '', text)\n",
    "    cleaned_text = re.sub('[\\{\\}\\[\\]\\/?.,;:|\\)*~`!^\\-_+<>@\\#$%&\\\\\\=\\(\\'\\\"]',\n",
    "                          '', cleaned_text)\n",
    "    cleaned_text = ' '.join(cleaned_text.split())\n",
    "    return cleaned_text"
   ]
  },
  {
   "cell_type": "code",
   "execution_count": 16,
   "id": "f6f6be7c",
   "metadata": {
    "ExecuteTime": {
     "end_time": "2021-08-06T06:45:35.647368Z",
     "start_time": "2021-08-06T06:45:35.625423Z"
    }
   },
   "outputs": [],
   "source": [
    "query = '풀무원 바른먹거리'"
   ]
  },
  {
   "cell_type": "markdown",
   "id": "abd2b48c",
   "metadata": {},
   "source": [
    "네이버에 언론사 설정하고 검색 시에 url_domain + 검색어 + news_domain 과 같은 구조  \n",
    "그래서 아래 함수에서 news_domain을 각자 언론사에 맞춰서 수정해주시면 됩니다"
   ]
  },
  {
   "cell_type": "markdown",
   "id": "0971470f",
   "metadata": {},
   "source": [
    "경향신문"
   ]
  },
  {
   "cell_type": "code",
   "execution_count": 35,
   "id": "40936834",
   "metadata": {
    "ExecuteTime": {
     "end_time": "2021-08-06T08:15:16.826922Z",
     "start_time": "2021-08-06T08:10:44.369659Z"
    }
   },
   "outputs": [],
   "source": [
    "def biz_khan(query,driver_path):\n",
    "    domain = '경향신문'\n",
    "    driver = webdriver.Chrome(executable_path=driver_path, options=options)  # for Windows\n",
    "    url_domain = 'https://search.naver.com/search.naver?where=news&query='\n",
    "    news_domain ='&sm=tab_opt&sort=0&photo=0&field=0&pd=0&ds=&de=&docid=&related=0&mynews=1&office_type=1&office_section_code=1&news_office_checked=1032&nso=&is_sug_officeid=0' \n",
    "    url = url_domain + query + news_domain\n",
    "    driver.get(url)\n",
    "    soup = BeautifulSoup(driver.page_source,'html.parser')\n",
    "    \n",
    "    # 기사 url을 list형태로 반환\n",
    "    try:\n",
    "        news_list = soup.select('#main_pack > section > div > div.group_news > ul')\n",
    "        url_list = []\n",
    "        news_list = news_list[0].find_all('li')\n",
    "        for url in news_list:\n",
    "            url_list.append(str(url.find_all('a')[0].get('data-url')))\n",
    "    except:\n",
    "        print('기사가 없습니다.')\n",
    "        driver.close()\n",
    "        return 0\n",
    "    driver.close()\n",
    "\n",
    "    head_list = []\n",
    "    data_list = []\n",
    "    \n",
    "    for url in url_list:\n",
    "        driver = webdriver.Chrome(executable_path=driver_path, options=options)  # for Windows\n",
    "        driver.get(url)\n",
    "        time.sleep(2)\n",
    "        # try문 안에서 각자 언론사에 맞게 수정\n",
    "        try:\n",
    "            soup.find('h1',id='articleTtitle')\n",
    "            soup = BeautifulSoup(driver.page_source,'html.parser')\n",
    "            head_list.append(soup.find('h1',id='articleTtitle').text)\n",
    "            tags = soup.select_one('#container > div.main_container > div.art_cont > div.art_body').find_all('p')\n",
    "            data = [clean_text(x.text) for x in tags]\n",
    "            data_list.append(' '.join(data))\n",
    "        except:\n",
    "            try:\n",
    "                soup = BeautifulSoup(driver.page_source,'html.parser')\n",
    "                head_list.append(soup.find('h1',id='article_title').text)\n",
    "                tags = soup.select_one('#articleBody').find_all('p')\n",
    "                data = [clean_text(x.text) for x in tags]\n",
    "                data_list.append(' '.join(data))\n",
    "            except:\n",
    "                print('None_type')\n",
    "        driver.close()\n",
    "        \n",
    "    output = pd.DataFrame({'언론사' : [domain]*len(head_list),\n",
    "                          '제목' :  head_list,\n",
    "                          '내용' : data_list})\n",
    "    return output\n",
    "\n",
    "biz = biz_khan(query,driver_path)"
   ]
  },
  {
   "cell_type": "markdown",
   "id": "7c8cd686",
   "metadata": {},
   "source": [
    "중앙일보"
   ]
  },
  {
   "cell_type": "code",
   "execution_count": 20,
   "id": "dbb49b0c",
   "metadata": {
    "ExecuteTime": {
     "end_time": "2021-08-06T07:37:26.258259Z",
     "start_time": "2021-08-06T07:37:24.428729Z"
    }
   },
   "outputs": [
    {
     "name": "stdout",
     "output_type": "stream",
     "text": [
      "기사가 없습니다.\n"
     ]
    }
   ],
   "source": [
    "def chungang(query,driver_path):\n",
    "    driver = webdriver.Chrome(executable_path=driver_path, options=options)  # for Windows\n",
    "\n",
    "    domain = '중앙일보'\n",
    "    url_domain = 'https://search.naver.com/search.naver?where=news&query='\n",
    "    news_domain = '&sm=tab_opt&sort=0&photo=0&field=0&pd=0&ds=&de=&docid=&related=0&mynews=1&office_type=1&office_section_code=1&news_office_checked=1025&nso=&is_sug_officeid=0'\n",
    "    url = url_domain + query + news_domain\n",
    "    driver.get(url)\n",
    "    soup = BeautifulSoup(driver.page_source,'html.parser')\n",
    "\n",
    "    # 기사 url을 list형태로 반환\n",
    "    try:\n",
    "        news_list = soup.select('#main_pack > section > div > div.group_news > ul')\n",
    "        url_list = []\n",
    "        news_list = news_list[0].find_all('li')\n",
    "        for url in news_list:\n",
    "            url_list.append(str(url.find_all('a')[0].get('data-url')))\n",
    "    except:\n",
    "        print('기사가 없습니다.')\n",
    "        driver.close()\n",
    "        return 0\n",
    "    driver.close()\n",
    "\n",
    "    head_list = []\n",
    "    data_list = []\n",
    "\n",
    "    for url in url_list:\n",
    "        try:\n",
    "            driver = webdriver.Chrome(executable_path=driver_path, options=options)  # for Windows\n",
    "            driver.get(url)\n",
    "            time.sleep(2)\n",
    "            soup = BeautifulSoup(driver.page_source,'html.parser')\n",
    "            head = clean_text(soup.select('#article_title')[0].text)\n",
    "            head_list.append(head)\n",
    "            text = soup.find('div', id='article_body').text\n",
    "            text = clean_text(text)\n",
    "            data_list.append(text)\n",
    "        except:\n",
    "            print(\"None_type\")\n",
    "        driver.close()\n",
    "    output = pd.DataFrame({'언론사' : [domain]*len(head_list),\n",
    "                           '제목' :  head_list,\n",
    "                           '내용' : data_list})\n",
    "    return output\n",
    "\n",
    "chungang_df = chungang(query, driver_path)"
   ]
  },
  {
   "cell_type": "code",
   "execution_count": null,
   "id": "ddfcb650",
   "metadata": {
    "ExecuteTime": {
     "end_time": "2021-08-06T06:52:23.403726Z",
     "start_time": "2021-08-06T06:45:36.693Z"
    }
   },
   "outputs": [],
   "source": [
    "chungang_df"
   ]
  },
  {
   "cell_type": "markdown",
   "id": "af5de77a",
   "metadata": {},
   "source": [
    "조선일보"
   ]
  },
  {
   "cell_type": "code",
   "execution_count": 21,
   "id": "e8adaad4",
   "metadata": {
    "ExecuteTime": {
     "end_time": "2021-08-06T07:44:14.575292Z",
     "start_time": "2021-08-06T07:37:30.039835Z"
    }
   },
   "outputs": [
    {
     "name": "stdout",
     "output_type": "stream",
     "text": [
      "None_type\n"
     ]
    }
   ],
   "source": [
    "def joseon(query,driver_path):\n",
    "    driver = webdriver.Chrome(executable_path=driver_path, options=options)  # for Windows\n",
    "\n",
    "    domain = '조선일보'\n",
    "    url_domain = 'https://search.naver.com/search.naver?where=news&query='\n",
    "    news_domain = '&sm=tab_opt&sort=0&photo=0&field=0&pd=0&ds=&de=&docid=&related=0&mynews=1&office_type=1&office_section_code=1&news_office_checked=1023&nso=&is_sug_officeid=0'\n",
    "    url = url_domain + query + news_domain\n",
    "    driver.get(url)\n",
    "    soup = BeautifulSoup(driver.page_source,'html.parser')\n",
    "\n",
    "    # 기사 url을 list형태로 반환\n",
    "    try:\n",
    "        news_list = soup.select('#main_pack > section > div > div.group_news > ul')\n",
    "        url_list = []\n",
    "        news_list = news_list[0].find_all('li')\n",
    "        for url in news_list:\n",
    "            url_list.append(str(url.find_all('a')[0].get('data-url')))\n",
    "    except:\n",
    "        print('기사가 없습니다.')\n",
    "        driver.close()\n",
    "        return 0\n",
    "    driver.close()\n",
    "    \n",
    "    head_list = []\n",
    "    data_list = []\n",
    "\n",
    "    for url in url_list:\n",
    "        try:\n",
    "            driver = webdriver.Chrome(executable_path=driver_path, options=options)  # for Windows\n",
    "            driver.get(url)\n",
    "            time.sleep(2)\n",
    "            soup = BeautifulSoup(driver.page_source,'html.parser')\n",
    "            head = clean_text(soup.find_all(\"h1\", class_=\"article-header__headline | font--primary text--black\")[0].text)\n",
    "            head_list.append(head)\n",
    "            tags = soup.find_all('p',class_=' article-body__content article-body__content-text | text--black text font--size-sm-18 font--size-md-18 font--primary')\n",
    "            data = [clean_text(x.text) for x in tags]\n",
    "            data_list.append(' '.join(data))\n",
    "        except:\n",
    "            print(\"None_type\")\n",
    "        driver.close()\n",
    "    output = pd.DataFrame({'언론사' : [domain]*len(head_list),\n",
    "                           '제목' :  head_list,\n",
    "                           '내용' : data_list})\n",
    "    return output\n",
    "\n",
    "joseon_df = joseon(query, driver_path)"
   ]
  },
  {
   "cell_type": "code",
   "execution_count": 23,
   "id": "6b2fec1e",
   "metadata": {
    "ExecuteTime": {
     "end_time": "2021-08-06T07:46:30.410544Z",
     "start_time": "2021-08-06T07:46:30.380228Z"
    }
   },
   "outputs": [
    {
     "name": "stdout",
     "output_type": "stream",
     "text": [
      "['풀무원이 언택트 시대에 발맞춰 ‘어린이 바른먹거리 교육’을 온라인 콘텐츠로 개발해 기존 오프라인과 병행하는 ‘블렌디드 강좌’를 실시한다 풀무원재단은 지난 11일 2010년부터 진행한 어린이 조기 식습관 프로그램인 ‘어린이 바른먹거리 교육’을 온라인 방식에 최적화하여 무상으로 제공한다고 밝혔다 온라인 프로그램은 지난달부터 본격적으로 시작됐으며 방문이 가능한 일부 초등학교에는 오프라인 교육도 함께 진행하고 있다 온라인 프로그램은 학생의 건강과 안전을 지킬 수 있어 코로나19 시대 맞춤형 교육 방식으로 손꼽힌다 그러나 실험과 실습이 불가능하고 학생이 수업에 직접 참여하기 어렵다 풀무원재단이 도입한 ‘온라인 바른먹거리 교육’은 이런 단점을 보완해 새로운 모델을 제시했다 ‘온라인 바른먹거리 교육’은 식문화교육 전문 사단법인 ‘푸드포체인지’ 홈페이지를 통해 신청할 수 있다 교육 대상 학급으로 선정되면 풀무원재단이 학습에 필요한 교재와 활동 키트를 학교로 배송해 각 가정으로 사전 배부한다 1교시 영양 균형과 미각 교육 2교시 식품 표시 확인 교육 등 총 50분이며 플랫폼 줌을 통해 실시간으로 진행된다 식생활 전문 교육 강사 ‘푸듀케이터’와 학생들이 채팅과 발표 등으로 쌍방향 소통한다 더불어 가정에서 쉽게 따라 할 수 있는 바른먹거리 간식 만들기 식품첨가물 실험 등 다양한 숏폼 영상을 교육에 활용한다 그동안 서울과 수도권 부산 지역에서만 가능했던 ‘바른먹거리 교육’이 온라인을 통해 전국으로 확장되게 됐다 방문이 어려웠던 거제도에서도 교육이 진행되고 있다 풀무원재단 김유별 생활습관교육 사업담당은 “코로나19 이후 바른 식습관과 생활습관으로 스스로 건강을 챙겨야 한다는 인식이 매우 높아졌다”며 “특히 면역력이 약한 아이들이 온라인으로 바른 습관 교육을 받고 실천하여 더욱더 건강해지기를 바란다”고 말했다 한편 풀무원재단은 사회 공헌 프로그램을 비대면 및 개인 맞춤형으로 실시하고 있다 ‘시니어 바른먹거리 교육’은 집단교육 방식에서 전문 영양사가 농촌 지역 시니어 가정을 방문해 1대1 상담하는 방식으로 진행된다 청소 습관 교육인 ‘바른청소교실’은 초등학생을 대상으로 실시간 온라인과 오프라인으로 동시에 이루어지고 있다 모바일앱 ‘카카오프로젝트100’을 통한 비대면 환경보호 쓰레기 줍기 프로젝트 ‘부모와 아이가 함께하는 줍깅 1기’도 지난 9월부터 진행 중이다'\n",
      " '매년 이익금의 20 홍삼 연구개발에 재투자2020 대한민국 퍼스트브랜드 대상 정관장 인삼공사는 휴대가 간편한 홍삼정인 홍삼정 에브리타임을 통해 2030대 고객층과 직장인들에게 큰 호응을 얻으며 매출 호조를 이어가고 있다 에브리타임과 더불어 최근 가장 각광받는 제품은 여성건강 전문 브랜드 화애락이다 지난 2003년 출시된 이후 여성 건강을 위한 다양한 제품을 출시해 소비자로부터 큰 사랑을 받고 있다 녹용 브랜드 천녹은 녹용에도 정관장의 엄격한 품질관리 기준을 적용해 국내 녹용시장의 새로운 지평을 열어가고 있다 정관장의 인기 비결은 우수한 품질의 홍삼에서 나오는 효능에 있다 홍삼은 식품의약품안전처로부터 면역력 증진과 피로 개선 기억력 개선 혈소판 응집 억제를 통한 혈액흐름에 도움 항산화 작용 갱년기 여성 건강 등 6가지 효능을 공식적으로 인증 받았다 이 중 4가지는 인삼공사의 연구 개발을 통해 입증된 것이다 인삼공사는 안전성을 최우선으로 원재료 및 제품에 대하여 엄격한 품질관리기준을 세우고 있다 홍삼 연구개발에 매년 이익금의 20를 재투자하고 있으며 엄격한 계약재배 시스템 하에서 적합성 판정을 통과한 검증된 경작지에서만 재배된다 인삼공사는 2019년 기준 누적 500만명을 돌파한 정관장 멤버스 고객을 바탕으로 홍삼시장을 넘어 종합건강식품의 대표 브랜드로 자리매김하기 위해 2020년 다양한 신제품 개발 및 프로모션 등 소비자 니즈에 맞춘 다양한 마케팅 활동을 전개해나갈 예정이다 저당 트렌드 맞춘 지방 0 요거트 등 다양한 제품 선보여2020 대한민국 퍼스트브랜드 대상 액티비아 풀무원다논은 풀무원의 바른 먹거리 철학과 100년 발효 역사를 지닌 프랑스 다논의 세계판매 1위 요거트의 기술력이 더해진 요거트 전문 기업으로 액티비아 아이러브요거트 위솔루션 등 다양한 브랜드를 선보이고 있다 이중에서도 액티비아는 1987년 첫 출시된 이후 전 세계 70여 개국에서 매년 90억 컵이 판매되고 있는 세계 판매 1위 요거트 브랜드이다 프랑스 다논의 4000여 종 유산균 중 엄선된 20개국 특허 프로바이오틱스인 액티레귤라리스 가 들어있어 근본적인 장 환경 변화를 경험해 볼 수 있다 액티비아는 2009년도에 한국에 진출하여 지금까지 국내소비자의 취향을 고려한 건강하고 다양한 제품군을 개발 판매하고 있다 저당 트렌드에 맞추어 단맛은 적고 요거트 본연의 맛을 살린 담백한 액티비아 화이트 지방 0로 20대 선호가 높은 편의점 인기제품 액티비아 업과 20개국 특허 프로바이오틱스 2배가 들어간 액티비아 얼티밋 등 취향과 기호에 따라 골라 먹을 수 있도록 다양한 제품을 보유하고 있다 액티비아는 밝고 긍정적인 이미지의 라이프스타일 브랜드로 자리매김하고자 액티비아 그린라이프 캠페인을 시작했다 풀무원다논 정희련 대표는 요거트를 통해 더 많은 사람들에게 건강을 전하고자 한 노력을 알아봐주셔서 감사하다 앞으로도 끊임없는 혁신과 소통으로 국내 유제품 시장을 더욱 확대해 소비자들의 건강한 삶에 기여하겠다고 밝혔다 다이어트 식품·나라별 샐러드 등 다양한 제품 선보여2020 대한민국 퍼스트브랜드 대상 에버비키니 에버비키니는 건강과 아름다움의 중심에 서있는 대표적인 브랜드로 시시각각 변화하는 세상에 맞춰 뉴 헬시 라이프 스타일을 표방한다 고객의 소리를 놓치지 않고 새겨들으며 바쁜 일상 현대인들의 몸의 변화로 답해주는 진실한 다이어트 건강기능식품 브랜드로 해당 업계에서도 큰 주목을 받고 있다 대표적인 제품으로는 체지방 감소 성분 3중 배합 콜레로뺄래레드 수용성 가르시니아가 함유된 커피 맛 몸매관리 음료 빠질라카노 등이 있다 다이어트 식품 외에도 비타민 고함량 아스타잔틴 크릴오일과 6 대용량 곤약젤리 나라별 6종 샐러드 귀리 쉐이크 독일산 베리솔 콜라겐 등 보다 다양한 제품들을 선보이며 고객들이 원하고 찾는 고객 중심 기업의 면모를 보여주고 있다 이번 평가 조사에서 에버비키니는 다이어트 기능식품 부문에서 만족도 505의 결과로 많은 동종업계 브랜드를 제치고 2년 지속 1위를 달성하는 쾌거를 이뤘다 에버비키니의 대표는 에버비키니는 건강과 아름다움을 선도하는 기업으로서 지속적으로 고객과 소통하며 나를 위한 건강함이 아름다운 우리가 될 수 있도록 즐거운 건강기능식품 문화를 만드는 것에 항상 앞장서겠다라며 이번 2020 대한민국 퍼스트브랜드 대상에 걸맞은 1등 다이어트 건강기능식품 브랜드가 되기 위해 지금보다 더 최선을 다할 것이라고 수상 소감을 전했다 극소량 혈액으로 5초 안에 혈당 측정하는 기술 개발2020 대한민국 퍼스트브랜드 대상 케어센스 아이센스는 세계 최초로 극소량05 μ의 혈액으로 5초 안에 혈당을 측정하는 기술을 개발하였으며 현재 국내 혈당측정기 시장점유율 1위 기업으로 도약했다 국내외 250여 건의 특허를 출원 및 등록하였으며 원주와 송도의 생산시설을 기반으로 미국 독일 중국 등 해외법인을 통한 현지화 전략을 바탕으로 전 세계 110개국 이상에 제품을 수출하고 있다 케어센스는 아이센스의 대표 혈당측정시스템 브랜드로 2003년 케어센스 제품 개발 및 출시를 시작으로 노코딩 특허 기술을 접목한 케어센스 혈당뿐만 아니라 고혈당 시 발생하는 케톤 측정이 가능한 케어센스 듀얼 블루투스 기능을 이용하여 혈당 측정값을 스마트폰으로 전송할 수 있는 케어센스 프리미어 등 사용자의 다양한 요구사항을 반영하여 제품 라인업을 확대하고 있다 또 케어센스 아이오티는 만성질환인 당뇨병 환자들이 혈당을 규칙적으로 측정하고 관리함으로써 합병증을 예방하고 건강을 유지할 수 있도록 돕고 있다 텔레콤의 전용망을 활용하여 혈당측정기와 스마트폰을 연동한 후 측정한 혈당값을 다양한 건강관리 플랫폼으로 자동으로 전송하여 편리하게 혈당관리가 가능하며 개인별 건강관리서비스도 제공받을 수 있다 식약처서 관절·연골 건강 기능성 인정받아2020 대한민국 퍼스트브랜드 대상 천관보 종근당건강의 천관보는 ‘관절건강기능식품’ 부문에서 2020년을 이끌어갈 대한민국 만족도 1위 브랜드로 선정됐다 천관보는 삼중 복합 기능성 제품으로 엠에스엠과 아세틸글루코사민 칼슘 등 관절과 연골 건강에 도움을 줄 수 있는 기능성 원료를 담은 종근당건강의 오랜 연구 끝에 개발된 야심작이다 과 는 식품의약안전처를 통해 관절 및 연골 건강 기능성을 인정받은 성분이다 인체 적용 시험을 통해 통증 감소와 관절 불편함 개선 효과가 확인되었다 특히 는 연골 구성 성분으로 관절이 불편한 사람을 대상으로 시험한 결과 보행 능력 및 계단 오르내리기 능력이 개선된 것으로 입증된 바 있다 종근당건강 천관보는 흡수가 쉬운 액상 타입으로 섭취가 간편한 것은 물론 파우치 타입의 패키지로 보관 및 휴대가 편리하다 종근당건강 천관보 제품은 11 전화 무료 상담을 통해 구매 가능한 제품으로 건강기능식품 판매 전문 플래너를 통해 관절건강에 대한 현재의 고민 상담이 가능하며 축적된 데이터를 기반으로 11 맞춤케어를 받으면서 지속적인 관절 건강에 대한 관리 서비스를 받을 수 있다 무료 상담은 홈페이지를 통해 신청할 수 있다 척추 굴곡도 자동 스캔… 집에서도 체형 맞춤 마사지2020 대한민국 퍼스트브랜드 대상 세라젬 글로벌 홈 헬스케어 전문기업 세라젬이 한국소비자포럼이 주관하는 2020 대한민국 퍼스트브랜드 대상에서 지난해에 이어 2년 지속으로 의료가전 부문 대상을 받는 영광을 안게 됐다 약 20여만명 소비자의 참여로 수상 브랜드를 선정하는 만큼 소비자의 신뢰와 높은 인지도를 직접 인정받은 브랜드만이 수상의 영예를 안을 수 있다 세라젬은 2년 지속 선정되면서 소비자들에게 인정받는 의료가전 브랜드임을 입증했다 세라젬 3는 식약처로부터 공식 허가를 받은 의료기기로 집에서 편리하게 누워서 등과 척추의 근육을 풀어주어 건강을 관리하고 피로를 회복에 도움을 준다는 평가와 함께 고객들에게 큰 사랑을 받고 있다 척추부위를 집중관리해주는 3는 사용자가 기기에 누우면 자동으로 척추길이와 굴곡도를 스캔하여 사용자의 체형에 맞춘 마사지와 최대 65도의 집중온열뜸 효과을 제공해 식약처에서 근육통 완화 효과로 공식 허가를 받았다 남녀노소 누구나 체형에 맞는 마사지가 가능해 홈 케어를 대표하는 의료가전으로 적합하다는 평이다 닭가슴살 빅볼 제조기술 특허출원 등 에 힘 써2020 대한민국 퍼스트브랜드 대상 아임닭 프리미엄 닭가슴살 전문 브랜드 아임닭이 2020 대한민국 퍼스트브랜드 대상에서 3년 지속 수상의 영예를 안았다 아임닭은 닭가슴살 인기가 높아지던 시기인 2011년 닭가슴살 전문 브랜드로서 처음 발을 내딛었다 하지만 당시 닭가슴살은 다이어트 혹은 근육을 늘리기 위한 식단 정도로 인식됐다 그러나 아임닭은 특정한 목적이 아니어도 누구나 닭가슴살을 맛있게 즐길 수 있으며 특히 닭가슴살의 풍부한 단백질이 건강한 식단 구성에 도움이 된다고 생각했다 이런 기업가치를 기반으로 닭가슴살의 풍부하고 건강한 단백질을 중심으로 한 건강한 식문화를 주도하고 균형잡힌 식단을 제공해 왔다 닭가슴살을 일상에서 맛있게 즐길 수 있도록 소시지 큐브 스테이크 육포 만두 빅볼 등 다양한 닭 가슴살 제품을 선보였다 특히 아임닭의 닭가슴살 빅볼 제조 기술은 특허 출원까지 하는 등 연구·개발에 역량과 인력 비용을 투자에 힘쓰고 있다 아임닭은 프리미엄 닭가슴살을 표방하며 닭가슴살 품질을 높이는 데에 많은 투자를 하고 있다 좋은 품질의 제품으로 식단을 이어가야 한다는 신념을 가지고 있으며 품질을 포기하지 않고 있다 정형외과 전문醫 소속된 메디컬 센터 운영2020 대한민국 퍼스트브랜드 대상 바디프랜드 올해 창립 13주년을 맞은 바디프랜드는 건강을 디자인하다라는 설립정신과 건강수명 10년 연장 프로젝트를 실현할 프리미엄 헬스케어 제품을 선보이고 있다 거실과 침실 부엌 등 다양한 공간에서 고객들의 건강한 일상생활을 설계 지원하는 것을 경영의 최우선 가치로 삼는다 특히 안마의자는 바디프랜드의 상징과 같은 품목이다 많은 소비자가 안마의자 하면 바디프랜드를 떠올릴 정도로 국내와 글로벌시장을 대표하는 헬스케어 브랜드로 자리 잡았다 바디프랜드는 기술연구소 디자인연구소 메디컬센터까지 3대 조직을 운영 중인데 이 가운데 정형외과 신경외과 등 전문의들이 소속된 메디컬센터는 안마의자가 건강 증진에 이바지할 수 있도록 인체에 미치는 의학적 효능을 입증하는 데 주력하고 있다 대표 안마의자 모델은 파라오Ⅱ와 팬텀Ⅱ로 체형별 다차원 마사지를 구현한 프리미엄 제품이다 바디프랜드는 내수시장에서 인정받은 기술과 디자인 역량을 앞세워 글로벌시장 공략에도 나섰다 2019년 6월에는 프랑스 파리의 오스만 거리에 플래그십 스토어를 열었다 미국 중국에 이은 세 번째 해외 플래그십 스토어로 유럽지역은 파리가 처음이다'\n",
      " '재단법인 우당이회영선생교육문화재단이사장 이종찬은 제1회 우당상 수상자로 김성수〈사진〉 성공회 주교를 영석상 수상자로 ㈜풀무원을 선정했다 우당상은 우당 이회영 선생의 독립운동 정신을 구현한 인물에게 영석상은 사회공헌 활동을 모범적으로 실천하는 기업에 주는 상이다 김 주교는 발달장애인을 위한 봉사활동을 하고 민주화 운동에 앞장선 공로를 인정받았다 풀무원은 바른먹거리 캠페인 풀무원 재단 등 다양한 사회공헌 활동을 해온 공로다 시상식은 5일 오후 5시 서울 종로구 세종문화회관 세종홀에서 열린다']\n"
     ]
    }
   ],
   "source": [
    "print(joseon_df['내용'].values)"
   ]
  },
  {
   "cell_type": "markdown",
   "id": "2ef8aebf",
   "metadata": {},
   "source": [
    "전국매일신문"
   ]
  },
  {
   "cell_type": "code",
   "execution_count": 24,
   "id": "daaf4b1a",
   "metadata": {
    "ExecuteTime": {
     "end_time": "2021-08-06T07:47:50.774805Z",
     "start_time": "2021-08-06T07:47:49.052707Z"
    }
   },
   "outputs": [
    {
     "name": "stdout",
     "output_type": "stream",
     "text": [
      "기사가 없습니다.\n"
     ]
    }
   ],
   "source": [
    "def alldays(query,driver_path):\n",
    "    driver = webdriver.Chrome(executable_path=driver_path, options=options)  # for Windows\n",
    "\n",
    "    domain = '전국매일신문'\n",
    "    url_domain = 'https://search.naver.com/search.naver?where=news&query='\n",
    "    news_domain = '&sm=tab_opt&sort=0&photo=0&field=0&pd=0&ds=&de=&docid=&related=0&mynews=1&office_type=1&office_section_code=1&news_office_checked=2844&nso=&is_sug_officeid=0'\n",
    "    url = url_domain + query + news_domain\n",
    "    driver.get(url)\n",
    "    soup = BeautifulSoup(driver.page_source,'html.parser')\n",
    "\n",
    "    # 기사 url을 list형태로 반환\n",
    "    try:\n",
    "        news_list = soup.select('#main_pack > section > div > div.group_news > ul')\n",
    "        url_list = []\n",
    "        news_list = news_list[0].find_all('li')\n",
    "        for url in news_list:\n",
    "            url_list.append(str(url.find_all('a')[0].get('data-url')))\n",
    "    except:\n",
    "        print('기사가 없습니다.')\n",
    "        driver.close()\n",
    "        return 0\n",
    "    \n",
    "    driver.close()\n",
    "\n",
    "    head_list = []\n",
    "    data_list = []\n",
    "\n",
    "    for url in url_list:\n",
    "        try:\n",
    "            driver = webdriver.Chrome(executable_path=driver_path, options=options)  # for Windows\n",
    "            driver.get(url)\n",
    "            time.sleep(2)\n",
    "            soup = BeautifulSoup(driver.page_source,'html.parser')\n",
    "            head = clean_text(soup.find('div',class_=\"article-head-title\").text)\n",
    "            head_list.append(head)\n",
    "            tags = soup.select_one('#article-view-content-div').find_all('p')\n",
    "            data = [clean_text(x.text) for x in tags]\n",
    "            data_list.append(' '.join(data))\n",
    "        except:\n",
    "            print(\"None_type\")\n",
    "        driver.close()\n",
    "    output = pd.DataFrame({'언론사' : [domain]*len(head_list),\n",
    "                           '제목' :  head_list,\n",
    "                           '내용' : data_list})\n",
    "    return output\n",
    "\n",
    "alldays_df = alldays(query, driver_path)"
   ]
  },
  {
   "cell_type": "code",
   "execution_count": 10,
   "id": "a94cecd7",
   "metadata": {
    "ExecuteTime": {
     "end_time": "2021-08-06T05:25:36.025125Z",
     "start_time": "2021-08-06T05:25:36.009199Z"
    }
   },
   "outputs": [
    {
     "data": {
      "text/html": [
       "<div>\n",
       "<style scoped>\n",
       "    .dataframe tbody tr th:only-of-type {\n",
       "        vertical-align: middle;\n",
       "    }\n",
       "\n",
       "    .dataframe tbody tr th {\n",
       "        vertical-align: top;\n",
       "    }\n",
       "\n",
       "    .dataframe thead th {\n",
       "        text-align: right;\n",
       "    }\n",
       "</style>\n",
       "<table border=\"1\" class=\"dataframe\">\n",
       "  <thead>\n",
       "    <tr style=\"text-align: right;\">\n",
       "      <th></th>\n",
       "      <th>언론사</th>\n",
       "      <th>제목</th>\n",
       "      <th>내용</th>\n",
       "    </tr>\n",
       "  </thead>\n",
       "  <tbody>\n",
       "    <tr>\n",
       "      <th>0</th>\n",
       "      <td>경향신문</td>\n",
       "      <td>삼성전자, 21일 밤 국내외 사업장서 ‘전등끄기’ 까닭은</td>\n",
       "      <td>삼성전자가 지난 21일 저녁 경기 수원 삼성 디지털시티와 44개 해외 판매·생산법인...</td>\n",
       "    </tr>\n",
       "    <tr>\n",
       "      <th>1</th>\n",
       "      <td>경향신문</td>\n",
       "      <td>삼성 가전 새 슬로건 ‘이제는 가전을 나답게’</td>\n",
       "      <td>ㆍ‘틀에 박힌 시장에 마침표’ 의미 담아…마케팅 전반에 활용 예정 삼성전자가 전 가...</td>\n",
       "    </tr>\n",
       "    <tr>\n",
       "      <th>2</th>\n",
       "      <td>경향신문</td>\n",
       "      <td>철 없는 ‘4K TV’, 삼성에 효자 TV</td>\n",
       "      <td>게임 환경에서 4 왼쪽와 일반 의 화질을 비교한 모습 삼성전자 제공 신제품 ‘8 ’...</td>\n",
       "    </tr>\n",
       "    <tr>\n",
       "      <th>3</th>\n",
       "      <td>경향신문</td>\n",
       "      <td>[단독] 윤종원 청와대 경제수석 첫 인터뷰 “문 대통령·삼성 이재용 만남, 재벌 구...</td>\n",
       "      <td>·윤종원 신임 경제수석 임명 후 첫 언론 인터뷰 ·대통령이 삼성 이재용 부회장 만난...</td>\n",
       "    </tr>\n",
       "    <tr>\n",
       "      <th>4</th>\n",
       "      <td>경향신문</td>\n",
       "      <td>삼성그룹 새해 슬로건 ‘새로운 도전’···경영기조는 ‘내실’</td>\n",
       "      <td>삼성그룹이 새해 경영전략의 기조를 ‘내실 다지기’로 정했다 ‘새로운 도전’을 슬로건...</td>\n",
       "    </tr>\n",
       "    <tr>\n",
       "      <th>5</th>\n",
       "      <td>경향신문</td>\n",
       "      <td>삼성 “당신 일상의 새 기준”…LG “더 나은 삶으로 혁신”</td>\n",
       "      <td>ㆍ국제가전전시회 내일 개막 삼성전자가 다음달 1일 독일 베를린에서 개막하는 ‘국제가...</td>\n",
       "    </tr>\n",
       "    <tr>\n",
       "      <th>6</th>\n",
       "      <td>경향신문</td>\n",
       "      <td>무풍 에어컨의 돌풍?···삼성 국내 에어컨 판매 100만대 돌파</td>\n",
       "      <td>삼성전자가 ‘무풍 에어컨’ 인기에 힘입어 올해 들어 가정용 에어컨 국내 판매 100...</td>\n",
       "    </tr>\n",
       "    <tr>\n",
       "      <th>7</th>\n",
       "      <td>경향신문</td>\n",
       "      <td>삼성전자 ‘스마트홈’ 사업 美 CES서 선보여</td>\n",
       "      <td>삼성전자는 ·냉장고·세탁기 등 집안의 가전기기에다 스마트폰 같은 기기를 연결해 손쉽...</td>\n",
       "    </tr>\n",
       "    <tr>\n",
       "      <th>8</th>\n",
       "      <td>경향신문</td>\n",
       "      <td>[기업특집] “실패해도 괜찮아”…삼성의 도전은 계속된다</td>\n",
       "      <td>삼성전자 수원공장에는 스페이스와 아이디어 라운지라는 다소 이색적인 공간이 마련돼 있...</td>\n",
       "    </tr>\n",
       "  </tbody>\n",
       "</table>\n",
       "</div>"
      ],
      "text/plain": [
       "    언론사                                                 제목  \\\n",
       "0  경향신문                    삼성전자, 21일 밤 국내외 사업장서 ‘전등끄기’ 까닭은   \n",
       "1  경향신문                          삼성 가전 새 슬로건 ‘이제는 가전을 나답게’   \n",
       "2  경향신문                            철 없는 ‘4K TV’, 삼성에 효자 TV   \n",
       "3  경향신문  [단독] 윤종원 청와대 경제수석 첫 인터뷰 “문 대통령·삼성 이재용 만남, 재벌 구...   \n",
       "4  경향신문                  삼성그룹 새해 슬로건 ‘새로운 도전’···경영기조는 ‘내실’   \n",
       "5  경향신문                  삼성 “당신 일상의 새 기준”…LG “더 나은 삶으로 혁신”   \n",
       "6  경향신문                무풍 에어컨의 돌풍?···삼성 국내 에어컨 판매 100만대 돌파   \n",
       "7  경향신문                          삼성전자 ‘스마트홈’ 사업 美 CES서 선보여   \n",
       "8  경향신문                     [기업특집] “실패해도 괜찮아”…삼성의 도전은 계속된다   \n",
       "\n",
       "                                                  내용  \n",
       "0  삼성전자가 지난 21일 저녁 경기 수원 삼성 디지털시티와 44개 해외 판매·생산법인...  \n",
       "1  ㆍ‘틀에 박힌 시장에 마침표’ 의미 담아…마케팅 전반에 활용 예정 삼성전자가 전 가...  \n",
       "2  게임 환경에서 4 왼쪽와 일반 의 화질을 비교한 모습 삼성전자 제공 신제품 ‘8 ’...  \n",
       "3  ·윤종원 신임 경제수석 임명 후 첫 언론 인터뷰 ·대통령이 삼성 이재용 부회장 만난...  \n",
       "4  삼성그룹이 새해 경영전략의 기조를 ‘내실 다지기’로 정했다 ‘새로운 도전’을 슬로건...  \n",
       "5  ㆍ국제가전전시회 내일 개막 삼성전자가 다음달 1일 독일 베를린에서 개막하는 ‘국제가...  \n",
       "6  삼성전자가 ‘무풍 에어컨’ 인기에 힘입어 올해 들어 가정용 에어컨 국내 판매 100...  \n",
       "7  삼성전자는 ·냉장고·세탁기 등 집안의 가전기기에다 스마트폰 같은 기기를 연결해 손쉽...  \n",
       "8  삼성전자 수원공장에는 스페이스와 아이디어 라운지라는 다소 이색적인 공간이 마련돼 있...  "
      ]
     },
     "execution_count": 10,
     "metadata": {},
     "output_type": "execute_result"
    }
   ],
   "source": [
    "biz"
   ]
  },
  {
   "cell_type": "code",
   "execution_count": 11,
   "id": "2c872984",
   "metadata": {
    "ExecuteTime": {
     "end_time": "2021-08-06T05:25:36.067187Z",
     "start_time": "2021-08-06T05:25:36.050750Z"
    }
   },
   "outputs": [
    {
     "data": {
      "text/html": [
       "<div>\n",
       "<style scoped>\n",
       "    .dataframe tbody tr th:only-of-type {\n",
       "        vertical-align: middle;\n",
       "    }\n",
       "\n",
       "    .dataframe tbody tr th {\n",
       "        vertical-align: top;\n",
       "    }\n",
       "\n",
       "    .dataframe thead th {\n",
       "        text-align: right;\n",
       "    }\n",
       "</style>\n",
       "<table border=\"1\" class=\"dataframe\">\n",
       "  <thead>\n",
       "    <tr style=\"text-align: right;\">\n",
       "      <th></th>\n",
       "      <th>언론사</th>\n",
       "      <th>제목</th>\n",
       "      <th>내용</th>\n",
       "    </tr>\n",
       "  </thead>\n",
       "  <tbody>\n",
       "    <tr>\n",
       "      <th>0</th>\n",
       "      <td>중앙일보</td>\n",
       "      <td>삼성· 펄펄 나는데 ‘탱크주의’ 대우전자가 아쉬운 이유</td>\n",
       "      <td>1993년 대우전자가 선보인 탱크주의 신문 광고 배순훈 대우전 사장오른쪽 광고 속 ...</td>\n",
       "    </tr>\n",
       "    <tr>\n",
       "      <th>1</th>\n",
       "      <td>중앙일보</td>\n",
       "      <td>코로나 위기로 브랜드 더 중요해져…딤채·삼성서울병원 등 1위</td>\n",
       "      <td>사진 브랜드스탁 신종 코로나바이러스 감염증코로나19의 확산 속에도 딤채 하나투어 제...</td>\n",
       "    </tr>\n",
       "    <tr>\n",
       "      <th>2</th>\n",
       "      <td>중앙일보</td>\n",
       "      <td>“비스포크 냉장고 130만원 올레드 200만원”…삼성·전자 31일까지 세일 행사</td>\n",
       "      <td>삼성전자와 전자가 이달 31일까지 한 달간 주요 가전제품과 모바일기기를 대상으로 세...</td>\n",
       "    </tr>\n",
       "    <tr>\n",
       "      <th>3</th>\n",
       "      <td>중앙일보</td>\n",
       "      <td>2021 승현준 삼성리서치 사장 “맞춤형 가전으로 ‘보다 나은 일상’ 실현”</td>\n",
       "      <td>승현준 삼성전자 사장삼성리서치 소장이 11일현지시간 온라인으고 개막한 2021 삼성...</td>\n",
       "    </tr>\n",
       "    <tr>\n",
       "      <th>4</th>\n",
       "      <td>중앙일보</td>\n",
       "      <td>미 헤지펀드 삼성에 밀린 반도체 생산 멈춰라…인텔의 위기</td>\n",
       "      <td>삼성전자와 인텔 로고 중앙포토 1990년대 중반 이후 ‘인텔 인사이드’라는 슬로건과...</td>\n",
       "    </tr>\n",
       "    <tr>\n",
       "      <th>5</th>\n",
       "      <td>중앙일보</td>\n",
       "      <td>바이든 승리에도 삼성 美 텍사스에 반도체 추가투자 가능성</td>\n",
       "      <td>삼성 미국 오스틴 팹 사진 삼성전자 7일현지시간 미국 대선에서 승리 선언을 한 조지...</td>\n",
       "    </tr>\n",
       "    <tr>\n",
       "      <th>6</th>\n",
       "      <td>중앙일보</td>\n",
       "      <td>스마트폰 시장 긁지않은 복권…삼성·애플 14억 인도 쟁탈전</td>\n",
       "      <td>지난8월 인도 벵갈루루에 위치한 삼성 오페라 하우스에서 갤럭시 노트20를 체험하고 ...</td>\n",
       "    </tr>\n",
       "    <tr>\n",
       "      <th>7</th>\n",
       "      <td>중앙일보</td>\n",
       "      <td>파운드리 2위 삼성에 는 넘사벽</td>\n",
       "      <td>삼성전자 평택캠퍼스 전경 사진 삼성전자 가까이하기엔 너무 멀다 파운드리반도체 위탁생...</td>\n",
       "    </tr>\n",
       "    <tr>\n",
       "      <th>8</th>\n",
       "      <td>중앙일보</td>\n",
       "      <td>파운드리 2위 삼성 공격 투자에도 와 격차 커진 까닭</td>\n",
       "      <td>삼성 가까이하기엔 너무 멀다 파운드리반도체 위탁생산 시장에서 1위를 지키고 있는 대...</td>\n",
       "    </tr>\n",
       "    <tr>\n",
       "      <th>9</th>\n",
       "      <td>중앙일보</td>\n",
       "      <td>윤석열 “파일은 마타도어…검증은 팩트에 기초해 이뤄져야</td>\n",
       "      <td>윤석열 전 검찰총장은 29일 출마선언 직후 곧바로 기자들의 질문 검증대에 섰다 약 ...</td>\n",
       "    </tr>\n",
       "  </tbody>\n",
       "</table>\n",
       "</div>"
      ],
      "text/plain": [
       "    언론사                                            제목  \\\n",
       "0  중앙일보                삼성· 펄펄 나는데 ‘탱크주의’ 대우전자가 아쉬운 이유   \n",
       "1  중앙일보             코로나 위기로 브랜드 더 중요해져…딤채·삼성서울병원 등 1위   \n",
       "2  중앙일보  “비스포크 냉장고 130만원 올레드 200만원”…삼성·전자 31일까지 세일 행사   \n",
       "3  중앙일보    2021 승현준 삼성리서치 사장 “맞춤형 가전으로 ‘보다 나은 일상’ 실현”   \n",
       "4  중앙일보               미 헤지펀드 삼성에 밀린 반도체 생산 멈춰라…인텔의 위기   \n",
       "5  중앙일보               바이든 승리에도 삼성 美 텍사스에 반도체 추가투자 가능성   \n",
       "6  중앙일보              스마트폰 시장 긁지않은 복권…삼성·애플 14억 인도 쟁탈전   \n",
       "7  중앙일보                             파운드리 2위 삼성에 는 넘사벽   \n",
       "8  중앙일보                 파운드리 2위 삼성 공격 투자에도 와 격차 커진 까닭   \n",
       "9  중앙일보                윤석열 “파일은 마타도어…검증은 팩트에 기초해 이뤄져야   \n",
       "\n",
       "                                                  내용  \n",
       "0  1993년 대우전자가 선보인 탱크주의 신문 광고 배순훈 대우전 사장오른쪽 광고 속 ...  \n",
       "1  사진 브랜드스탁 신종 코로나바이러스 감염증코로나19의 확산 속에도 딤채 하나투어 제...  \n",
       "2  삼성전자와 전자가 이달 31일까지 한 달간 주요 가전제품과 모바일기기를 대상으로 세...  \n",
       "3  승현준 삼성전자 사장삼성리서치 소장이 11일현지시간 온라인으고 개막한 2021 삼성...  \n",
       "4  삼성전자와 인텔 로고 중앙포토 1990년대 중반 이후 ‘인텔 인사이드’라는 슬로건과...  \n",
       "5  삼성 미국 오스틴 팹 사진 삼성전자 7일현지시간 미국 대선에서 승리 선언을 한 조지...  \n",
       "6  지난8월 인도 벵갈루루에 위치한 삼성 오페라 하우스에서 갤럭시 노트20를 체험하고 ...  \n",
       "7  삼성전자 평택캠퍼스 전경 사진 삼성전자 가까이하기엔 너무 멀다 파운드리반도체 위탁생...  \n",
       "8  삼성 가까이하기엔 너무 멀다 파운드리반도체 위탁생산 시장에서 1위를 지키고 있는 대...  \n",
       "9  윤석열 전 검찰총장은 29일 출마선언 직후 곧바로 기자들의 질문 검증대에 섰다 약 ...  "
      ]
     },
     "execution_count": 11,
     "metadata": {},
     "output_type": "execute_result"
    }
   ],
   "source": [
    "chungang_df"
   ]
  },
  {
   "cell_type": "code",
   "execution_count": 12,
   "id": "143dfc29",
   "metadata": {
    "ExecuteTime": {
     "end_time": "2021-08-06T05:25:36.112479Z",
     "start_time": "2021-08-06T05:25:36.095830Z"
    }
   },
   "outputs": [
    {
     "data": {
      "text/html": [
       "<div>\n",
       "<style scoped>\n",
       "    .dataframe tbody tr th:only-of-type {\n",
       "        vertical-align: middle;\n",
       "    }\n",
       "\n",
       "    .dataframe tbody tr th {\n",
       "        vertical-align: top;\n",
       "    }\n",
       "\n",
       "    .dataframe thead th {\n",
       "        text-align: right;\n",
       "    }\n",
       "</style>\n",
       "<table border=\"1\" class=\"dataframe\">\n",
       "  <thead>\n",
       "    <tr style=\"text-align: right;\">\n",
       "      <th></th>\n",
       "      <th>언론사</th>\n",
       "      <th>제목</th>\n",
       "      <th>내용</th>\n",
       "    </tr>\n",
       "  </thead>\n",
       "  <tbody>\n",
       "    <tr>\n",
       "      <th>0</th>\n",
       "      <td>조선일보</td>\n",
       "      <td>이제는 가전을 나답게 삼성전자 맞춤형 가전 강화</td>\n",
       "      <td>‘이제는 가전을 나답게’ 삼성전자가 새롭게 정한 가전제품 통합 슬로건이다 삼성전자는...</td>\n",
       "    </tr>\n",
       "    <tr>\n",
       "      <th>1</th>\n",
       "      <td>조선일보</td>\n",
       "      <td>지펠·디오스·쏘나타… 별나고 멋진 중산층 만든 디자인</td>\n",
       "      <td>이 글의 제목은 영국의 팝아트 작가 리처드 해밀턴의 1956년 작 ‘오늘의 가정을 ...</td>\n",
       "    </tr>\n",
       "    <tr>\n",
       "      <th>2</th>\n",
       "      <td>조선일보</td>\n",
       "      <td>“정치와 정책의 괴리…文 정부는 정경환란 상태”</td>\n",
       "      <td>한국 경제의 역사를 쉽게 이해하는 방법 중의 하나는 역대 대통령들의 경제정책을 분석...</td>\n",
       "    </tr>\n",
       "    <tr>\n",
       "      <th>3</th>\n",
       "      <td>조선일보</td>\n",
       "      <td>냉장고 내부도 이젠 내 마음대로 삼성전자 뉴 셰프컬렉션 출시</td>\n",
       "      <td>삼성전자가 3번째 프로젝트 프리즘맞춤형 가전 제품인 ‘뉴 셰프컬렉션 냉장고’를 2일...</td>\n",
       "    </tr>\n",
       "    <tr>\n",
       "      <th>4</th>\n",
       "      <td>조선일보</td>\n",
       "      <td>자산 364억 빚 291억공약만큼 재산도 파격적인 ‘이단아’ 허경영</td>\n",
       "      <td>“나라에 돈이 없는 것이 아니라 도둑놈이 많습니다” 지난달 28일 오전 10시 서울...</td>\n",
       "    </tr>\n",
       "    <tr>\n",
       "      <th>5</th>\n",
       "      <td>조선일보</td>\n",
       "      <td>미중 사이 줄타기하며 성장한 미중 갈등 핵심으로</td>\n",
       "      <td>미·중 갈등이 다시 달아오르면서 최근 가장 뜨겁게 주목받는 반도체 기업이 있다 대만...</td>\n",
       "    </tr>\n",
       "    <tr>\n",
       "      <th>6</th>\n",
       "      <td>조선일보</td>\n",
       "      <td>세계 파운드리 54 장악한 대만 킹핀… 美·中 갈등의 핵으로</td>\n",
       "      <td>미·중 갈등이 다시 달아오르면서 최근 가장 뜨겁게 주목받는 반도체 기업이 있다 대만...</td>\n",
       "    </tr>\n",
       "    <tr>\n",
       "      <th>7</th>\n",
       "      <td>조선일보</td>\n",
       "      <td>2020 의 모든 것 보여준다</td>\n",
       "      <td>인공지능를 우리의 일상으로 내년 1월 710일현지 시각 미국 라스베이거스에서 미국소...</td>\n",
       "    </tr>\n",
       "    <tr>\n",
       "      <th>8</th>\n",
       "      <td>조선일보</td>\n",
       "      <td>가장 친환경적경제적 에너지원 에너지 효율 혁신 전략 한눈에</td>\n",
       "      <td>대한민국의 에너지 산업과 기술의 현재와 미래를 한눈에 살펴볼 수 있는 전시회가 열린...</td>\n",
       "    </tr>\n",
       "    <tr>\n",
       "      <th>9</th>\n",
       "      <td>조선일보</td>\n",
       "      <td>스토리 대만을 대표하는 기업가 궈타이밍은 ‘트럼프’가 될까</td>\n",
       "      <td>궈타이밍郭台銘·69·사진은 대만의 트럼프가 될 수 있을 것인가 세계 최대 전자제품 ...</td>\n",
       "    </tr>\n",
       "  </tbody>\n",
       "</table>\n",
       "</div>"
      ],
      "text/plain": [
       "    언론사                                     제목  \\\n",
       "0  조선일보             이제는 가전을 나답게 삼성전자 맞춤형 가전 강화   \n",
       "1  조선일보          지펠·디오스·쏘나타… 별나고 멋진 중산층 만든 디자인   \n",
       "2  조선일보             “정치와 정책의 괴리…文 정부는 정경환란 상태”   \n",
       "3  조선일보      냉장고 내부도 이젠 내 마음대로 삼성전자 뉴 셰프컬렉션 출시   \n",
       "4  조선일보  자산 364억 빚 291억공약만큼 재산도 파격적인 ‘이단아’ 허경영   \n",
       "5  조선일보             미중 사이 줄타기하며 성장한 미중 갈등 핵심으로   \n",
       "6  조선일보      세계 파운드리 54 장악한 대만 킹핀… 美·中 갈등의 핵으로   \n",
       "7  조선일보                       2020 의 모든 것 보여준다   \n",
       "8  조선일보       가장 친환경적경제적 에너지원 에너지 효율 혁신 전략 한눈에   \n",
       "9  조선일보       스토리 대만을 대표하는 기업가 궈타이밍은 ‘트럼프’가 될까   \n",
       "\n",
       "                                                  내용  \n",
       "0  ‘이제는 가전을 나답게’ 삼성전자가 새롭게 정한 가전제품 통합 슬로건이다 삼성전자는...  \n",
       "1  이 글의 제목은 영국의 팝아트 작가 리처드 해밀턴의 1956년 작 ‘오늘의 가정을 ...  \n",
       "2  한국 경제의 역사를 쉽게 이해하는 방법 중의 하나는 역대 대통령들의 경제정책을 분석...  \n",
       "3  삼성전자가 3번째 프로젝트 프리즘맞춤형 가전 제품인 ‘뉴 셰프컬렉션 냉장고’를 2일...  \n",
       "4  “나라에 돈이 없는 것이 아니라 도둑놈이 많습니다” 지난달 28일 오전 10시 서울...  \n",
       "5  미·중 갈등이 다시 달아오르면서 최근 가장 뜨겁게 주목받는 반도체 기업이 있다 대만...  \n",
       "6  미·중 갈등이 다시 달아오르면서 최근 가장 뜨겁게 주목받는 반도체 기업이 있다 대만...  \n",
       "7  인공지능를 우리의 일상으로 내년 1월 710일현지 시각 미국 라스베이거스에서 미국소...  \n",
       "8  대한민국의 에너지 산업과 기술의 현재와 미래를 한눈에 살펴볼 수 있는 전시회가 열린...  \n",
       "9  궈타이밍郭台銘·69·사진은 대만의 트럼프가 될 수 있을 것인가 세계 최대 전자제품 ...  "
      ]
     },
     "execution_count": 12,
     "metadata": {},
     "output_type": "execute_result"
    }
   ],
   "source": [
    "joseon_df"
   ]
  },
  {
   "cell_type": "code",
   "execution_count": 29,
   "id": "dd31bbef",
   "metadata": {
    "ExecuteTime": {
     "end_time": "2021-08-03T08:29:12.644068Z",
     "start_time": "2021-08-03T08:29:12.633441Z"
    }
   },
   "outputs": [
    {
     "data": {
      "text/plain": [
       "0"
      ]
     },
     "execution_count": 29,
     "metadata": {},
     "output_type": "execute_result"
    }
   ],
   "source": [
    "alldays_df"
   ]
  },
  {
   "cell_type": "code",
   "execution_count": null,
   "id": "a4717ede",
   "metadata": {},
   "outputs": [],
   "source": [
    "def crawling(query):\n",
    "    "
   ]
  },
  {
   "cell_type": "markdown",
   "id": "cb867d1e",
   "metadata": {},
   "source": [
    "* * *  \n",
    "저장할 때"
   ]
  },
  {
   "cell_type": "code",
   "execution_count": null,
   "id": "6440774e",
   "metadata": {
    "ExecuteTime": {
     "end_time": "2021-08-03T08:07:25.721985Z",
     "start_time": "2021-08-03T08:05:41.989Z"
    }
   },
   "outputs": [],
   "source": [
    "# biz.to_csv('경향신문.csv',encoding='CP949',index=None)"
   ]
  },
  {
   "cell_type": "code",
   "execution_count": null,
   "id": "306e3293",
   "metadata": {
    "ExecuteTime": {
     "end_time": "2021-08-03T08:07:25.722894Z",
     "start_time": "2021-08-03T08:05:41.990Z"
    }
   },
   "outputs": [],
   "source": [
    "# test = pd.read_csv('경향신문.csv',encoding='CP949')"
   ]
  },
  {
   "cell_type": "code",
   "execution_count": null,
   "id": "873b3c39",
   "metadata": {
    "ExecuteTime": {
     "end_time": "2021-08-03T08:07:25.723987Z",
     "start_time": "2021-08-03T08:05:41.991Z"
    }
   },
   "outputs": [],
   "source": [
    "# test"
   ]
  },
  {
   "cell_type": "markdown",
   "id": "e65a3679",
   "metadata": {
    "ExecuteTime": {
     "end_time": "2021-08-03T07:07:15.550802Z",
     "start_time": "2021-08-03T07:07:15.540101Z"
    }
   },
   "source": [
    "* * * \n",
    "연습"
   ]
  }
 ],
 "metadata": {
  "kernelspec": {
   "display_name": "Python 3",
   "language": "python",
   "name": "python3"
  },
  "language_info": {
   "codemirror_mode": {
    "name": "ipython",
    "version": 3
   },
   "file_extension": ".py",
   "mimetype": "text/x-python",
   "name": "python",
   "nbconvert_exporter": "python",
   "pygments_lexer": "ipython3",
   "version": "3.8.8"
  },
  "toc": {
   "base_numbering": 1,
   "nav_menu": {},
   "number_sections": true,
   "sideBar": true,
   "skip_h1_title": false,
   "title_cell": "Table of Contents",
   "title_sidebar": "Contents",
   "toc_cell": false,
   "toc_position": {},
   "toc_section_display": true,
   "toc_window_display": false
  },
  "varInspector": {
   "cols": {
    "lenName": 16,
    "lenType": 16,
    "lenVar": 40
   },
   "kernels_config": {
    "python": {
     "delete_cmd_postfix": "",
     "delete_cmd_prefix": "del ",
     "library": "var_list.py",
     "varRefreshCmd": "print(var_dic_list())"
    },
    "r": {
     "delete_cmd_postfix": ") ",
     "delete_cmd_prefix": "rm(",
     "library": "var_list.r",
     "varRefreshCmd": "cat(var_dic_list()) "
    }
   },
   "types_to_exclude": [
    "module",
    "function",
    "builtin_function_or_method",
    "instance",
    "_Feature"
   ],
   "window_display": false
  }
 },
 "nbformat": 4,
 "nbformat_minor": 5
}
