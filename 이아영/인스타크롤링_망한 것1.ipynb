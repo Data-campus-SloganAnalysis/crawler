{
 "cells": [
  {
   "cell_type": "code",
   "execution_count": 1,
   "id": "298ee7ad",
   "metadata": {},
   "outputs": [],
   "source": [
    "from bs4 import BeautifulSoup\n",
    "from selenium import webdriver\n",
    "from selenium.webdriver.support.ui import WebDriverWait\n",
    "from selenium.webdriver.support import expected_conditions as EC\n",
    "from selenium.webdriver.common.by import By \n",
    "import time\n",
    "import re\n",
    "import pandas as pd\n",
    "\n",
    "\n",
    "options = webdriver.ChromeOptions()\n",
    "options.add_argument(\"headless\")"
   ]
  },
  {
   "cell_type": "code",
   "execution_count": 2,
   "id": "05657c70",
   "metadata": {},
   "outputs": [],
   "source": [
    "#크롬 브라우저 열기\n",
    "driver = webdriver.Chrome('C:/chromedriver_win32/chromedriver.exe')\n",
    "driver.get('https://www.instagram.com/')\n",
    "p_tag = WebDriverWait(driver, timeout =5).until(EC.presence_of_element_located((By.TAG_NAME, \"P\")))\n",
    "\n",
    "time.sleep(3)\n",
    "\n",
    "#인스타그램 로그인을 위한 계정정보\n",
    "email='username'\n",
    "input_id = driver.find_elements_by_css_selector('input._2hvTZ.pexuQ.zyHYP')[0]\n",
    "input_id.clear()\n",
    "input_id.send_keys(email)\n",
    "\n",
    "password = 'userpw'\n",
    "input_pw = driver.find_elements_by_css_selector('input._2hvTZ.pexuQ.zyHYP')[1]\n",
    "input_pw.clear()\n",
    "input_pw.send_keys(password)\n",
    "input_pw.submit()\n",
    "\n",
    "time.sleep(5)\n",
    "\n",
    "driver.find_element_by_css_selector('button.sqdOP.yWX7d.y3zKF').click()\n",
    "time.sleep(3)\n",
    "driver.find_element_by_css_selector('button.aOOlW.HoLwm').click()\n",
    "time.sleep(3)\n"
   ]
  },
  {
   "cell_type": "code",
   "execution_count": 3,
   "id": "75e7099f",
   "metadata": {},
   "outputs": [],
   "source": [
    "word=\"풀무원바른먹거리\"\n",
    "url = \"https://www.instagram.com/explore/tags/\"+ str(word)\n",
    "driver.get(url) \n",
    "time.sleep(10)\n",
    "\n"
   ]
  },
  {
   "cell_type": "code",
   "execution_count": 4,
   "id": "8e10eb40",
   "metadata": {},
   "outputs": [],
   "source": [
    "first_img_css = '.v1Nh3.kIKUG._bz0w'\n",
    "driver.find_element_by_css_selector(first_img_css).click()"
   ]
  },
  {
   "cell_type": "code",
   "execution_count": 5,
   "id": "a4d4146c",
   "metadata": {},
   "outputs": [],
   "source": [
    "main_texts=[]\n",
    "instagram_tags = []\n",
    "check_arrow =True\n",
    "count_extract = 0\n",
    "wish_num =10"
   ]
  },
  {
   "cell_type": "code",
   "execution_count": 13,
   "id": "7dee8ccc",
   "metadata": {},
   "outputs": [],
   "source": [
    "\n",
    "while True:\n",
    "    if count_extract > wish_num :\n",
    "        break\n",
    "    time.sleep(5)\n",
    "    \n",
    "    try:\n",
    "        main_text_object =driver.find_element_by_css_selector('div.C7I1f.X7jCj > div.C4VMK > span')\n",
    "        main_text = main_text_object.text\n",
    "    except:\n",
    "        main_text = None\n",
    "        \n",
    "    try:\n",
    "        data = driver.find_element_by_css_selector(\".C7I1f.X7jCj\")\n",
    "        tag_raw = data.text\n",
    "        tags = re.findall('#[A-Za-z0-9가-힣]+', tag_raw)\n",
    "        tag = ''.join(tags).replace(\"#\", \" \")\n",
    "        tag_data = tag.split()\n",
    "        \n",
    "        for tag_one in tag_data:\n",
    "            instagram_tags.append(tag_one)\n",
    "    except:\n",
    "        continue\n",
    "        \n",
    "    main_texts.append(main_text)\n",
    "    \n",
    "    try: \n",
    "        WebDriverWait(driver, 100).until(EC.presence_of_element_located((By.CSS_SELECTOR, next_arrow_btn_css1))) \n",
    "        driver.find_element_by_css_selector(next_arrow_btn_css2).click() \n",
    "    except: \n",
    "        check_arrow = False\n",
    "\n",
    "\n",
    "    count_extract += 1\n",
    "    \n",
    "\n",
    "\n",
    "\n"
   ]
  },
  {
   "cell_type": "code",
   "execution_count": 14,
   "id": "bf72eedc",
   "metadata": {},
   "outputs": [
    {
     "data": {
      "text/plain": [
       "['0428',\n",
       " 'juneha',\n",
       " '풀무원바른먹거리',\n",
       " '0428',\n",
       " 'juneha',\n",
       " '풀무원바른먹거리',\n",
       " '0428',\n",
       " 'juneha',\n",
       " '풀무원바른먹거리',\n",
       " '0428',\n",
       " 'juneha',\n",
       " '풀무원바른먹거리',\n",
       " '0428',\n",
       " 'juneha',\n",
       " '풀무원바른먹거리',\n",
       " '0428',\n",
       " 'juneha',\n",
       " '풀무원바른먹거리',\n",
       " '0428',\n",
       " 'juneha',\n",
       " '풀무원바른먹거리',\n",
       " '0428',\n",
       " 'juneha',\n",
       " '풀무원바른먹거리',\n",
       " '0428',\n",
       " 'juneha',\n",
       " '풀무원바른먹거리',\n",
       " '0428',\n",
       " 'juneha',\n",
       " '풀무원바른먹거리',\n",
       " '0428',\n",
       " 'juneha',\n",
       " '풀무원바른먹거리']"
      ]
     },
     "execution_count": 14,
     "metadata": {},
     "output_type": "execute_result"
    }
   ],
   "source": [
    "instagram_tags"
   ]
  },
  {
   "cell_type": "code",
   "execution_count": 8,
   "id": "b6db4afa",
   "metadata": {},
   "outputs": [],
   "source": [
    "#driver.close()"
   ]
  },
  {
   "cell_type": "code",
   "execution_count": null,
   "id": "145eb2f9",
   "metadata": {},
   "outputs": [],
   "source": []
  },
  {
   "cell_type": "code",
   "execution_count": null,
   "id": "4170e09c",
   "metadata": {},
   "outputs": [],
   "source": []
  },
  {
   "cell_type": "code",
   "execution_count": null,
   "id": "0dd98e0d",
   "metadata": {},
   "outputs": [],
   "source": []
  },
  {
   "cell_type": "code",
   "execution_count": null,
   "id": "4e3e8194",
   "metadata": {},
   "outputs": [],
   "source": []
  },
  {
   "cell_type": "code",
   "execution_count": 9,
   "id": "27d5cb3b",
   "metadata": {},
   "outputs": [],
   "source": [
    "#df.to_csv(\"인스타.csv\", header = True, index = False, encoding='utf-8-sig')"
   ]
  },
  {
   "cell_type": "code",
   "execution_count": null,
   "id": "6be285cc",
   "metadata": {},
   "outputs": [],
   "source": []
  }
 ],
 "metadata": {
  "kernelspec": {
   "display_name": "Python 3",
   "language": "python",
   "name": "python3"
  },
  "language_info": {
   "codemirror_mode": {
    "name": "ipython",
    "version": 3
   },
   "file_extension": ".py",
   "mimetype": "text/x-python",
   "name": "python",
   "nbconvert_exporter": "python",
   "pygments_lexer": "ipython3",
   "version": "3.8.8"
  }
 },
 "nbformat": 4,
 "nbformat_minor": 5
}
