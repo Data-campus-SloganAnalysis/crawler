{
 "cells": [
  {
   "cell_type": "code",
   "execution_count": 1,
   "id": "298ee7ad",
   "metadata": {},
   "outputs": [],
   "source": [
    "from bs4 import BeautifulSoup\n",
    "from selenium import webdriver\n",
    "from selenium.webdriver.support.ui import WebDriverWait\n",
    "from selenium.webdriver.support import expected_conditions as EC\n",
    "from selenium.webdriver.common.by import By \n",
    "import time\n",
    "import re\n",
    "import pandas as pd\n",
    "\n",
    "\n",
    "options = webdriver.ChromeOptions()\n",
    "options.add_argument(\"headless\")"
   ]
  },
  {
   "cell_type": "code",
   "execution_count": 2,
   "id": "05657c70",
   "metadata": {},
   "outputs": [],
   "source": [
    "#크롬 브라우저 열기\n",
    "driver = webdriver.Chrome('C:/chromedriver_win32/chromedriver.exe')\n",
    "driver.get('https://www.instagram.com/')\n",
    "p_tag = WebDriverWait(driver, timeout =5).until(EC.presence_of_element_located((By.TAG_NAME, \"P\")))\n",
    "\n",
    "time.sleep(3)\n",
    "\n",
    "#인스타그램 로그인을 위한 계정정보\n",
    "email='dkdud1871@naver.com'\n",
    "input_id = driver.find_elements_by_css_selector('input._2hvTZ.pexuQ.zyHYP')[0]\n",
    "input_id.clear()\n",
    "input_id.send_keys(email)\n",
    "\n",
    "password = 'ayoung0112!'\n",
    "input_pw = driver.find_elements_by_css_selector('input._2hvTZ.pexuQ.zyHYP')[1]\n",
    "input_pw.clear()\n",
    "input_pw.send_keys(password)\n",
    "input_pw.submit()\n",
    "\n",
    "time.sleep(5)\n",
    "\n",
    "driver.find_element_by_css_selector('button.sqdOP.yWX7d.y3zKF').click()\n",
    "time.sleep(3)\n",
    "driver.find_element_by_css_selector('button.aOOlW.HoLwm').click()\n",
    "time.sleep(3)\n"
   ]
  },
  {
   "cell_type": "code",
   "execution_count": 3,
   "id": "83a7eeaa",
   "metadata": {},
   "outputs": [],
   "source": [
    "def clean_text(text):\n",
    "    cleaned_text = re.sub('[^ ㄱ-ㅣ가-힣]+',' ',text)\n",
    "    cleaned_text = ' '.join(cleaned_text.split())\n",
    "    return cleaned_text"
   ]
  },
  {
   "cell_type": "code",
   "execution_count": 4,
   "id": "25220efd",
   "metadata": {},
   "outputs": [],
   "source": [
    "def insta_searching(word):\n",
    "    url ='https://www.instagram.com/explore/tags/' + str(word)\n",
    "    return url"
   ]
  },
  {
   "cell_type": "code",
   "execution_count": 5,
   "id": "1f462cd2",
   "metadata": {},
   "outputs": [],
   "source": [
    "def click_first(driver):\n",
    "    first =driver.find_element_by_css_selector('div._9AhH0')\n",
    "    first.click()\n",
    "    time.sleep(7)\n",
    "    \n",
    "time.sleep(10)"
   ]
  },
  {
   "cell_type": "code",
   "execution_count": 6,
   "id": "4b485a4b",
   "metadata": {},
   "outputs": [],
   "source": [
    "tag_list =[]\n",
    "\n",
    "def get_content(driver):\n",
    "# 1. 현재 페이지의 HTML 정보 가져오기\n",
    "    html = driver.page_source\n",
    "    soup = BeautifulSoup(html, 'lxml')\n",
    "# 2. 본문내용\n",
    "    try:\n",
    "        content = soup.select('div.C4VMK > span')[0].text\n",
    "    except:\n",
    "        content = ''\n",
    "# 3. 본문 내용에서 해시태그 가져오기(정규표현식 활용)\n",
    "    tags = re.findall('#[A-Za-z0-9가-힣]+', content)\n",
    "    tag = ''.join(tags).replace(\"#\",\" \") # \"#\" 제거\n",
    "    tag_data = tag.split()\n",
    "    for tag_one in tag_data:\n",
    "        tag_list.append(tag_one)\n",
    "        \n",
    "    data = [content, tag_data]\n",
    "    return data"
   ]
  },
  {
   "cell_type": "code",
   "execution_count": 7,
   "id": "2ba211a0",
   "metadata": {},
   "outputs": [],
   "source": [
    "def next_page(driver):\n",
    "    next_page = driver.find_element_by_css_selector('body > div._2dDPU.CkGkG > div.EfHg9 > div > div > a._65Bje.coreSpriteRightPaginationArrow')\n",
    "    next_page.click()\n",
    "    time.sleep(7)"
   ]
  },
  {
   "cell_type": "code",
   "execution_count": 8,
   "id": "21130520",
   "metadata": {},
   "outputs": [],
   "source": [
    "word = \"바른먹거리풀무원\"\n",
    "url = insta_searching(word)\n",
    "\n",
    "driver.implicitly_wait(9)\n",
    "driver.get(url)\n",
    "time.sleep(9)\n",
    "\n",
    "click_first(driver)\n",
    "\n",
    "result_list=[]\n",
    "\n",
    "target = 100\n",
    "for i in range(target):\n",
    "    try:\n",
    "        data = get_content(driver)\n",
    "        result_list.append(data)\n",
    "        next_page(driver)\n",
    "    except:\n",
    "        time.sleep(9)\n",
    "        next_page(driver)\n",
    "    "
   ]
  },
  {
   "cell_type": "code",
   "execution_count": 9,
   "id": "3f6d2260",
   "metadata": {
    "scrolled": false
   },
   "outputs": [
    {
     "data": {
      "text/html": [
       "<div>\n",
       "<style scoped>\n",
       "    .dataframe tbody tr th:only-of-type {\n",
       "        vertical-align: middle;\n",
       "    }\n",
       "\n",
       "    .dataframe tbody tr th {\n",
       "        vertical-align: top;\n",
       "    }\n",
       "\n",
       "    .dataframe thead th {\n",
       "        text-align: right;\n",
       "    }\n",
       "</style>\n",
       "<table border=\"1\" class=\"dataframe\">\n",
       "  <thead>\n",
       "    <tr style=\"text-align: right;\">\n",
       "      <th></th>\n",
       "      <th>본문</th>\n",
       "      <th>해시태그</th>\n",
       "    </tr>\n",
       "  </thead>\n",
       "  <tbody>\n",
       "    <tr>\n",
       "      <th>0</th>\n",
       "      <td>풀무원 크리스피팝만두 런칭쇼 번가 일 오후 시 김현우가 식품을 한다 심혈을 기울여 ...</td>\n",
       "      <td>풀무원 크리스피팝만두 번가 신상 먹방유튜버 얼리어답터 세상에서가장빨리 신상 물만두 ...</td>\n",
       "    </tr>\n",
       "    <tr>\n",
       "      <th>1</th>\n",
       "      <td>우리 직원들 간식이 떨어지게 무섭게 한가득 풀무원간식도착 했습니다 풀무원모두 맛있는...</td>\n",
       "      <td>풀무원간식도착 풀무원모두 풀무원학교급식 바른먹거리풀무원 바른먹거리동궁찜닭 동궁찜닭경...</td>\n",
       "    </tr>\n",
       "    <tr>\n",
       "      <th>2</th>\n",
       "      <td>오늘은뭐해줘야하나 띵동띵동 몇일전에신청해봤는데왔구나 레시피공모전 갖고있는재료로쉽게접...</td>\n",
       "      <td>오늘은뭐해줘야하나 띵동띵동 몇일전에신청해봤는데왔구나 레시피공모전 갖고있는재료로쉽게접...</td>\n",
       "    </tr>\n",
       "    <tr>\n",
       "      <th>3</th>\n",
       "      <td>사랑해요 풀무원 우유빛깔 풀무원 바른먹거리풀무원 이벤트 선물 감사히 잘 먹겠습니다 ...</td>\n",
       "      <td>바른먹거리풀무원 풀무원은사랑채식을 두근두근 정면 정비빔면 두부텐더 고단백두부큐브 풀무원</td>\n",
       "    </tr>\n",
       "    <tr>\n",
       "      <th>4</th>\n",
       "      <td>집앞 마트에서 한번 사먹어봄라이트누들 콩물 콜라보 이것만 먹으면진짜 오래오래 살거같...</td>\n",
       "      <td>라이트누들 병아리콩 곤약면 콩물 저칼로리 다이어트 건강한맛 바른먹거리 풀무원 너무바...</td>\n",
       "    </tr>\n",
       "    <tr>\n",
       "      <th>...</th>\n",
       "      <td>...</td>\n",
       "      <td>...</td>\n",
       "    </tr>\n",
       "    <tr>\n",
       "      <th>95</th>\n",
       "      <td>ㅋㅋ ㅎ 일에</td>\n",
       "      <td></td>\n",
       "    </tr>\n",
       "    <tr>\n",
       "      <th>96</th>\n",
       "      <td></td>\n",
       "      <td></td>\n",
       "    </tr>\n",
       "    <tr>\n",
       "      <th>97</th>\n",
       "      <td>바른먹거리 풀무원 마미유 아이들에게 정말로 안전한 가지 유산균과 유산균 함유 면역미...</td>\n",
       "      <td>바른먹거리 풀무원 마미유 유산균 스톨레밀크 어린이유산균 바른먹거리풀무원 어린이건강식...</td>\n",
       "    </tr>\n",
       "    <tr>\n",
       "      <th>98</th>\n",
       "      <td>풀무원입니다 여성의 삶의질을 업그레이드 시켜주는 로젠빈 소개드려요 식물성 여성호르몬...</td>\n",
       "      <td>대상받았어요 여성전문제품 바른먹거리풀무원 풀무원로하스 풀무원건강생활 여자이니까 주부...</td>\n",
       "    </tr>\n",
       "    <tr>\n",
       "      <th>99</th>\n",
       "      <td>풀무원입니다 이번달 고메인덕션 특별행사 진행합니다 고메인덕션 렌탈구입시 라이스팟 풀...</td>\n",
       "      <td>인덕션 풀무원인덕션 전기렌지 바른먹거리풀무원 풀무원로하스 라이스팟 아르센청소기 고메...</td>\n",
       "    </tr>\n",
       "  </tbody>\n",
       "</table>\n",
       "<p>100 rows × 2 columns</p>\n",
       "</div>"
      ],
      "text/plain": [
       "                                                   본문  \\\n",
       "0   풀무원 크리스피팝만두 런칭쇼 번가 일 오후 시 김현우가 식품을 한다 심혈을 기울여 ...   \n",
       "1   우리 직원들 간식이 떨어지게 무섭게 한가득 풀무원간식도착 했습니다 풀무원모두 맛있는...   \n",
       "2   오늘은뭐해줘야하나 띵동띵동 몇일전에신청해봤는데왔구나 레시피공모전 갖고있는재료로쉽게접...   \n",
       "3   사랑해요 풀무원 우유빛깔 풀무원 바른먹거리풀무원 이벤트 선물 감사히 잘 먹겠습니다 ...   \n",
       "4   집앞 마트에서 한번 사먹어봄라이트누들 콩물 콜라보 이것만 먹으면진짜 오래오래 살거같...   \n",
       "..                                                ...   \n",
       "95                                            ㅋㅋ ㅎ 일에   \n",
       "96                                                      \n",
       "97  바른먹거리 풀무원 마미유 아이들에게 정말로 안전한 가지 유산균과 유산균 함유 면역미...   \n",
       "98  풀무원입니다 여성의 삶의질을 업그레이드 시켜주는 로젠빈 소개드려요 식물성 여성호르몬...   \n",
       "99  풀무원입니다 이번달 고메인덕션 특별행사 진행합니다 고메인덕션 렌탈구입시 라이스팟 풀...   \n",
       "\n",
       "                                                 해시태그  \n",
       "0   풀무원 크리스피팝만두 번가 신상 먹방유튜버 얼리어답터 세상에서가장빨리 신상 물만두 ...  \n",
       "1   풀무원간식도착 풀무원모두 풀무원학교급식 바른먹거리풀무원 바른먹거리동궁찜닭 동궁찜닭경...  \n",
       "2   오늘은뭐해줘야하나 띵동띵동 몇일전에신청해봤는데왔구나 레시피공모전 갖고있는재료로쉽게접...  \n",
       "3    바른먹거리풀무원 풀무원은사랑채식을 두근두근 정면 정비빔면 두부텐더 고단백두부큐브 풀무원  \n",
       "4   라이트누들 병아리콩 곤약면 콩물 저칼로리 다이어트 건강한맛 바른먹거리 풀무원 너무바...  \n",
       "..                                                ...  \n",
       "95                                                     \n",
       "96                                                     \n",
       "97  바른먹거리 풀무원 마미유 유산균 스톨레밀크 어린이유산균 바른먹거리풀무원 어린이건강식...  \n",
       "98  대상받았어요 여성전문제품 바른먹거리풀무원 풀무원로하스 풀무원건강생활 여자이니까 주부...  \n",
       "99  인덕션 풀무원인덕션 전기렌지 바른먹거리풀무원 풀무원로하스 라이스팟 아르센청소기 고메...  \n",
       "\n",
       "[100 rows x 2 columns]"
      ]
     },
     "execution_count": 9,
     "metadata": {},
     "output_type": "execute_result"
    }
   ],
   "source": [
    "df = pd.DataFrame(result_list)\n",
    "df.columns = ['본문','해시태그']\n",
    "df['본문'] = df['본문'].apply(lambda x : clean_text(x))\n",
    "df['해시태그'] = df['해시태그'].apply(lambda x : clean_text(' '.join(x)))\n",
    "df = df.drop_duplicates(subset=['본문','해시태그'])\n",
    "\n",
    "df"
   ]
  },
  {
   "cell_type": "code",
   "execution_count": 12,
   "id": "27d5cb3b",
   "metadata": {},
   "outputs": [],
   "source": [
    "df.to_csv(\"인스타_댓글빼고.csv\", header = True, index = False, encoding='utf-8-sig')"
   ]
  },
  {
   "cell_type": "code",
   "execution_count": 11,
   "id": "6be285cc",
   "metadata": {},
   "outputs": [],
   "source": [
    "#driver.close()"
   ]
  },
  {
   "cell_type": "code",
   "execution_count": null,
   "id": "cd6fb4e6",
   "metadata": {},
   "outputs": [],
   "source": []
  }
 ],
 "metadata": {
  "kernelspec": {
   "display_name": "Python 3",
   "language": "python",
   "name": "python3"
  },
  "language_info": {
   "codemirror_mode": {
    "name": "ipython",
    "version": 3
   },
   "file_extension": ".py",
   "mimetype": "text/x-python",
   "name": "python",
   "nbconvert_exporter": "python",
   "pygments_lexer": "ipython3",
   "version": "3.8.8"
  }
 },
 "nbformat": 4,
 "nbformat_minor": 5
}
