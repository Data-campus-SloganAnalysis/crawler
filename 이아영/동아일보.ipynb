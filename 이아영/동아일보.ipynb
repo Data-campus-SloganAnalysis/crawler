{
 "cells": [
  {
   "cell_type": "code",
   "execution_count": 2,
   "id": "2effe168",
   "metadata": {},
   "outputs": [],
   "source": [
    "import re\n",
    "from bs4 import BeautifulSoup\n",
    "from selenium import webdriver\n",
    "import time\n",
    "import pandas as pd\n",
    "\n",
    "\n",
    "options = webdriver.ChromeOptions()\n",
    "#options.add_argument(\"headless\")"
   ]
  },
  {
   "cell_type": "code",
   "execution_count": 3,
   "id": "07fd8634",
   "metadata": {},
   "outputs": [],
   "source": [
    "driver_path = 'C:/chromedriver_win32/chromedriver.exe' "
   ]
  },
  {
   "cell_type": "code",
   "execution_count": 28,
   "id": "df2288ad",
   "metadata": {},
   "outputs": [
    {
     "name": "stdout",
     "output_type": "stream",
     "text": [
      "None_type\n"
     ]
    }
   ],
   "source": [
    "def donga(query,driver_path):\n",
    "    domain = '동아일보'\n",
    "    driver = webdriver.Chrome(executable_path=driver_path, options=options)  # for Windows\n",
    "    url_domain = 'https://search.naver.com/search.naver?sm=tab_hty.top&where=news&query='\n",
    "    news_domain ='&sm=tab_opt&sort=0&photo=0&field=0&pd=0&ds=&de=&docid=&related=0&mynews=1&office_type=1&office_section_code=1&news_office_checked=1020&nso=&is_sug_officeid=0' \n",
    "    url = url_domain + query + news_domain\n",
    "    driver.get(url)\n",
    "    soup = BeautifulSoup(driver.page_source,'html.parser')\n",
    " \n",
    "    # 기사 url을 list형태로 반환\n",
    "    news_list = soup.select('#main_pack > section > div > div.group_news > ul')\n",
    "    url_list = []\n",
    "    news_list = news_list[0].find_all('li')\n",
    "    \n",
    "    for url in news_list:\n",
    "        url_list.append(str(url.find_all('a')[0].get('data-url')))\n",
    "    driver.close()\n",
    "    \n",
    "    data_list = []\n",
    "    head_list = []\n",
    "    for url in url_list:\n",
    "        driver = webdriver.Chrome(executable_path=driver_path,options=options)  # for Windows\n",
    "        time.sleep(2)\n",
    "        driver.get(url)\n",
    "        time.sleep(2)\n",
    "        # try문 안에서 각자 언론사에 맞게 수정\n",
    "        try:\n",
    "            soup = BeautifulSoup(driver.page_source,'html.parser')\n",
    "            head_list.append(soup.select_one('#container > div.article_title > h1').text)\n",
    "            tags = soup.select_one('#content > div > div.article_txt').text\n",
    "            tags=clean_text(tags)\n",
    "            data_list.append(tags)\n",
    "        except:\n",
    "            print('None_type')\n",
    "        driver.close()\n",
    "        \n",
    "    output = pd.DataFrame({'언론사' : [domain]*len(head_list),\n",
    "                          '제목' :  head_list,\n",
    "                          '내용' : data_list})\n",
    "    return output\n",
    "\n",
    "donga = donga('삼성전자 슬로건',driver_path)"
   ]
  },
  {
   "cell_type": "code",
   "execution_count": 27,
   "id": "0c84948c",
   "metadata": {},
   "outputs": [],
   "source": [
    "def clean_text(text):\n",
    "    cleaned_text = re.sub('[a-zA-Z]', '', text)\n",
    "    cleaned_text = re.sub('[\\{\\}\\[\\]\\/?.,;:|\\)*~`!^\\-_+<>@\\#$%&\\\\\\=\\(\\'\\\"]',\n",
    "                          '', cleaned_text)\n",
    "    cleaned_text = ' '.join(cleaned_text.split())\n",
    "    return cleaned_text"
   ]
  },
  {
   "cell_type": "code",
   "execution_count": 30,
   "id": "aaf1b4f2",
   "metadata": {},
   "outputs": [],
   "source": [
    "donga.to_csv('동아일보.csv',encoding='CP949',index=None)\n",
    "dong=pd.read_csv('동아일보.csv',encoding='CP949')"
   ]
  },
  {
   "cell_type": "code",
   "execution_count": 31,
   "id": "701ba4d7",
   "metadata": {},
   "outputs": [
    {
     "data": {
      "text/html": [
       "<div>\n",
       "<style scoped>\n",
       "    .dataframe tbody tr th:only-of-type {\n",
       "        vertical-align: middle;\n",
       "    }\n",
       "\n",
       "    .dataframe tbody tr th {\n",
       "        vertical-align: top;\n",
       "    }\n",
       "\n",
       "    .dataframe thead th {\n",
       "        text-align: right;\n",
       "    }\n",
       "</style>\n",
       "<table border=\"1\" class=\"dataframe\">\n",
       "  <thead>\n",
       "    <tr style=\"text-align: right;\">\n",
       "      <th></th>\n",
       "      <th>언론사</th>\n",
       "      <th>제목</th>\n",
       "      <th>내용</th>\n",
       "    </tr>\n",
       "  </thead>\n",
       "  <tbody>\n",
       "    <tr>\n",
       "      <th>0</th>\n",
       "      <td>동아일보</td>\n",
       "      <td>“삼성 모든 가전의 ‘엔진’ 평생보증 자신있다”</td>\n",
       "      <td>카테크이기수 삼성전자 생활가전사업부 부사장 5일 이기수 삼성전자 생활가전사업부 개발...</td>\n",
       "    </tr>\n",
       "    <tr>\n",
       "      <th>1</th>\n",
       "      <td>동아일보</td>\n",
       "      <td>삼성전자 맞춤형 가전 ‘비스포크’ 인기몰이</td>\n",
       "      <td>국내 냉장고 매출 65가 비스포크 식기세척기인덕션 매출도 급증 삼성전자의 비스포크 ...</td>\n",
       "    </tr>\n",
       "    <tr>\n",
       "      <th>2</th>\n",
       "      <td>동아일보</td>\n",
       "      <td>삼성전자, 갤러리아 광교점에 체험 스튜디오</td>\n",
       "      <td>삼성전자가 경기 수원시 갤러리아백화점 광교점에 ‘나답게 스튜디오’를 마련했다 나답게...</td>\n",
       "    </tr>\n",
       "    <tr>\n",
       "      <th>3</th>\n",
       "      <td>동아일보</td>\n",
       "      <td>‘이제는 가전을 나답게’ 삼성 새 슬로건 공개</td>\n",
       "      <td>‘이제는 가전을 나답게’ 삼성전자가 가전제품 마케팅에 사용될 새 슬로건을 17일 공...</td>\n",
       "    </tr>\n",
       "    <tr>\n",
       "      <th>4</th>\n",
       "      <td>동아일보</td>\n",
       "      <td>[기업열전] 대우전자 DNA 품은 종합가전기업, 루컴즈전자</td>\n",
       "      <td>서울 서초구 방배동의 루컴즈 빌딩 출처루컴즈전자루컴즈전자 출처루컴즈전자1990년대 ...</td>\n",
       "    </tr>\n",
       "    <tr>\n",
       "      <th>5</th>\n",
       "      <td>동아일보</td>\n",
       "      <td>삼성전자 ‘3인 체제’ 안정 속 파격 인사…첫 가전 출신 사장도</td>\n",
       "      <td>삼성전자가 2일 사장 승진 3명 위촉 업무 변경 2명 등 총 5명 규모의 2021년...</td>\n",
       "    </tr>\n",
       "    <tr>\n",
       "      <th>6</th>\n",
       "      <td>동아일보</td>\n",
       "      <td>[횡설수설/최영해]좋은 슬로건 나쁜 슬로건</td>\n",
       "      <td>지난해 여름 미국 샌프란시스코에 출장을 갔을 때다 휴대전화에 문제가 생겨 통신회사 ...</td>\n",
       "    </tr>\n",
       "    <tr>\n",
       "      <th>7</th>\n",
       "      <td>동아일보</td>\n",
       "      <td>[품질경쟁력 우수기업]삼성전자 “Live SMART” 고객의 삶에 새로운 가치를 심다</td>\n",
       "      <td>거리에서 사무실에서 집에서 커피숍에서 우리가 마주치는 거의 모든 사람이 손에 들고 ...</td>\n",
       "    </tr>\n",
       "    <tr>\n",
       "      <th>8</th>\n",
       "      <td>동아일보</td>\n",
       "      <td>삼성전자, 밀레니얼 취향 저격 마케팅으로 혼수가전 매출 65% ↑</td>\n",
       "      <td>삼성전자는 올 상반기 혼수가전 매출이 전년 동기 대비 약 65증가했다고 15일 밝혔...</td>\n",
       "    </tr>\n",
       "  </tbody>\n",
       "</table>\n",
       "</div>"
      ],
      "text/plain": [
       "    언론사                                               제목  \\\n",
       "0  동아일보                       “삼성 모든 가전의 ‘엔진’ 평생보증 자신있다”   \n",
       "1  동아일보                          삼성전자 맞춤형 가전 ‘비스포크’ 인기몰이   \n",
       "2  동아일보                          삼성전자, 갤러리아 광교점에 체험 스튜디오   \n",
       "3  동아일보                        ‘이제는 가전을 나답게’ 삼성 새 슬로건 공개   \n",
       "4  동아일보                 [기업열전] 대우전자 DNA 품은 종합가전기업, 루컴즈전자   \n",
       "5  동아일보              삼성전자 ‘3인 체제’ 안정 속 파격 인사…첫 가전 출신 사장도   \n",
       "6  동아일보                          [횡설수설/최영해]좋은 슬로건 나쁜 슬로건   \n",
       "7  동아일보  [품질경쟁력 우수기업]삼성전자 “Live SMART” 고객의 삶에 새로운 가치를 심다   \n",
       "8  동아일보             삼성전자, 밀레니얼 취향 저격 마케팅으로 혼수가전 매출 65% ↑   \n",
       "\n",
       "                                                  내용  \n",
       "0  카테크이기수 삼성전자 생활가전사업부 부사장 5일 이기수 삼성전자 생활가전사업부 개발...  \n",
       "1  국내 냉장고 매출 65가 비스포크 식기세척기인덕션 매출도 급증 삼성전자의 비스포크 ...  \n",
       "2  삼성전자가 경기 수원시 갤러리아백화점 광교점에 ‘나답게 스튜디오’를 마련했다 나답게...  \n",
       "3  ‘이제는 가전을 나답게’ 삼성전자가 가전제품 마케팅에 사용될 새 슬로건을 17일 공...  \n",
       "4  서울 서초구 방배동의 루컴즈 빌딩 출처루컴즈전자루컴즈전자 출처루컴즈전자1990년대 ...  \n",
       "5  삼성전자가 2일 사장 승진 3명 위촉 업무 변경 2명 등 총 5명 규모의 2021년...  \n",
       "6  지난해 여름 미국 샌프란시스코에 출장을 갔을 때다 휴대전화에 문제가 생겨 통신회사 ...  \n",
       "7  거리에서 사무실에서 집에서 커피숍에서 우리가 마주치는 거의 모든 사람이 손에 들고 ...  \n",
       "8  삼성전자는 올 상반기 혼수가전 매출이 전년 동기 대비 약 65증가했다고 15일 밝혔...  "
      ]
     },
     "execution_count": 31,
     "metadata": {},
     "output_type": "execute_result"
    }
   ],
   "source": [
    "dong"
   ]
  },
  {
   "cell_type": "code",
   "execution_count": null,
   "id": "6b43e073",
   "metadata": {},
   "outputs": [],
   "source": []
  }
 ],
 "metadata": {
  "kernelspec": {
   "display_name": "Python 3",
   "language": "python",
   "name": "python3"
  },
  "language_info": {
   "codemirror_mode": {
    "name": "ipython",
    "version": 3
   },
   "file_extension": ".py",
   "mimetype": "text/x-python",
   "name": "python",
   "nbconvert_exporter": "python",
   "pygments_lexer": "ipython3",
   "version": "3.8.8"
  }
 },
 "nbformat": 4,
 "nbformat_minor": 5
}
