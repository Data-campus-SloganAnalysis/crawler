{
 "cells": [
  {
   "cell_type": "code",
   "execution_count": 14,
   "id": "e616d3bb",
   "metadata": {
    "ExecuteTime": {
     "end_time": "2021-08-02T04:36:30.578237Z",
     "start_time": "2021-08-02T04:36:30.135565Z"
    }
   },
   "outputs": [],
   "source": [
    "import re\n",
    "from bs4 import BeautifulSoup\n",
    "from selenium import webdriver\n",
    "import time\n",
    "import pandas as pd\n",
    "\n",
    "\n",
    "options = webdriver.ChromeOptions()\n",
    "options.add_argument(\"headless\")"
   ]
  },
  {
   "cell_type": "markdown",
   "id": "44aa4261",
   "metadata": {},
   "source": [
    "chromedriver.exe 경로 수정"
   ]
  },
  {
   "cell_type": "code",
   "execution_count": null,
   "id": "96859955",
   "metadata": {},
   "outputs": [],
   "source": [
    "driver_path = 'C:/chromedriver_win32/chromedriver.exe' "
   ]
  },
  {
   "cell_type": "markdown",
   "id": "abd2b48c",
   "metadata": {},
   "source": [
    "네이버에 언론사 설정하고 검색 시에 url_domain + 검색어 + news_domain 과 같은 구조  \n",
    "그래서 아래 함수에서 news_domain을 각자 언론사에 맞춰서 수정해주시면 됩니다"
   ]
  },
  {
   "cell_type": "code",
   "execution_count": 17,
   "id": "40936834",
   "metadata": {
    "ExecuteTime": {
     "end_time": "2021-08-02T04:47:36.294640Z",
     "start_time": "2021-08-02T04:45:48.297704Z"
    }
   },
   "outputs": [
    {
     "name": "stdout",
     "output_type": "stream",
     "text": [
      "['http://news.khan.co.kr/kh_news/khan_art_view.html?artid=201803220931001&code=920501', 'http://news.khan.co.kr/kh_news/khan_art_view.html?artid=202006171100001&code=930301', 'http://news.khan.co.kr/kh_news/khan_art_view.html?artid=201904232140005&code=930301', 'http://news.khan.co.kr/kh_news/khan_art_view.html?artid=201807160600001&code=920101', 'http://www.khan.co.kr/kh_news/art_view.html?artid=201412090637171&code=920100', 'http://news.khan.co.kr/kh_news/khan_art_view.html?artid=201708310110015&code=920100', 'http://news.khan.co.kr/kh_news/khan_art_view.html?artid=201707301704001&code=920501', 'http://www.khan.co.kr/kh_news/art_view.html?artid=201401051107171&code=930301', 'http://news.khan.co.kr/kh_news/khan_art_view.html?artid=201610302016005&code=920509', 'http://news.khan.co.kr/kh_news/khan_art_view.html?artid=201703210802011&code=620109']\n",
      "None_type\n"
     ]
    }
   ],
   "source": [
    "def biz_khan(query,driver_path):\n",
    "    domain = '경향신문'\n",
    "    driver = webdriver.Chrome(executable_path=driver_path, options=options)  # for Windows\n",
    "    url_domain = 'https://search.naver.com/search.naver?where=news&query='\n",
    "    news_domain ='&sm=tab_opt&sort=0&photo=0&field=0&pd=0&ds=&de=&docid=&related=0&mynews=1&office_type=1&office_section_code=1&news_office_checked=1032&nso=&is_sug_officeid=0' \n",
    "    url = url_domain + query + news_domain\n",
    "    driver.get(url)\n",
    "    soup = BeautifulSoup(driver.page_source,'html.parser')\n",
    "    \n",
    "    # 기사 url을 list형태로 반환\n",
    "    news_list = soup.select('#main_pack > section > div > div.group_news > ul')\n",
    "    url_list = []\n",
    "    news_list = news_list[0].find_all('li')\n",
    "    \n",
    "    for url in news_list:\n",
    "        url_list.append(str(url.find_all('a')[0].get('data-url')))\n",
    "    driver.close()\n",
    "    \n",
    "    data_list = []\n",
    "    head_list = []\n",
    "    for url in url_list:\n",
    "        driver = webdriver.Chrome(executable_path=driver_path,options=options)  # for Windows\n",
    "        time.sleep(2)\n",
    "        driver.get(url)\n",
    "        time.sleep(2)\n",
    "        # try문 안에서 각자 언론사에 맞게 수정\n",
    "        try:\n",
    "            soup = BeautifulSoup(driver.page_source,'html.parser')\n",
    "            head_list.append(soup.find('h1',id='articleTtitle').text)\n",
    "            tags = soup.select_one('#container > div.main_container > div.art_cont > div.art_body').find_all('p')\n",
    "            data = [x.text for x in tags]\n",
    "            data_list.append(' '.join(data))\n",
    "        except:\n",
    "            print('None_type')\n",
    "        driver.close()\n",
    "        \n",
    "    output = pd.DataFrame({'언론사' : [domain]*len(head_list),\n",
    "                          '제목' :  head_list,\n",
    "                          '내용' : data_list})\n",
    "    return output\n",
    "\n",
    "biz = biz_khan('삼성전자 슬로건',driver_path)"
   ]
  },
  {
   "cell_type": "markdown",
   "id": "cb867d1e",
   "metadata": {},
   "source": [
    "저장할 때"
   ]
  },
  {
   "cell_type": "code",
   "execution_count": 24,
   "id": "6440774e",
   "metadata": {
    "ExecuteTime": {
     "end_time": "2021-08-02T05:00:46.931935Z",
     "start_time": "2021-08-02T05:00:46.923991Z"
    }
   },
   "outputs": [],
   "source": [
    "# biz.to_csv('경향신문.csv',encoding='CP949',index=None)"
   ]
  },
  {
   "cell_type": "code",
   "execution_count": 25,
   "id": "306e3293",
   "metadata": {
    "ExecuteTime": {
     "end_time": "2021-08-02T05:00:47.547120Z",
     "start_time": "2021-08-02T05:00:47.516754Z"
    }
   },
   "outputs": [],
   "source": [
    "# test = pd.read_csv('경향신문.csv',encoding='CP949')"
   ]
  },
  {
   "cell_type": "code",
   "execution_count": 26,
   "id": "873b3c39",
   "metadata": {
    "ExecuteTime": {
     "end_time": "2021-08-02T05:00:48.181929Z",
     "start_time": "2021-08-02T05:00:48.168043Z"
    }
   },
   "outputs": [
    {
     "data": {
      "text/html": [
       "<div>\n",
       "<style scoped>\n",
       "    .dataframe tbody tr th:only-of-type {\n",
       "        vertical-align: middle;\n",
       "    }\n",
       "\n",
       "    .dataframe tbody tr th {\n",
       "        vertical-align: top;\n",
       "    }\n",
       "\n",
       "    .dataframe thead th {\n",
       "        text-align: right;\n",
       "    }\n",
       "</style>\n",
       "<table border=\"1\" class=\"dataframe\">\n",
       "  <thead>\n",
       "    <tr style=\"text-align: right;\">\n",
       "      <th></th>\n",
       "      <th>언론사</th>\n",
       "      <th>제목</th>\n",
       "      <th>내용</th>\n",
       "    </tr>\n",
       "  </thead>\n",
       "  <tbody>\n",
       "    <tr>\n",
       "      <th>0</th>\n",
       "      <td>경향신문</td>\n",
       "      <td>삼성전자, 21일 밤 국내외 사업장서 ‘전등끄기’ 까닭은</td>\n",
       "      <td>삼성전자가 지난 21일 저녁 경기 수원 삼성 디지털시티와 44개 해외 판매·생산법인...</td>\n",
       "    </tr>\n",
       "    <tr>\n",
       "      <th>1</th>\n",
       "      <td>경향신문</td>\n",
       "      <td>삼성 가전 새 슬로건 ‘이제는 가전을 나답게’</td>\n",
       "      <td>ㆍ‘틀에 박힌 시장에 마침표’ 의미 담아…마케팅 전반에 활용 예정 삼성전자가 전 가...</td>\n",
       "    </tr>\n",
       "    <tr>\n",
       "      <th>2</th>\n",
       "      <td>경향신문</td>\n",
       "      <td>철 없는 ‘4K TV’, 삼성에 효자 TV</td>\n",
       "      <td>게임 환경에서 QLED 4K TV(왼쪽)와 일반 TV의 화질을 비교한 모습. 삼성전...</td>\n",
       "    </tr>\n",
       "    <tr>\n",
       "      <th>3</th>\n",
       "      <td>경향신문</td>\n",
       "      <td>[단독] 윤종원 청와대 경제수석 첫 인터뷰 “문 대통령·삼성 이재용 만남, 재벌 구...</td>\n",
       "      <td>·윤종원 신임 경제수석 임명 후 첫 언론 인터뷰 ·대통령이 삼성 이재용 부회장 만난...</td>\n",
       "    </tr>\n",
       "    <tr>\n",
       "      <th>4</th>\n",
       "      <td>경향신문</td>\n",
       "      <td>삼성그룹 새해 슬로건 ‘새로운 도전’···경영기조는 ‘내실’</td>\n",
       "      <td>삼성그룹이 새해 경영전략의 기조를 ‘내실 다지기’로 정했다. ‘새로운 도전’을 슬로...</td>\n",
       "    </tr>\n",
       "    <tr>\n",
       "      <th>5</th>\n",
       "      <td>경향신문</td>\n",
       "      <td>삼성 “당신 일상의 새 기준”…LG “더 나은 삶으로 혁신”</td>\n",
       "      <td>ㆍ국제가전전시회 내일 개막 삼성전자가 다음달 1일 독일 베를린에서 개막하는 ‘국제가...</td>\n",
       "    </tr>\n",
       "    <tr>\n",
       "      <th>6</th>\n",
       "      <td>경향신문</td>\n",
       "      <td>무풍 에어컨의 돌풍?···삼성 국내 에어컨 판매 100만대 돌파</td>\n",
       "      <td>삼성전자가 ‘무풍 에어컨’ 인기에 힘입어 올해 들어 가정용 에어컨 국내 판매 100...</td>\n",
       "    </tr>\n",
       "    <tr>\n",
       "      <th>7</th>\n",
       "      <td>경향신문</td>\n",
       "      <td>삼성전자 ‘스마트홈’ 사업 美 CES서 선보여</td>\n",
       "      <td>삼성전자는 TV·냉장고·세탁기 등 집안의 가전기기에다 스마트폰 같은 IT기기를 연결...</td>\n",
       "    </tr>\n",
       "    <tr>\n",
       "      <th>8</th>\n",
       "      <td>경향신문</td>\n",
       "      <td>[기업특집] “실패해도 괜찮아”…삼성의 도전은 계속된다</td>\n",
       "      <td>삼성전자 수원공장에는 C-스페이스와 아이디어 라운지라는 다소 이색적인 공간이 마련돼...</td>\n",
       "    </tr>\n",
       "  </tbody>\n",
       "</table>\n",
       "</div>"
      ],
      "text/plain": [
       "    언론사                                                 제목  \\\n",
       "0  경향신문                    삼성전자, 21일 밤 국내외 사업장서 ‘전등끄기’ 까닭은   \n",
       "1  경향신문                          삼성 가전 새 슬로건 ‘이제는 가전을 나답게’   \n",
       "2  경향신문                            철 없는 ‘4K TV’, 삼성에 효자 TV   \n",
       "3  경향신문  [단독] 윤종원 청와대 경제수석 첫 인터뷰 “문 대통령·삼성 이재용 만남, 재벌 구...   \n",
       "4  경향신문                  삼성그룹 새해 슬로건 ‘새로운 도전’···경영기조는 ‘내실’   \n",
       "5  경향신문                  삼성 “당신 일상의 새 기준”…LG “더 나은 삶으로 혁신”   \n",
       "6  경향신문                무풍 에어컨의 돌풍?···삼성 국내 에어컨 판매 100만대 돌파   \n",
       "7  경향신문                          삼성전자 ‘스마트홈’ 사업 美 CES서 선보여   \n",
       "8  경향신문                     [기업특집] “실패해도 괜찮아”…삼성의 도전은 계속된다   \n",
       "\n",
       "                                                  내용  \n",
       "0  삼성전자가 지난 21일 저녁 경기 수원 삼성 디지털시티와 44개 해외 판매·생산법인...  \n",
       "1  ㆍ‘틀에 박힌 시장에 마침표’ 의미 담아…마케팅 전반에 활용 예정 삼성전자가 전 가...  \n",
       "2  게임 환경에서 QLED 4K TV(왼쪽)와 일반 TV의 화질을 비교한 모습. 삼성전...  \n",
       "3  ·윤종원 신임 경제수석 임명 후 첫 언론 인터뷰 ·대통령이 삼성 이재용 부회장 만난...  \n",
       "4  삼성그룹이 새해 경영전략의 기조를 ‘내실 다지기’로 정했다. ‘새로운 도전’을 슬로...  \n",
       "5  ㆍ국제가전전시회 내일 개막 삼성전자가 다음달 1일 독일 베를린에서 개막하는 ‘국제가...  \n",
       "6  삼성전자가 ‘무풍 에어컨’ 인기에 힘입어 올해 들어 가정용 에어컨 국내 판매 100...  \n",
       "7  삼성전자는 TV·냉장고·세탁기 등 집안의 가전기기에다 스마트폰 같은 IT기기를 연결...  \n",
       "8  삼성전자 수원공장에는 C-스페이스와 아이디어 라운지라는 다소 이색적인 공간이 마련돼...  "
      ]
     },
     "execution_count": 26,
     "metadata": {},
     "output_type": "execute_result"
    }
   ],
   "source": [
    "test"
   ]
  },
  {
   "cell_type": "code",
   "execution_count": null,
   "id": "98e90729",
   "metadata": {},
   "outputs": [],
   "source": []
  }
 ],
 "metadata": {
  "kernelspec": {
   "display_name": "Python 3",
   "language": "python",
   "name": "python3"
  },
  "language_info": {
   "codemirror_mode": {
    "name": "ipython",
    "version": 3
   },
   "file_extension": ".py",
   "mimetype": "text/x-python",
   "name": "python",
   "nbconvert_exporter": "python",
   "pygments_lexer": "ipython3",
   "version": "3.8.8"
  },
  "toc": {
   "base_numbering": 1,
   "nav_menu": {},
   "number_sections": true,
   "sideBar": true,
   "skip_h1_title": false,
   "title_cell": "Table of Contents",
   "title_sidebar": "Contents",
   "toc_cell": false,
   "toc_position": {},
   "toc_section_display": true,
   "toc_window_display": false
  },
  "varInspector": {
   "cols": {
    "lenName": 16,
    "lenType": 16,
    "lenVar": 40
   },
   "kernels_config": {
    "python": {
     "delete_cmd_postfix": "",
     "delete_cmd_prefix": "del ",
     "library": "var_list.py",
     "varRefreshCmd": "print(var_dic_list())"
    },
    "r": {
     "delete_cmd_postfix": ") ",
     "delete_cmd_prefix": "rm(",
     "library": "var_list.r",
     "varRefreshCmd": "cat(var_dic_list()) "
    }
   },
   "types_to_exclude": [
    "module",
    "function",
    "builtin_function_or_method",
    "instance",
    "_Feature"
   ],
   "window_display": false
  }
 },
 "nbformat": 4,
 "nbformat_minor": 5
}
