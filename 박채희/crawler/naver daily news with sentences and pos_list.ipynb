{
 "cells": [
  {
   "cell_type": "code",
   "execution_count": 1,
   "metadata": {},
   "outputs": [],
   "source": [
    "import pandas as pd\n",
    "import re \n",
    "\n",
    "news_df = pd.read_csv('친환경.csv',encoding='CP949',index_col = 0)"
   ]
  },
  {
   "cell_type": "code",
   "execution_count": 2,
   "metadata": {},
   "outputs": [],
   "source": [
    "t=len(news_df)"
   ]
  },
  {
   "cell_type": "code",
   "execution_count": 3,
   "metadata": {},
   "outputs": [],
   "source": [
    "def clean_text(text):\n",
    "    cleaned_text = re.sub('[^ ㄱ-ㅣ가-힣]+','.',text) # 한국어, 스페이스바, .를 제외한 모든 문자 제거\n",
    "    cleaned_text = ' '.join(cleaned_text.split()) # 너무 많은 공백이 생기므로 공백 1개로\n",
    "    return cleaned_text"
   ]
  },
  {
   "cell_type": "code",
   "execution_count": 4,
   "metadata": {},
   "outputs": [],
   "source": [
    "news_df=news_df.dropna()"
   ]
  },
  {
   "cell_type": "code",
   "execution_count": 5,
   "metadata": {},
   "outputs": [
    {
     "name": "stdout",
     "output_type": "stream",
     "text": [
      "<class 'pandas.core.frame.DataFrame'>\n",
      "Int64Index: 505 entries, 0 to 505\n",
      "Data columns (total 1 columns):\n",
      " #   Column  Non-Null Count  Dtype \n",
      "---  ------  --------------  ----- \n",
      " 0   내용      505 non-null    object\n",
      "dtypes: object(1)\n",
      "memory usage: 7.9+ KB\n"
     ]
    }
   ],
   "source": [
    "news_df.info()"
   ]
  },
  {
   "cell_type": "code",
   "execution_count": 6,
   "metadata": {},
   "outputs": [
    {
     "data": {
      "text/html": [
       "<div>\n",
       "<style scoped>\n",
       "    .dataframe tbody tr th:only-of-type {\n",
       "        vertical-align: middle;\n",
       "    }\n",
       "\n",
       "    .dataframe tbody tr th {\n",
       "        vertical-align: top;\n",
       "    }\n",
       "\n",
       "    .dataframe thead th {\n",
       "        text-align: right;\n",
       "    }\n",
       "</style>\n",
       "<table border=\"1\" class=\"dataframe\">\n",
       "  <thead>\n",
       "    <tr style=\"text-align: right;\">\n",
       "      <th></th>\n",
       "      <th>내용</th>\n",
       "    </tr>\n",
       "  </thead>\n",
       "  <tbody>\n",
       "    <tr>\n",
       "      <th>0</th>\n",
       "      <td>화학 대산공장 전경. 화학 제공. 화학이 친환경 소재 사업을 육성하기 위해 대규모 ...</td>\n",
       "    </tr>\n",
       "    <tr>\n",
       "      <th>1</th>\n",
       "      <td>조 바이든 미국 대통령이 지난 .일현지시간 미국 워싱턴 백악관에서 열린 무공해차 홍...</td>\n",
       "    </tr>\n",
       "    <tr>\n",
       "      <th>2</th>\n",
       "      <td>부산시가 중.소형선박 엔진을 액화석유가스 엔진으로 전환하기 위한 실증작업에 나선다....</td>\n",
       "    </tr>\n",
       "    <tr>\n",
       "      <th>3</th>\n",
       "      <td>현대오일뱅크는 .년까지 친환경미래사업의 영업이익 비중을 .까지 확대하기로 했다. 현...</td>\n",
       "    </tr>\n",
       "    <tr>\n",
       "      <th>4</th>\n",
       "      <td>롯데케미칼 소재 제품 포장백. 롯데케미칼 제공. 과거에는 환경오염의 주범으로 꼽혔던...</td>\n",
       "    </tr>\n",
       "    <tr>\n",
       "      <th>...</th>\n",
       "      <td>...</td>\n",
       "    </tr>\n",
       "    <tr>\n",
       "      <th>501</th>\n",
       "      <td>.농협은행은행장 권준학은 지난 .월 그린뉴딜 정책방향에 맞춰 친환경 경영 우수기업에...</td>\n",
       "    </tr>\n",
       "    <tr>\n",
       "      <th>502</th>\n",
       "      <td>.그룹회장 허영인이 기업의 지속 가능한 성장을 추구하는 환경 사회 지배구조 경영 강...</td>\n",
       "    </tr>\n",
       "    <tr>\n",
       "      <th>503</th>\n",
       "      <td>.롯데월드타워는 설계 단계에서부터 친환경 에너지 생산과 효율적인 관리를 목표로 만들...</td>\n",
       "    </tr>\n",
       "    <tr>\n",
       "      <th>504</th>\n",
       "      <td>.지난 .일 국내 호텔업계 맏형으로 손꼽히는 롯데호텔이 지속가능 경영 강화를 위해 ...</td>\n",
       "    </tr>\n",
       "    <tr>\n",
       "      <th>505</th>\n",
       "      <td>.편의점 세븐일레븐은 올해 초 경영 선포 이후 친환경 상품 라인업을 본격적으로 강화...</td>\n",
       "    </tr>\n",
       "  </tbody>\n",
       "</table>\n",
       "<p>505 rows × 1 columns</p>\n",
       "</div>"
      ],
      "text/plain": [
       "                                                    내용\n",
       "0    화학 대산공장 전경. 화학 제공. 화학이 친환경 소재 사업을 육성하기 위해 대규모 ...\n",
       "1    조 바이든 미국 대통령이 지난 .일현지시간 미국 워싱턴 백악관에서 열린 무공해차 홍...\n",
       "2    부산시가 중.소형선박 엔진을 액화석유가스 엔진으로 전환하기 위한 실증작업에 나선다....\n",
       "3    현대오일뱅크는 .년까지 친환경미래사업의 영업이익 비중을 .까지 확대하기로 했다. 현...\n",
       "4    롯데케미칼 소재 제품 포장백. 롯데케미칼 제공. 과거에는 환경오염의 주범으로 꼽혔던...\n",
       "..                                                 ...\n",
       "501  .농협은행은행장 권준학은 지난 .월 그린뉴딜 정책방향에 맞춰 친환경 경영 우수기업에...\n",
       "502  .그룹회장 허영인이 기업의 지속 가능한 성장을 추구하는 환경 사회 지배구조 경영 강...\n",
       "503  .롯데월드타워는 설계 단계에서부터 친환경 에너지 생산과 효율적인 관리를 목표로 만들...\n",
       "504  .지난 .일 국내 호텔업계 맏형으로 손꼽히는 롯데호텔이 지속가능 경영 강화를 위해 ...\n",
       "505  .편의점 세븐일레븐은 올해 초 경영 선포 이후 친환경 상품 라인업을 본격적으로 강화...\n",
       "\n",
       "[505 rows x 1 columns]"
      ]
     },
     "execution_count": 6,
     "metadata": {},
     "output_type": "execute_result"
    }
   ],
   "source": [
    "news_df"
   ]
  },
  {
   "cell_type": "code",
   "execution_count": 7,
   "metadata": {},
   "outputs": [],
   "source": [
    "news_df['내용']=news_df['내용'].apply(lambda x:clean_text(str(x)))"
   ]
  },
  {
   "cell_type": "code",
   "execution_count": 8,
   "metadata": {},
   "outputs": [],
   "source": [
    "text=[]"
   ]
  },
  {
   "cell_type": "code",
   "execution_count": 9,
   "metadata": {},
   "outputs": [],
   "source": [
    "#test['문장']=''\n",
    "count=0\n",
    "for x in range(0,t):\n",
    "    try:\n",
    "        tp=news_df['내용'][x]\n",
    "        tp=tp.split('다.')\n",
    "        tp = [x+'다' for x in tp]\n",
    "        tp=clean_text(tp)\n",
    "        print(tp)\n",
    "    except:\n",
    "        count+=1\n",
    "    text.append(tp)\n",
    "    #test['문장'][x]=\"\".join(tp)"
   ]
  },
  {
   "cell_type": "code",
   "execution_count": 10,
   "metadata": {},
   "outputs": [],
   "source": [
    "import itertools\n",
    "text=list(itertools.chain(*text))"
   ]
  },
  {
   "cell_type": "code",
   "execution_count": 11,
   "metadata": {},
   "outputs": [],
   "source": [
    "df = pd.DataFrame([x for x in text])"
   ]
  },
  {
   "cell_type": "code",
   "execution_count": 12,
   "metadata": {},
   "outputs": [
    {
     "data": {
      "text/html": [
       "<div>\n",
       "<style scoped>\n",
       "    .dataframe tbody tr th:only-of-type {\n",
       "        vertical-align: middle;\n",
       "    }\n",
       "\n",
       "    .dataframe tbody tr th {\n",
       "        vertical-align: top;\n",
       "    }\n",
       "\n",
       "    .dataframe thead th {\n",
       "        text-align: right;\n",
       "    }\n",
       "</style>\n",
       "<table border=\"1\" class=\"dataframe\">\n",
       "  <thead>\n",
       "    <tr style=\"text-align: right;\">\n",
       "      <th></th>\n",
       "      <th>0</th>\n",
       "    </tr>\n",
       "  </thead>\n",
       "  <tbody>\n",
       "    <tr>\n",
       "      <th>0</th>\n",
       "      <td>화학 대산공장 전경. 화학 제공. 화학이 친환경 소재 사업을 육성하기 위해 대규모 ...</td>\n",
       "    </tr>\n",
       "    <tr>\n",
       "      <th>1</th>\n",
       "      <td>화학은 .년까지 총 .조.억원을 투자해 충남 대산공장에 생분해성 및 태양광 필름용...</td>\n",
       "    </tr>\n",
       "    <tr>\n",
       "      <th>2</th>\n",
       "      <td>는 농업용.일회용 필름 등에 사용되는 제품으로 산소 열 빛 효소 반응으로 자연에서...</td>\n",
       "    </tr>\n",
       "    <tr>\n",
       "      <th>3</th>\n",
       "      <td>연내 착공되는 공장은 연산 .만 공장은 연산 .만 규모로 건설될 예정이다</td>\n",
       "    </tr>\n",
       "    <tr>\n",
       "      <th>4</th>\n",
       "      <td>두 공장 모두 .년 상업생산 시작을 목표로 한다</td>\n",
       "    </tr>\n",
       "    <tr>\n",
       "      <th>...</th>\n",
       "      <td>...</td>\n",
       "    </tr>\n",
       "    <tr>\n",
       "      <th>9479</th>\n",
       "      <td>특히 일상 생활에서 투명 페트병 분리배출을 보다 쉽게 할 수 있는 무라벨 생수에 ...</td>\n",
       "    </tr>\n",
       "    <tr>\n",
       "      <th>9480</th>\n",
       "      <td>.기사 이 복사되었습니다</td>\n",
       "    </tr>\n",
       "    <tr>\n",
       "      <th>9481</th>\n",
       "      <td>.기사가 저장 되었습니다</td>\n",
       "    </tr>\n",
       "    <tr>\n",
       "      <th>9482</th>\n",
       "      <td>.기사저장이 취소 되었습니다</td>\n",
       "    </tr>\n",
       "    <tr>\n",
       "      <th>9483</th>\n",
       "      <td>.민주당 대선 레이스 시동. .황교익이 쏘아올린 연미복 논쟁. 제비꼬리 옷으로 이...</td>\n",
       "    </tr>\n",
       "  </tbody>\n",
       "</table>\n",
       "<p>9484 rows × 1 columns</p>\n",
       "</div>"
      ],
      "text/plain": [
       "                                                      0\n",
       "0     화학 대산공장 전경. 화학 제공. 화학이 친환경 소재 사업을 육성하기 위해 대규모 ...\n",
       "1      화학은 .년까지 총 .조.억원을 투자해 충남 대산공장에 생분해성 및 태양광 필름용...\n",
       "2      는 농업용.일회용 필름 등에 사용되는 제품으로 산소 열 빛 효소 반응으로 자연에서...\n",
       "3              연내 착공되는 공장은 연산 .만 공장은 연산 .만 규모로 건설될 예정이다\n",
       "4                            두 공장 모두 .년 상업생산 시작을 목표로 한다\n",
       "...                                                 ...\n",
       "9479   특히 일상 생활에서 투명 페트병 분리배출을 보다 쉽게 할 수 있는 무라벨 생수에 ...\n",
       "9480                                      .기사 이 복사되었습니다\n",
       "9481                                      .기사가 저장 되었습니다\n",
       "9482                                    .기사저장이 취소 되었습니다\n",
       "9483   .민주당 대선 레이스 시동. .황교익이 쏘아올린 연미복 논쟁. 제비꼬리 옷으로 이...\n",
       "\n",
       "[9484 rows x 1 columns]"
      ]
     },
     "execution_count": 12,
     "metadata": {},
     "output_type": "execute_result"
    }
   ],
   "source": [
    "df"
   ]
  },
  {
   "cell_type": "code",
   "execution_count": 13,
   "metadata": {
    "scrolled": true
   },
   "outputs": [],
   "source": [
    "df.to_csv('친환경 문장_news.csv',encoding='CP949')"
   ]
  },
  {
   "cell_type": "markdown",
   "metadata": {},
   "source": [
    "0-39경향\n",
    "90-129 국민\n",
    "180-199 내일\n",
    "234-283동아\n",
    "320-369 매일일보\n",
    "410-459 문화일보\n",
    "500-549 서울신문\n",
    "560-609 세계일보\n",
    "650-700 전국매일신문\n",
    "740-789 조선일보\n",
    "830-890 중앙일보\n",
    "910-959 천지일보\n",
    "1010-1059 한겨례\n",
    "1090-1105 한국"
   ]
  },
  {
   "cell_type": "markdown",
   "metadata": {},
   "source": [
    "# ----------"
   ]
  },
  {
   "cell_type": "code",
   "execution_count": null,
   "metadata": {},
   "outputs": [],
   "source": [
    "from eunjeon import Mecab"
   ]
  },
  {
   "cell_type": "code",
   "execution_count": null,
   "metadata": {},
   "outputs": [],
   "source": [
    "df = pd.DataFrame(text,columns=['text'])"
   ]
  },
  {
   "cell_type": "code",
   "execution_count": null,
   "metadata": {},
   "outputs": [],
   "source": [
    "drop_index = df[df['text']==\"\"].index\n",
    "df.drop(drop_index,inplace=True)"
   ]
  },
  {
   "cell_type": "code",
   "execution_count": null,
   "metadata": {},
   "outputs": [],
   "source": [
    "df"
   ]
  },
  {
   "cell_type": "code",
   "execution_count": null,
   "metadata": {},
   "outputs": [],
   "source": [
    "drop_index = df[df['text']==\"\"].index\n",
    "df.drop(drop_index,inplace=True)"
   ]
  },
  {
   "cell_type": "code",
   "execution_count": null,
   "metadata": {},
   "outputs": [],
   "source": [
    "df"
   ]
  },
  {
   "cell_type": "code",
   "execution_count": null,
   "metadata": {},
   "outputs": [],
   "source": [
    "tokenizer = Mecab()\n",
    "pos_temp = {}\n",
    "pos_list = []\n",
    "\n",
    "for i in df['text']:\n",
    "    temp_str = ''\n",
    "    try:\n",
    "        for j in range(len(tokenizer.pos(i))):\n",
    "            pos_temp[tokenizer.pos(i)[j][1]]+=1\n",
    "            temp_str+=tokenizer.pos(i)[j][1]+\"/\"\n",
    "    except:\n",
    "        for j in range(len(tokenizer.pos(i))):\n",
    "            pos_temp[tokenizer.pos(i)[j][1]]=1\n",
    "            temp_str+=tokenizer.pos(i)[j][1]+\"/\"\n",
    "    pos_list.append(temp_str)"
   ]
  },
  {
   "cell_type": "code",
   "execution_count": null,
   "metadata": {
    "scrolled": true
   },
   "outputs": [],
   "source": [
    "pos_list"
   ]
  }
 ],
 "metadata": {
  "kernelspec": {
   "display_name": "Python 3",
   "language": "python",
   "name": "python3"
  },
  "language_info": {
   "codemirror_mode": {
    "name": "ipython",
    "version": 3
   },
   "file_extension": ".py",
   "mimetype": "text/x-python",
   "name": "python",
   "nbconvert_exporter": "python",
   "pygments_lexer": "ipython3",
   "version": "3.7.9"
  }
 },
 "nbformat": 4,
 "nbformat_minor": 4
}
