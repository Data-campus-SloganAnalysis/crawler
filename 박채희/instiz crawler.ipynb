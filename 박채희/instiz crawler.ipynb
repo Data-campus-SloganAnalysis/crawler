{
 "cells": [
  {
   "cell_type": "code",
   "execution_count": 4,
   "metadata": {},
   "outputs": [],
   "source": [
    "import re\n",
    "from bs4 import BeautifulSoup\n",
    "from selenium import webdriver\n",
    "import time\n",
    "import pandas as pd\n",
    "\n",
    "\n",
    "options = webdriver.ChromeOptions()\n",
    "#options.add_argument(\"headless\")"
   ]
  },
  {
   "cell_type": "code",
   "execution_count": 2,
   "metadata": {},
   "outputs": [],
   "source": [
    "driver_path = 'C:/Users/chaeh/chromedriver.exe' "
   ]
  },
  {
   "cell_type": "code",
   "execution_count": 3,
   "metadata": {},
   "outputs": [],
   "source": [
    "def clean_text(text):\n",
    "    cleaned_text = re.sub('[a-zA-Z]', '', text)\n",
    "    cleaned_text = re.sub('[\\{\\}\\[\\]\\/?.,;:|\\)*~`!^\\-_+<>@\\#$%&\\\\\\=\\(\\'\\\"]',\n",
    "                          '', cleaned_text)\n",
    "    cleaned_text = ' '.join(cleaned_text.split())\n",
    "    return cleaned_text"
   ]
  },
  {
   "cell_type": "code",
   "execution_count": 11,
   "metadata": {},
   "outputs": [],
   "source": [
    "def instiz(query,driver_path,page):\n",
    "    driver = webdriver.Chrome(executable_path=driver_path,options=options)\n",
    "    data_list=[]\n",
    "\n",
    "    for i in range(1,page+1):\n",
    "        base_url = 'https://www.instiz.net/popup_search.htm#gsc.tab=0&gsc.q='\n",
    "        parm = query+'&gsc.page='+str(i)\n",
    "        url = base_url + parm\n",
    "        driver.get(url)\n",
    "        soup = BeautifulSoup(driver.page_source,'html.parser')\n",
    "        \n",
    "        for j in range(1,11):\n",
    "            content_url=soup.select('#___gcse_0 > div > div > div > div.gsc-wrapper > div.gsc-resultsbox-visible > div.gsc-resultsRoot.gsc-tabData.gsc-tabdActive > div > div.gsc-expansionArea > div:nth-of-type('+str(j)+') > div.gs-webResult.gs-result > div.gsc-thumbnail-inside > div > a')[0].get('href')\n",
    "            print(content_url)\n",
    "            #regex=\"\\[[^]]*\\]\"\n",
    "            #title=soup.select('#content > div > ul.searchResult > li:nth-of-type('+str(j)+') > dl > dt > a')\n",
    "            #title=title[0].text\n",
    "            #title=re.sub(regex,'',str(title))\n",
    "            #title=clean_text(title)\n",
    "            \n",
    "            #contents=soup.select('#content > div > ul.searchResult > li:nth-of-type('+str(j)+') > dl > dd')\n",
    "            #contents=clean_text(contents[0].text)\n",
    "            #data_list.append(title+contents)\n",
    "    driver.close()\n",
    "\n",
    "    return data_list"
   ]
  },
  {
   "cell_type": "code",
   "execution_count": 12,
   "metadata": {
    "scrolled": true
   },
   "outputs": [
    {
     "name": "stdout",
     "output_type": "stream",
     "text": [
      "https://www.instiz.net/name/43151832\n",
      "https://www.instiz.net/name/44280120?page=1&category=1\n",
      "https://www.instiz.net/name/35313017\n",
      "https://www.instiz.net/name/31561397\n",
      "https://www.instiz.net/name/37359070\n",
      "https://www.instiz.net/pt/6333776\n",
      "https://www.instiz.net/pt/6396238\n",
      "https://www.instiz.net/name/44336901?page=1&category=1\n",
      "https://www.instiz.net/name/39062571?page=1&category=1\n",
      "https://www.instiz.net/name/28281041\n"
     ]
    },
    {
     "data": {
      "text/plain": [
       "[]"
      ]
     },
     "execution_count": 12,
     "metadata": {},
     "output_type": "execute_result"
    }
   ],
   "source": [
    "instiz('풀무원',driver_path,1)"
   ]
  },
  {
   "cell_type": "code",
   "execution_count": null,
   "metadata": {},
   "outputs": [],
   "source": []
  }
 ],
 "metadata": {
  "kernelspec": {
   "display_name": "Python 3",
   "language": "python",
   "name": "python3"
  },
  "language_info": {
   "codemirror_mode": {
    "name": "ipython",
    "version": 3
   },
   "file_extension": ".py",
   "mimetype": "text/x-python",
   "name": "python",
   "nbconvert_exporter": "python",
   "pygments_lexer": "ipython3",
   "version": "3.7.9"
  }
 },
 "nbformat": 4,
 "nbformat_minor": 4
}
