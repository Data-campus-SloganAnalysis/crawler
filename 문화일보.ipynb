{
 "cells": [
  {
   "cell_type": "code",
   "execution_count": 1,
   "metadata": {},
   "outputs": [],
   "source": [
    "import re\n",
    "from bs4 import BeautifulSoup\n",
    "from selenium import webdriver\n",
    "import time\n",
    "import pandas as pd\n",
    "\n",
    "\n",
    "options = webdriver.ChromeOptions()\n",
    "options.add_argument(\"headless\")"
   ]
  },
  {
   "cell_type": "code",
   "execution_count": 2,
   "metadata": {},
   "outputs": [],
   "source": [
    "driver_path = 'C:/Users/MY/Downloads/chromedriver.exe'"
   ]
  },
  {
   "cell_type": "code",
   "execution_count": 32,
   "metadata": {},
   "outputs": [],
   "source": [
    "def biz_khan(query,driver_path):\n",
    "    domain = '문화일보'\n",
    "    driver = webdriver.Chrome(executable_path=driver_path, options=options)  # for Windows\n",
    "    url_domain = 'https://search.naver.com/search.naver?where=news&query='\n",
    "    news_domain ='%EB%89%B4%EC%8A%A4&sm=tab_opt&sort=0&photo=0&field=0&pd=0&ds=&de=&docid=&related=0&mynews=1&office_type=1&office_section_code=1&news_office_checked=1021&nso=&is_sug_officeid=0' \n",
    "    url = url_domain + query + news_domain\n",
    "    driver.get(url)\n",
    "    soup = BeautifulSoup(driver.page_source,'html.parser')\n",
    "    \n",
    "    # 기사 url을 list형태로 반환\n",
    "    news_list = soup.select('#main_pack > section > div > div.group_news > ul')\n",
    "    url_list = []\n",
    "    news_list = news_list[0].find_all('li')\n",
    "\n",
    "    for url in news_list:\n",
    "        url_list.append(str(url.find_all('a')[0].get('data-url')))\n",
    "    driver.close()\n",
    "    \n",
    "    data_list = []\n",
    "    head_list = []\n",
    "    for url in url_list:\n",
    "        driver = webdriver.Chrome(executable_path=driver_path,options=options)  # for Windows\n",
    "        time.sleep(2)\n",
    "        driver.get(url)\n",
    "        time.sleep(2)\n",
    "        # try문 안에서 각자 언론사에 맞게 수정\n",
    "        try:\n",
    "            soup = BeautifulSoup(driver.page_source,'html.parser')\n",
    "            head_list.append(clean_text(soup.find('span', class_ = 'title').text))\n",
    "            data = clean_text(soup.select('#NewsAdContent')[0].text)\n",
    "            #data = [x.text for x in tags]\n",
    "            data_list.append(data)\n",
    "        except:\n",
    "            print('None_type')\n",
    "        driver.close()\n",
    "        \n",
    "    output = pd.DataFrame({'언론사' : [domain]*len(head_list),\n",
    "                          '제목' :  head_list,\n",
    "                          '내용' : data_list})\n",
    "    return output\n",
    "\n",
    "biz = biz_khan('삼성전자 슬로건',driver_path)"
   ]
  },
  {
   "cell_type": "code",
   "execution_count": 33,
   "metadata": {},
   "outputs": [],
   "source": [
    "biz.to_csv('문화일보.csv',index=None)"
   ]
  },
  {
   "cell_type": "code",
   "execution_count": 34,
   "metadata": {},
   "outputs": [],
   "source": [
    "data1 = pd.read_csv('문화일보.csv')"
   ]
  },
  {
   "cell_type": "code",
   "execution_count": 35,
   "metadata": {
    "scrolled": false
   },
   "outputs": [
    {
     "data": {
      "text/html": [
       "<div>\n",
       "<style scoped>\n",
       "    .dataframe tbody tr th:only-of-type {\n",
       "        vertical-align: middle;\n",
       "    }\n",
       "\n",
       "    .dataframe tbody tr th {\n",
       "        vertical-align: top;\n",
       "    }\n",
       "\n",
       "    .dataframe thead th {\n",
       "        text-align: right;\n",
       "    }\n",
       "</style>\n",
       "<table border=\"1\" class=\"dataframe\">\n",
       "  <thead>\n",
       "    <tr style=\"text-align: right;\">\n",
       "      <th></th>\n",
       "      <th>언론사</th>\n",
       "      <th>제목</th>\n",
       "      <th>내용</th>\n",
       "    </tr>\n",
       "  </thead>\n",
       "  <tbody>\n",
       "    <tr>\n",
       "      <th>0</th>\n",
       "      <td>문화일보</td>\n",
       "      <td>이재승 삼성전자 부사장 “미래 가전은 나보다 나를 더 잘 아는 형태”</td>\n",
       "      <td>‘나심비’ 트렌드 주목…한발 앞서 소비자 챙길 것 “미래의 가전은 ‘나보다 나를 더...</td>\n",
       "    </tr>\n",
       "    <tr>\n",
       "      <th>1</th>\n",
       "      <td>문화일보</td>\n",
       "      <td>삼성 ‘평택 1기 라인’ 15조6000억 투자… 15만명 고용 창출</td>\n",
       "      <td>기업 단일투자로 역대 최대 경제 활성화 위해 1년 당겨 41조원 생산유발 효과 기대...</td>\n",
       "    </tr>\n",
       "    <tr>\n",
       "      <th>2</th>\n",
       "      <td>문화일보</td>\n",
       "      <td>美 연구개발 7대 액션플랜… 中도 연관산업 육성에 1800조원 투입</td>\n",
       "      <td>세계 각국도 ‘디지털 혁신’ 日 생활 혁신 ‘디지털 뉴딜’ 는 데이터 단일시장 구성...</td>\n",
       "    </tr>\n",
       "    <tr>\n",
       "      <th>3</th>\n",
       "      <td>문화일보</td>\n",
       "      <td>“··5 연결된 세계 현실로… 미래는 ‘경험의 시대’”</td>\n",
       "      <td>김현석 삼성전자 대표이사 기조연설 슬로건 제시 “경험의 시대에는 개개인의 요구를 충...</td>\n",
       "    </tr>\n",
       "    <tr>\n",
       "      <th>4</th>\n",
       "      <td>문화일보</td>\n",
       "      <td>‘디지털 변환’ 비전공유·판로개척… 미래 에너지 길을 찾다</td>\n",
       "      <td>▲ ‘에너지 전환과 디지털 변환’이란 주제로 열린 ‘빅스포 2018’은 규모와 내용...</td>\n",
       "    </tr>\n",
       "    <tr>\n",
       "      <th>5</th>\n",
       "      <td>문화일보</td>\n",
       "      <td>전국 곳곳 육아 나눔터·놀이터 설립…‘엄마의 마음’ 편안하게</td>\n",
       "      <td>⑥ 롯데그룹 ‘편한’ 아이들 창의적 공간 ‘꿈다락’ 출산 돕는 ‘예비맘프로젝트’ 섬...</td>\n",
       "    </tr>\n",
       "    <tr>\n",
       "      <th>6</th>\n",
       "      <td>문화일보</td>\n",
       "      <td>긴 호흡으로 경제·사회적 가치 추구…‘나눔’으로 행복 전파</td>\n",
       "      <td>그룹의 사회공헌은 일시적·시혜적施惠的 접근을 넘어서 나눔을 통해 구조적 문제점을 해...</td>\n",
       "    </tr>\n",
       "    <tr>\n",
       "      <th>7</th>\n",
       "      <td>문화일보</td>\n",
       "      <td>아이디어를 현실로… 실패도 훈장으로… “랩서 끼 맘껏 펼쳐요”</td>\n",
       "      <td>⑭ 삼성전자 공모전 통해 선정된 임직원 자유로운 근무환경서 연구 5년간 180개 프...</td>\n",
       "    </tr>\n",
       "  </tbody>\n",
       "</table>\n",
       "</div>"
      ],
      "text/plain": [
       "    언론사                                      제목  \\\n",
       "0  문화일보  이재승 삼성전자 부사장 “미래 가전은 나보다 나를 더 잘 아는 형태”   \n",
       "1  문화일보   삼성 ‘평택 1기 라인’ 15조6000억 투자… 15만명 고용 창출   \n",
       "2  문화일보   美 연구개발 7대 액션플랜… 中도 연관산업 육성에 1800조원 투입   \n",
       "3  문화일보          “··5 연결된 세계 현실로… 미래는 ‘경험의 시대’”   \n",
       "4  문화일보        ‘디지털 변환’ 비전공유·판로개척… 미래 에너지 길을 찾다   \n",
       "5  문화일보       전국 곳곳 육아 나눔터·놀이터 설립…‘엄마의 마음’ 편안하게   \n",
       "6  문화일보        긴 호흡으로 경제·사회적 가치 추구…‘나눔’으로 행복 전파   \n",
       "7  문화일보      아이디어를 현실로… 실패도 훈장으로… “랩서 끼 맘껏 펼쳐요”   \n",
       "\n",
       "                                                  내용  \n",
       "0  ‘나심비’ 트렌드 주목…한발 앞서 소비자 챙길 것 “미래의 가전은 ‘나보다 나를 더...  \n",
       "1  기업 단일투자로 역대 최대 경제 활성화 위해 1년 당겨 41조원 생산유발 효과 기대...  \n",
       "2  세계 각국도 ‘디지털 혁신’ 日 생활 혁신 ‘디지털 뉴딜’ 는 데이터 단일시장 구성...  \n",
       "3  김현석 삼성전자 대표이사 기조연설 슬로건 제시 “경험의 시대에는 개개인의 요구를 충...  \n",
       "4  ▲ ‘에너지 전환과 디지털 변환’이란 주제로 열린 ‘빅스포 2018’은 규모와 내용...  \n",
       "5  ⑥ 롯데그룹 ‘편한’ 아이들 창의적 공간 ‘꿈다락’ 출산 돕는 ‘예비맘프로젝트’ 섬...  \n",
       "6  그룹의 사회공헌은 일시적·시혜적施惠的 접근을 넘어서 나눔을 통해 구조적 문제점을 해...  \n",
       "7  ⑭ 삼성전자 공모전 통해 선정된 임직원 자유로운 근무환경서 연구 5년간 180개 프...  "
      ]
     },
     "execution_count": 35,
     "metadata": {},
     "output_type": "execute_result"
    }
   ],
   "source": [
    "data1"
   ]
  },
  {
   "cell_type": "code",
   "execution_count": 31,
   "metadata": {},
   "outputs": [],
   "source": [
    "def clean_text(text):\n",
    "    cleaned_text = re.sub('[a-zA-Z]', '', text)\n",
    "    cleaned_text = re.sub('[\\{\\}\\[\\]\\/?.,;:|\\)*~`!^\\-_+<>@\\#$%&\\\\\\=\\(\\'\\\"]',\n",
    "                          '', cleaned_text)\n",
    "    cleaned_text = ' '.join(cleaned_text.split())\n",
    "    return cleaned_text"
   ]
  },
  {
   "cell_type": "code",
   "execution_count": 12,
   "metadata": {},
   "outputs": [],
   "source": [
    "query = '삼성전자 슬로건'\n",
    "domain = '문화일보'\n",
    "driver = webdriver.Chrome(executable_path=driver_path, options=options)  # for Windows\n",
    "url_domain = 'https://search.naver.com/search.naver?where=news&query='\n",
    "news_domain ='%EB%89%B4%EC%8A%A4&sm=tab_opt&sort=0&photo=0&field=0&pd=0&ds=&de=&docid=&related=0&mynews=1&office_type=1&office_section_code=1&news_office_checked=1021&nso=&is_sug_officeid=0' \n",
    "url = url_domain + query + news_domain\n",
    "driver.get(url)\n",
    "soup = BeautifulSoup(driver.page_source,'html.parser')\n",
    "news_list = soup.select('#main_pack > section > div > div.group_news > ul')\n",
    "url_list = []\n",
    "news_list = news_list[0].find_all('li')\n",
    "for url in news_list:\n",
    "    url_list.append(str(url.find_all('a')[0].get('data-url')))\n",
    "driver.close()"
   ]
  },
  {
   "cell_type": "code",
   "execution_count": 16,
   "metadata": {},
   "outputs": [],
   "source": [
    "driver = webdriver.Chrome(executable_path=driver_path)  # for Windows\n",
    "driver.get(url_list[6])"
   ]
  },
  {
   "cell_type": "code",
   "execution_count": 26,
   "metadata": {},
   "outputs": [],
   "source": [
    "driver.close()"
   ]
  },
  {
   "cell_type": "code",
   "execution_count": 18,
   "metadata": {},
   "outputs": [],
   "source": [
    "soup = BeautifulSoup(driver.page_source, 'html.parser')"
   ]
  },
  {
   "cell_type": "code",
   "execution_count": 25,
   "metadata": {},
   "outputs": [
    {
     "data": {
      "text/plain": [
       "'\\n\\t\\t\\t\\t  SK그룹의 사회공헌은 일시적·시혜적(施惠的) 접근을 넘어서 나눔을 통해 구조적 문제점을 해결하자는 원칙 아래 운용되고 있다. 이에 따라 관련 프로그램들도 긴 호흡을 갖고 장기적으로 진행된다. \\n\\nSK의 사회공헌 슬로건은 ‘사회적 가치 창출을 통한 이해관계자와의 더 큰 행복 나눔’으로 요약된다. 최태원 회장은 ‘돈 버는 것만이 기업의 목적이 아니다’는 최종현 선대 회장의 사회공헌 철학을 ‘사회적 가치 추구’라는 화두로 계승·발전시켰다. 사회적 가치를 창출하는 것은 지속 가능한 기업을 만들기 위한 필수조건일 뿐 아니라, 기업이 더 크게 성장하기 위한 전제조건이라고 본다. \\n\\n특히 최 회장은 “사회적 가치 창출은 기존 시장과 고객을 놓고 서로 뺏거나 빼앗기는 제로섬(Zero-Sum) 게임이 아니라, 다양한 시장 플레이어와 함께 성장하며 새로운 시장을 만들어 나갈 수 있는 혁신적인 경영 전략”이라고 강조하고 있다. 최 회장은 사회적 가치 추구를 통한 신(新)경영전략의 3대 방법론으로 △경제적 가치와 사회적 가치를 동시에 추구하는 ‘DBL(Double Bottom Line) 경영’ △기업의 유무형 자산을 사회적 가치 창출 인프라로 활용하는 ‘공유 인프라’ △사회적 가치 창출 전문가와 협력하는 ‘사회적 기업 생태계 조성’을 제시하고 있다. SK그룹의 사회공헌은 이 같은 3대 방법론에 따라 이뤄진다.\\n\\n우선 DBL 경영은 기업이 전통적 개념의 경제적 가치에만 매몰되지 않고, 어떻게 하면 더 많은 경제적 가치와 사회적 가치의 ‘총합’을 만들어 낼 수 있을 것인가를 고민해야 한다는 경영 철학이다. 경제적 가치와 사회적 가치가 두 개의 핵심(Bottom Line)이 되는 것이다. 이런 원칙에 따라서 경영을 하면 비즈니스 모델을 바라보는 시각부터 바뀌게 되고, 그 결과 사회적 가치 창출을 통해 기업을 둘러싼 모든 이해관계자의 행복을 더 크게 키울 수 있다는 게 DBL 경영의 발상이다. SK는 올해 이를 그룹 전체 차원으로 확장, 주요 계열사 정관에도 ‘사회적 가치 창출’이라는 경영 목표를 반영했다.\\n\\n공유 인프라와 관련, 전국 3600여 개 SK 주유소는 실제로 ‘O2O(Online To Offline) 서비스 플랫폼’으로 변화하고 있다. SK에너지는 우선 거점 주유소의 ‘지역 물류 허브(Hub)화’를 추진 중이다. 공유 인프라 구축을 위해 경쟁사인 GS칼텍스와도 손잡았다. 두 회사는 주유소 자산 공유를 통한 택배 서비스 ‘홈픽’을 내놨다. SK하이닉스는 공유 인프라 포털을 만들어 반도체 산업 생태계 육성에 나섰다. 공유 인프라 포털은 반도체 아카데미와 분석·측정 지원센터로 구성돼 있다. 협력사들은 회원 가입만 하면 반도체 아카데미에서 제조 공정, 소자, 설계, 통계 등 120여 개 온라인 교육과정을 자유롭게 수강할 수 있다. \\n\\n최 회장은 “자산은 외부에 공유할 수 없다는 생각을 깨고, 기존 사업에만 활용했던 자산을 공유 인프라로 확장할 경우 혁신적인 비즈니스 모델이 가능해진다”며 “이 공유 인프라를 외부에 공유하면 그룹 내부에서 보다 혁신적인 비즈니스 모델이 출현할 수 있고 사회적 가치도 높일 수 있다”고 밝힌 바 있다.  \\n\\n김성훈 기자 tarant@munhwa.com\\n\\n제작후원:삼성전자, 현대자동차그룹, 현대모비스, 현대오일뱅크, 현대삼호중공업, 현대미포조선, SK, SK이노베이션, SK하이닉스, LG전자, 롯데, 포스코, 한화, 이마트, KT, CJ, 네이버\\n'"
      ]
     },
     "execution_count": 25,
     "metadata": {},
     "output_type": "execute_result"
    }
   ],
   "source": [
    "soup.select('#NewsAdContent')[0].text"
   ]
  },
  {
   "cell_type": "code",
   "execution_count": null,
   "metadata": {},
   "outputs": [],
   "source": []
  }
 ],
 "metadata": {
  "kernelspec": {
   "display_name": "Python 3",
   "language": "python",
   "name": "python3"
  },
  "language_info": {
   "codemirror_mode": {
    "name": "ipython",
    "version": 3
   },
   "file_extension": ".py",
   "mimetype": "text/x-python",
   "name": "python",
   "nbconvert_exporter": "python",
   "pygments_lexer": "ipython3",
   "version": "3.7.6"
  }
 },
 "nbformat": 4,
 "nbformat_minor": 4
}
