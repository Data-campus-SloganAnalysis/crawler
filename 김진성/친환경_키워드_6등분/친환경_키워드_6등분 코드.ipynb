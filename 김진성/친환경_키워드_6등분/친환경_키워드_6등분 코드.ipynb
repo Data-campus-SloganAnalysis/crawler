{
 "cells": [
  {
   "cell_type": "code",
   "execution_count": 17,
   "id": "09345034",
   "metadata": {},
   "outputs": [],
   "source": [
    "import pandas as pd\n",
    "\n",
    "df = pd.read_csv('./크롤링 데이터 모음/친환경_community.csv')\n",
    "df1 = pd.read_csv('./크롤링 데이터 모음/친환경_news.csv',encoding='CP949')\n",
    "df2 = pd.read_csv('./크롤링 데이터 모음/친환경_sns.csv')"
   ]
  },
  {
   "cell_type": "code",
   "execution_count": 18,
   "id": "b54108a5",
   "metadata": {},
   "outputs": [],
   "source": [
    "df.drop(['Unnamed: 0'],axis=1,inplace=True)\n",
    "df.columns = ['내용']\n",
    "df1.drop(['Unnamed: 0'],axis=1,inplace=True)\n",
    "df1.columns = ['내용']\n",
    "df2.drop(['Unnamed: 0'],axis=1,inplace=True)"
   ]
  },
  {
   "cell_type": "code",
   "execution_count": 19,
   "id": "db08ad8f",
   "metadata": {},
   "outputs": [],
   "source": [
    "df_collect = pd.concat([df,df1,df2], ignore_index=True)"
   ]
  },
  {
   "cell_type": "code",
   "execution_count": 24,
   "id": "e0156f2a",
   "metadata": {},
   "outputs": [],
   "source": [
    "drop_index = df_collect[df_collect['내용']==\"\"].index\n",
    "df_collect.drop(drop_index,inplace=True)"
   ]
  },
  {
   "cell_type": "code",
   "execution_count": 26,
   "id": "a75f8ab9",
   "metadata": {},
   "outputs": [],
   "source": [
    "df_collect = df_collect['내용'][df_collect['내용'].apply(lambda x : len(str(x))<150)].reset_index().drop(['index'],axis=1)"
   ]
  },
  {
   "cell_type": "code",
   "execution_count": 32,
   "id": "f6a4903f",
   "metadata": {},
   "outputs": [
    {
     "name": "stdout",
     "output_type": "stream",
     "text": [
      "error\n"
     ]
    }
   ],
   "source": [
    "from eunjeon import Mecab\n",
    "tokenizer = Mecab()\n",
    "\n",
    "noun_list = []\n",
    "\n",
    "for i in df_collect['내용']:\n",
    "    try:\n",
    "        noun_list.extend(tokenizer.nouns(i))\n",
    "    except:\n",
    "        print('error')"
   ]
  },
  {
   "cell_type": "code",
   "execution_count": 33,
   "id": "2c29a824",
   "metadata": {},
   "outputs": [],
   "source": [
    "from collections import Counter\n",
    "import operator\n",
    "\n",
    "counter = Counter(noun_list)\n",
    "sort_nouns = sorted(counter.items(), key=operator.itemgetter(1),reverse=True)"
   ]
  },
  {
   "cell_type": "code",
   "execution_count": 37,
   "id": "57fa9a30",
   "metadata": {},
   "outputs": [],
   "source": [
    "sort_len = len(sort_nouns)//6\n",
    "temp_len = 0\n",
    "\n",
    "for i in range(1,7):\n",
    "    temp_nouns = sort_nouns[temp_len:(temp_len+sort_len)]\n",
    "    f = open(\"친환경_nouns_\"+str(i)+\".txt\", 'w', -1, \"utf-8\")\n",
    "    for j in temp_nouns:\n",
    "        f.write(str(j)+'\\n')\n",
    "    f.close()\n",
    "    \n",
    "    temp_len += sort_len"
   ]
  },
  {
   "cell_type": "code",
   "execution_count": 38,
   "id": "af9a91ba",
   "metadata": {},
   "outputs": [
    {
     "data": {
      "text/plain": [
       "10928"
      ]
     },
     "execution_count": 38,
     "metadata": {},
     "output_type": "execute_result"
    }
   ],
   "source": [
    "len(df_collect)"
   ]
  },
  {
   "cell_type": "code",
   "execution_count": 39,
   "id": "76100228",
   "metadata": {},
   "outputs": [],
   "source": [
    "df_len = len(df_collect['내용'])//6\n",
    "temp_len = 0\n",
    "\n",
    "for i in range(1,7):\n",
    "    temp_df = df_collect['내용'][temp_len:(temp_len+df_len)]\n",
    "    temp_df.to_csv('df'+str(i)+'_친환경.csv',encoding='utf-8-sig')"
   ]
  }
 ],
 "metadata": {
  "kernelspec": {
   "display_name": "Python 3",
   "language": "python",
   "name": "python3"
  },
  "language_info": {
   "codemirror_mode": {
    "name": "ipython",
    "version": 3
   },
   "file_extension": ".py",
   "mimetype": "text/x-python",
   "name": "python",
   "nbconvert_exporter": "python",
   "pygments_lexer": "ipython3",
   "version": "3.8.8"
  }
 },
 "nbformat": 4,
 "nbformat_minor": 5
}
