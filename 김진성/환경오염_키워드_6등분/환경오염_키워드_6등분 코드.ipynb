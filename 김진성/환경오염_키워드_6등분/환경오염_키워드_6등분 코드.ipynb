{
 "cells": [
  {
   "cell_type": "code",
   "execution_count": 15,
   "id": "09345034",
   "metadata": {},
   "outputs": [],
   "source": [
    "import pandas as pd\n",
    "\n",
    "df = pd.read_csv('./크롤링 데이터 모음/환경오염_community.csv')\n",
    "df1 = pd.read_csv('./크롤링 데이터 모음/환경오염_news.csv',encoding='CP949')\n",
    "df2 = pd.read_csv('./크롤링 데이터 모음/환경오염_sns.csv')"
   ]
  },
  {
   "cell_type": "code",
   "execution_count": 16,
   "id": "b54108a5",
   "metadata": {},
   "outputs": [],
   "source": [
    "df.drop(['Unnamed: 0'],axis=1,inplace=True)\n",
    "df1.drop(['Unnamed: 0'],axis=1,inplace=True)\n",
    "df2.drop(['Unnamed: 0'],axis=1,inplace=True)\n",
    "df1.columns = ['내용']"
   ]
  },
  {
   "cell_type": "code",
   "execution_count": 17,
   "id": "db08ad8f",
   "metadata": {},
   "outputs": [],
   "source": [
    "df_collect = pd.concat([df,df1,df2], ignore_index=True)"
   ]
  },
  {
   "cell_type": "code",
   "execution_count": 18,
   "id": "02fd0654",
   "metadata": {
    "scrolled": true
   },
   "outputs": [
    {
     "data": {
      "text/html": [
       "<div>\n",
       "<style scoped>\n",
       "    .dataframe tbody tr th:only-of-type {\n",
       "        vertical-align: middle;\n",
       "    }\n",
       "\n",
       "    .dataframe tbody tr th {\n",
       "        vertical-align: top;\n",
       "    }\n",
       "\n",
       "    .dataframe thead th {\n",
       "        text-align: right;\n",
       "    }\n",
       "</style>\n",
       "<table border=\"1\" class=\"dataframe\">\n",
       "  <thead>\n",
       "    <tr style=\"text-align: right;\">\n",
       "      <th></th>\n",
       "      <th>내용</th>\n",
       "    </tr>\n",
       "  </thead>\n",
       "  <tbody>\n",
       "    <tr>\n",
       "      <th>0</th>\n",
       "      <td>감사원 월성원전 이어 새만금 태양광 사업 감사 감사원 월성원전 이어 새만금 태양광 ...</td>\n",
       "    </tr>\n",
       "    <tr>\n",
       "      <th>1</th>\n",
       "      <td>지방도시들의 경우 도시성장에 중요한 역할이 되기 때문에 다들 기를 쓰고 유치하려고 ...</td>\n",
       "    </tr>\n",
       "    <tr>\n",
       "      <th>2</th>\n",
       "      <td>존버하면 26층 올까요 손절할까말까 진지하게 고민하고 있습니다 여유자금이라 존버는 ...</td>\n",
       "    </tr>\n",
       "    <tr>\n",
       "      <th>3</th>\n",
       "      <td>1 태양광 이것도 요즘 비판 많이 받던데요 산깎아서 자연 훼손해서 만든다고 그래서 ...</td>\n",
       "    </tr>\n",
       "    <tr>\n",
       "      <th>4</th>\n",
       "      <td>최근 도쿄올림픽이 진행되고 있는 가운데 트라이애슬론 경기에 대한 논란이 계속해서 일...</td>\n",
       "    </tr>\n",
       "    <tr>\n",
       "      <th>...</th>\n",
       "      <td>...</td>\n",
       "    </tr>\n",
       "    <tr>\n",
       "      <th>13969</th>\n",
       "      <td>꼭 닫고 버립시다 플라스틱 재활용 환경오염 재활용품 분리수거 분리수거함플라스틱 재활...</td>\n",
       "    </tr>\n",
       "    <tr>\n",
       "      <th>13970</th>\n",
       "      <td>년부터 달라지는 환경정책 탄 하천 하수구 쓰레기 정화사업 확대입니다 바뀐정책에 관심...</td>\n",
       "    </tr>\n",
       "    <tr>\n",
       "      <th>13971</th>\n",
       "      <td>년부터 달라지는 환경정책 탄 통합환경관리제도 적용 확대입니다 바뀐정책에 관심가져요 ...</td>\n",
       "    </tr>\n",
       "    <tr>\n",
       "      <th>13972</th>\n",
       "      <td>년부터 달라지는 환경정책 탄 실내공기질 관리법 제정 시행 대중교통 공기질 측정 의무...</td>\n",
       "    </tr>\n",
       "    <tr>\n",
       "      <th>13973</th>\n",
       "      <td>안녕하세요 저희는 덕신고등학교 대한민국만셀 입니다 해시태그 이벤트인 텀블러 사용하기...</td>\n",
       "    </tr>\n",
       "  </tbody>\n",
       "</table>\n",
       "<p>13974 rows × 1 columns</p>\n",
       "</div>"
      ],
      "text/plain": [
       "                                                      내용\n",
       "0      감사원 월성원전 이어 새만금 태양광 사업 감사 감사원 월성원전 이어 새만금 태양광 ...\n",
       "1      지방도시들의 경우 도시성장에 중요한 역할이 되기 때문에 다들 기를 쓰고 유치하려고 ...\n",
       "2      존버하면 26층 올까요 손절할까말까 진지하게 고민하고 있습니다 여유자금이라 존버는 ...\n",
       "3      1 태양광 이것도 요즘 비판 많이 받던데요 산깎아서 자연 훼손해서 만든다고 그래서 ...\n",
       "4      최근 도쿄올림픽이 진행되고 있는 가운데 트라이애슬론 경기에 대한 논란이 계속해서 일...\n",
       "...                                                  ...\n",
       "13969  꼭 닫고 버립시다 플라스틱 재활용 환경오염 재활용품 분리수거 분리수거함플라스틱 재활...\n",
       "13970  년부터 달라지는 환경정책 탄 하천 하수구 쓰레기 정화사업 확대입니다 바뀐정책에 관심...\n",
       "13971  년부터 달라지는 환경정책 탄 통합환경관리제도 적용 확대입니다 바뀐정책에 관심가져요 ...\n",
       "13972  년부터 달라지는 환경정책 탄 실내공기질 관리법 제정 시행 대중교통 공기질 측정 의무...\n",
       "13973  안녕하세요 저희는 덕신고등학교 대한민국만셀 입니다 해시태그 이벤트인 텀블러 사용하기...\n",
       "\n",
       "[13974 rows x 1 columns]"
      ]
     },
     "execution_count": 18,
     "metadata": {},
     "output_type": "execute_result"
    }
   ],
   "source": [
    "df_collect"
   ]
  },
  {
   "cell_type": "code",
   "execution_count": 19,
   "id": "a75f8ab9",
   "metadata": {},
   "outputs": [],
   "source": [
    "df_collect = df_collect['내용'][df_collect['내용'].apply(lambda x : len(x)<150)].reset_index().drop(['index'],axis=1)"
   ]
  },
  {
   "cell_type": "code",
   "execution_count": 20,
   "id": "f6a4903f",
   "metadata": {},
   "outputs": [],
   "source": [
    "from eunjeon import Mecab\n",
    "tokenizer = Mecab()\n",
    "\n",
    "noun_list = []\n",
    "\n",
    "for i in df_collect['내용']:\n",
    "    noun_list.extend(tokenizer.nouns(i))"
   ]
  },
  {
   "cell_type": "code",
   "execution_count": 21,
   "id": "2c29a824",
   "metadata": {},
   "outputs": [],
   "source": [
    "from collections import Counter\n",
    "import operator\n",
    "\n",
    "counter = Counter(noun_list)\n",
    "sort_nouns = sorted(counter.items(), key=operator.itemgetter(1),reverse=True)"
   ]
  },
  {
   "cell_type": "code",
   "execution_count": 22,
   "id": "57fa9a30",
   "metadata": {},
   "outputs": [],
   "source": [
    "sort_len = len(sort_nouns)//6\n",
    "temp_len = 0\n",
    "\n",
    "for i in range(1,7):\n",
    "    temp_nouns = sort_nouns[temp_len:(temp_len+sort_len)]\n",
    "    temp_nouns = pd.DataFrame(temp_nouns,columns=['명사','횟수'])\n",
    "    temp_nouns.to_csv(\"환경오염_nouns_\"+str(i)+\".csv\",encoding='utf-8-sig')\n",
    "    temp_len += sort_len"
   ]
  },
  {
   "cell_type": "code",
   "execution_count": 13,
   "id": "af9a91ba",
   "metadata": {},
   "outputs": [
    {
     "data": {
      "text/plain": [
       "13048"
      ]
     },
     "execution_count": 13,
     "metadata": {},
     "output_type": "execute_result"
    }
   ],
   "source": [
    "len(df_collect)"
   ]
  },
  {
   "cell_type": "code",
   "execution_count": 12,
   "id": "76100228",
   "metadata": {},
   "outputs": [],
   "source": [
    "df_len = len(df_collect['내용'])//6\n",
    "temp_len = 0\n",
    "\n",
    "for i in range(1,7):\n",
    "    temp_df = df_collect['내용'][temp_len:(temp_len+df_len)]\n",
    "    temp_df.to_csv('df'+str(i)+'_모음_150필터링.csv',encoding='utf-8-sig')"
   ]
  }
 ],
 "metadata": {
  "kernelspec": {
   "display_name": "Python 3",
   "language": "python",
   "name": "python3"
  },
  "language_info": {
   "codemirror_mode": {
    "name": "ipython",
    "version": 3
   },
   "file_extension": ".py",
   "mimetype": "text/x-python",
   "name": "python",
   "nbconvert_exporter": "python",
   "pygments_lexer": "ipython3",
   "version": "3.8.8"
  }
 },
 "nbformat": 4,
 "nbformat_minor": 5
}
