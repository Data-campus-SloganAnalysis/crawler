{
 "cells": [
  {
   "cell_type": "code",
   "execution_count": 2,
   "id": "2e3cadc1",
   "metadata": {},
   "outputs": [],
   "source": [
    "import re\n",
    "from bs4 import BeautifulSoup\n",
    "import time\n",
    "import pandas as pd\n",
    "import datetime"
   ]
  },
  {
   "cell_type": "code",
   "execution_count": 3,
   "id": "d03447ce",
   "metadata": {},
   "outputs": [],
   "source": [
    "driver_path = 'C:/chromedriver_win32/chromedriver.exe'"
   ]
  },
  {
   "cell_type": "code",
   "execution_count": 4,
   "id": "cde5ac37",
   "metadata": {},
   "outputs": [],
   "source": [
    "#맞춰서 수정필요\n",
    "def clean_text(text):\n",
    "    cleaned_text = re.sub('[a-zA-Z]', '', text)\n",
    "    cleaned_text = re.sub('[\\{\\}\\[\\]\\/?.,;:|\\)*~`!^\\-_+<>@\\#$%&\\\\\\=\\(\\'\\\"]',\n",
    "                          '', cleaned_text)\n",
    "    cleaned_text = ' '.join(cleaned_text.split())\n",
    "    return cleaned_text"
   ]
  },
  {
   "cell_type": "code",
   "execution_count": null,
   "id": "4a8eddd4",
   "metadata": {},
   "outputs": [],
   "source": [
    "search = \"풀무원 바른먹거리\""
   ]
  },
  {
   "cell_type": "code",
   "execution_count": 9,
   "id": "034baa2a",
   "metadata": {
    "scrolled": false
   },
   "outputs": [],
   "source": [
    "from selenium import webdriver\n",
    "from selenium.webdriver.chrome.options import Options\n",
    "from selenium.webdriver.common.keys import Keys\n",
    "\n",
    "options = webdriver.ChromeOptions()\n",
    "option = Options()\n",
    "options.add_argument(\"headless\")\n",
    "\n",
    "option.add_experimental_option(\"prefs\", {\n",
    "    \"profile.default_content_setting_values.notifications\": 1\n",
    "})\n",
    "\n",
    "usr = \"아이디\"\n",
    "pwd = \"비밀번호\"\n",
    "\n",
    "driver = webdriver.Chrome(options=option, executable_path=driver_path) #팝업만제거, 창제거까지 원하면 options로\n",
    "driver.get(\"http://www.facebook.org\")\n",
    "assert \"Facebook\" in driver.title\n",
    "elem = driver.find_element_by_id(\"email\")\n",
    "elem.send_keys(usr)\n",
    "elem = driver.find_element_by_id(\"pass\")\n",
    "elem.send_keys(pwd)\n",
    "elem.send_keys(Keys.RETURN)\n",
    "time.sleep(5)"
   ]
  },
  {
   "cell_type": "code",
   "execution_count": 18,
   "id": "5feeb6fb",
   "metadata": {},
   "outputs": [],
   "source": [
    "#게시물 검색\n",
    "elem = driver.find_element_by_name(\"global_typeahead\")\n",
    "elem.send_keys(search)\n",
    "elem.send_keys(Keys.RETURN)\n",
    "time.sleep(3)\n",
    "elem = driver.find_element_by_link_text('게시물')\n",
    "elem.send_keys(Keys.RETURN)\n",
    "time.sleep(3)\n",
    "elem = driver.find_element_by_class_name('plgsh5y4.pmk7jnqg.ditlmg2l.dpjh1vo5')\n",
    "elem.click()\n",
    "elem = driver.find_element_by_xpath('//*[@id=\"전체 공개 게시물\"]/div/div[1]/div/div/div/span/span')\n",
    "elem.click()\n",
    "time.sleep(3)\n",
    "\n",
    "#맨 아래까지 스크롤해서 데이터 불러오기\n",
    "prev_height = driver.execute_script(\"return document.body.scrollHeight\")\n",
    "while True:\n",
    "    # 스크롤을 화면 가장 아래로 내린다\n",
    "    driver.execute_script(\"window.scrollTo(0,document.body.scrollHeight)\")    \n",
    "    # 페이지 로딩 대기\n",
    "    time.sleep(0.5)\n",
    "    # 현재 문서 높이를 가져와서 저장\n",
    "    curr_height = driver.execute_script(\"return document.body.scrollHeight\")\n",
    "\n",
    "    if(curr_height == prev_height):\n",
    "        break\n",
    "    else:\n",
    "        prev_height = driver.execute_script(\"return document.body.scrollHeight\")"
   ]
  },
  {
   "cell_type": "code",
   "execution_count": null,
   "id": "f1de3070",
   "metadata": {},
   "outputs": [],
   "source": [
    "#크롤링\n",
    "def facebook(query):\n"
   ]
  },
  {
   "cell_type": "code",
   "execution_count": null,
   "id": "1ea5894f",
   "metadata": {},
   "outputs": [],
   "source": []
  },
  {
   "cell_type": "code",
   "execution_count": null,
   "id": "ebd7df2f",
   "metadata": {},
   "outputs": [],
   "source": []
  },
  {
   "cell_type": "markdown",
   "id": "723867f2",
   "metadata": {},
   "source": [
    "req = driver.page_source\n",
    "soup=BeautifulSoup(req, 'html.parser')\n",
    "information_list = soup.select_one('span',class_=\"a8c37x1j ni8dbmo4 stjgntxs 19j0dhe7\").text\n",
    "in\n",
    "for information in information_list:\n",
    "    print(information.text)"
   ]
  },
  {
   "cell_type": "code",
   "execution_count": null,
   "id": "30448794",
   "metadata": {},
   "outputs": [],
   "source": []
  },
  {
   "cell_type": "markdown",
   "id": "8ae9001e",
   "metadata": {},
   "source": [
    "크롤링이 불법인 것 같고 API를 통해서는 페이지만 지원.\n",
    "https://stackoverflow.com/questions/36736457/facebook-api-to-search-public-posts-containing-a-particular-hashtag\n",
    "게시글과 댓글 풀무원 페이지만 크롤링"
   ]
  },
  {
   "cell_type": "code",
   "execution_count": null,
   "id": "fb3ef8f3",
   "metadata": {},
   "outputs": [],
   "source": []
  }
 ],
 "metadata": {
  "kernelspec": {
   "display_name": "Python 3",
   "language": "python",
   "name": "python3"
  },
  "language_info": {
   "codemirror_mode": {
    "name": "ipython",
    "version": 3
   },
   "file_extension": ".py",
   "mimetype": "text/x-python",
   "name": "python",
   "nbconvert_exporter": "python",
   "pygments_lexer": "ipython3",
   "version": "3.8.8"
  }
 },
 "nbformat": 4,
 "nbformat_minor": 5
}
