{
 "cells": [
  {
   "cell_type": "code",
   "execution_count": 1,
   "id": "6e634b9d",
   "metadata": {},
   "outputs": [],
   "source": [
    "import re\n",
    "from bs4 import BeautifulSoup\n",
    "import time\n",
    "import pandas as pd\n",
    "import datetime"
   ]
  },
  {
   "cell_type": "code",
   "execution_count": 2,
   "id": "5069406b",
   "metadata": {},
   "outputs": [],
   "source": [
    "driver_path = 'C:/chromedriver_win32/chromedriver.exe'"
   ]
  },
  {
   "cell_type": "code",
   "execution_count": 3,
   "id": "2c699fdb",
   "metadata": {},
   "outputs": [],
   "source": [
    "#맞춰서 수정필요\n",
    "def clean_text(text):\n",
    "    cleaned_text = re.sub('[a-zA-Z]', '', text)\n",
    "    cleaned_text = re.sub('[\\{\\}\\[\\]\\/?.,;:|\\)*~`!^\\-_+<>@\\#$%&\\\\\\=\\(\\'\\\"]',\n",
    "                          '', cleaned_text)\n",
    "    cleaned_text = ' '.join(cleaned_text.split())\n",
    "    return cleaned_text"
   ]
  },
  {
   "cell_type": "code",
   "execution_count": 4,
   "id": "be3a1d12",
   "metadata": {},
   "outputs": [],
   "source": [
    "search = \"풀무원 바른먹거리\""
   ]
  },
  {
   "cell_type": "code",
   "execution_count": 14,
   "id": "1108dad5",
   "metadata": {
    "scrolled": true
   },
   "outputs": [
    {
     "name": "stdout",
     "output_type": "stream",
     "text": [
      "결과가 없습니다\n"
     ]
    }
   ],
   "source": [
    "from selenium import webdriver\n",
    "from selenium.webdriver.chrome.options import Options\n",
    "from selenium.webdriver.common.keys import Keys\n",
    "options = webdriver.ChromeOptions()\n",
    "option = Options()\n",
    "options.add_argument(\"headless\")\n",
    "option.add_experimental_option(\"prefs\", {\n",
    "    \"profile.default_content_setting_values.notifications\": 1\n",
    "})\n",
    "usr = \"아이디\"\n",
    "pwd = \"비밀번호\"\n",
    "\n",
    "def facebook_crwal(search,driver_path):\n",
    "    posts_list = []\n",
    "    comments_list = []\n",
    "    driver = webdriver.Chrome(options=option, executable_path=driver_path) #팝업만제거, 창제거까지 원하면 options로\n",
    "    driver.get(\"http://www.facebook.org\")\n",
    "    assert \"Facebook\" in driver.title\n",
    "    elem = driver.find_element_by_id(\"email\")\n",
    "    elem.send_keys(usr)\n",
    "    elem = driver.find_element_by_id(\"pass\")\n",
    "    elem.send_keys(pwd)\n",
    "    elem.send_keys(Keys.RETURN)\n",
    "    time.sleep(5)\n",
    "\n",
    "    #게시물 검색\n",
    "    elem = driver.find_element_by_name(\"global_typeahead\")\n",
    "    elem.send_keys(search)\n",
    "    time.sleep(2)\n",
    "    elem.send_keys(Keys.RETURN)\n",
    "    time.sleep(3)\n",
    "    elem = driver.find_element_by_link_text('게시물')\n",
    "    elem.send_keys(Keys.RETURN)\n",
    "    time.sleep(3)\n",
    "    elem = driver.find_element_by_class_name('plgsh5y4.pmk7jnqg.ditlmg2l.dpjh1vo5')\n",
    "    elem.click()\n",
    "    elem = driver.find_element_by_xpath('//*[@id=\"전체 공개 게시물\"]/div/div[1]/div/div/div/span/span')\n",
    "    elem.click()\n",
    "    time.sleep(3)\n",
    "\n",
    "    #맨 아래까지 스크롤해서 데이터 불러오기\n",
    "    prev_height = driver.execute_script(\"return document.body.scrollHeight\")\n",
    "    while True:\n",
    "        # 스크롤을 화면 가장 아래로 내린다\n",
    "        driver.execute_script(\"window.scrollTo(0,document.body.scrollHeight)\")    \n",
    "        # 페이지 로딩 대기\n",
    "        time.sleep(1)\n",
    "        # 현재 문서 높이를 가져와서 저장\n",
    "        curr_height = driver.execute_script(\"return document.body.scrollHeight\")\n",
    "\n",
    "        if(curr_height == prev_height):\n",
    "            break\n",
    "        else:\n",
    "            prev_height = driver.execute_script(\"return document.body.scrollHeight\")\n",
    "  #####여기까지는 문제X#################        \n",
    "        \n",
    "    url_domain = 'https://www.facebook.com/search/posts?q='\n",
    "    filter_domain ='&filters=eyJycF9hdXRob3I6MCI6IntcIm5hbWVcIjpcIm1lcmdlZF9wdWJsaWNfcG9zdHNcIixcImFyZ3NcIjpcIlwifSJ9' \n",
    "    url = url_domain + search + filter_domain\n",
    "    soup = BeautifulSoup(url,'html.parser')\n",
    "\n",
    "    try:\n",
    "        read_list = soup.select('div', class_='d2edcug0 o7dlgrpb')\n",
    "        read_list = read_list[0].find_all('div', class_='rq0escxv l9j0dhe7 du4w35lb j83agx80 cbu4d94t pfnyh3mw d2edcug0')\n",
    "        url_list = []\n",
    "        for url in read_list:\n",
    "            url_list.append(str(url.find_all('a')[0].get('href')))\n",
    "    except:\n",
    "        print('결과가 없습니다')\n",
    "        driver.close()\n",
    "        return 0\n",
    "    driver.close()\n",
    "\n",
    "    for url in url_list:\n",
    "        try:\n",
    "            driver = webdriver.Chrome(executable_path=driver_path, options=option)  # for Windows\n",
    "            driver.get(url)\n",
    "            time.sleep(2)\n",
    "            soup = BeautifulSoup(driver.page_source,'html.parser')\n",
    "            posts = clean_text(soup.find('#jsc_c_1h > div').text)\n",
    "            posts_list.append(post)\n",
    "            comment = soup.select_one('div', class_='cwj9oz12 tvmv18p').find_all('div', class_='kvgmc6g5 cxmmr5t8 oygrvhab hcukyx3x c1et5uql')\n",
    "            comments = [clean_text(x.text) for x in comment]\n",
    "            comments_list.append(' '.join(comments))\n",
    "        except:\n",
    "            print(\"None_type\")\n",
    "        driver.close()\n",
    "    output = pd.DataFrame({'기업 슬로건' : [search]*len(posts_list),\n",
    "                               '게시물' :  posts_list,\n",
    "                               '댓글' : comments_list})\n",
    "    return output\n",
    "\n",
    "facebook = facebook_crwal(search,driver_path)\n",
    "    "
   ]
  },
  {
   "cell_type": "code",
   "execution_count": 15,
   "id": "f2c37cdb",
   "metadata": {
    "scrolled": true
   },
   "outputs": [
    {
     "ename": "AttributeError",
     "evalue": "'int' object has no attribute 'to_csv'",
     "output_type": "error",
     "traceback": [
      "\u001b[1;31m---------------------------------------------------------------------------\u001b[0m",
      "\u001b[1;31mAttributeError\u001b[0m                            Traceback (most recent call last)",
      "\u001b[1;32m<ipython-input-15-422253f86f78>\u001b[0m in \u001b[0;36m<module>\u001b[1;34m\u001b[0m\n\u001b[1;32m----> 1\u001b[1;33m \u001b[0mfacebook\u001b[0m\u001b[1;33m.\u001b[0m\u001b[0mto_csv\u001b[0m\u001b[1;33m(\u001b[0m\u001b[1;34m'페이스북.csv'\u001b[0m\u001b[1;33m,\u001b[0m\u001b[0mencoding\u001b[0m\u001b[1;33m=\u001b[0m\u001b[1;34m'UTF8'\u001b[0m\u001b[1;33m,\u001b[0m\u001b[0mindex\u001b[0m\u001b[1;33m=\u001b[0m\u001b[1;32mNone\u001b[0m\u001b[1;33m)\u001b[0m\u001b[1;33m\u001b[0m\u001b[1;33m\u001b[0m\u001b[0m\n\u001b[0m",
      "\u001b[1;31mAttributeError\u001b[0m: 'int' object has no attribute 'to_csv'"
     ]
    }
   ],
   "source": [
    "facebook.to_csv('페이스북.csv',encoding='UTF8',index=None)"
   ]
  },
  {
   "cell_type": "code",
   "execution_count": null,
   "id": "aad33d49",
   "metadata": {},
   "outputs": [],
   "source": [
    "test = pd.read_csv('페이스북.csv',encoding='UTF8')"
   ]
  },
  {
   "cell_type": "code",
   "execution_count": null,
   "id": "24f7888c",
   "metadata": {},
   "outputs": [],
   "source": [
    "test"
   ]
  },
  {
   "cell_type": "markdown",
   "id": "f059a792",
   "metadata": {},
   "source": [
    "'#'이 앞에 붙는 단어들 따로 빼서 표본에 넣을지 말지 판단\n",
    "댓글 '더보기'로 더 로드해야하는지 결과보고 필요시 재설정\n",
    "중복제거"
   ]
  }
 ],
 "metadata": {
  "kernelspec": {
   "display_name": "Python 3",
   "language": "python",
   "name": "python3"
  },
  "language_info": {
   "codemirror_mode": {
    "name": "ipython",
    "version": 3
   },
   "file_extension": ".py",
   "mimetype": "text/x-python",
   "name": "python",
   "nbconvert_exporter": "python",
   "pygments_lexer": "ipython3",
   "version": "3.8.8"
  }
 },
 "nbformat": 4,
 "nbformat_minor": 5
}
