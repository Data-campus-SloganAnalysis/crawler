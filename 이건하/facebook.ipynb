{
 "cells": [
  {
   "cell_type": "code",
   "execution_count": 4,
   "id": "6e634b9d",
   "metadata": {},
   "outputs": [],
   "source": [
    "import re\n",
    "from bs4 import BeautifulSoup\n",
    "import time\n",
    "import pandas as pd\n",
    "import datetime"
   ]
  },
  {
   "cell_type": "code",
   "execution_count": 5,
   "id": "5069406b",
   "metadata": {},
   "outputs": [],
   "source": [
    "driver_path = 'C:/chromedriver_win32/chromedriver.exe'"
   ]
  },
  {
   "cell_type": "code",
   "execution_count": 6,
   "id": "2c699fdb",
   "metadata": {},
   "outputs": [],
   "source": [
    "def clean_text(text):\n",
    "    cleaned_text = re.sub('[^ ㄱ-ㅣ가-힣]+',' ',text)\n",
    "    cleaned_text = ' '.join(cleaned_text.split())\n",
    "    return cleaned_text"
   ]
  },
  {
   "cell_type": "code",
   "execution_count": 7,
   "id": "be3a1d12",
   "metadata": {},
   "outputs": [],
   "source": [
    "search = \"풀무원 바른먹거리\""
   ]
  },
  {
   "cell_type": "code",
   "execution_count": 8,
   "id": "57342477",
   "metadata": {},
   "outputs": [
    {
     "ename": "WebDriverException",
     "evalue": "Message: chrome not reachable\n  (Session info: chrome=92.0.4515.131)\n",
     "output_type": "error",
     "traceback": [
      "\u001b[1;31m---------------------------------------------------------------------------\u001b[0m",
      "\u001b[1;31mWebDriverException\u001b[0m                        Traceback (most recent call last)",
      "\u001b[1;32m<ipython-input-8-10a7f5b97abc>\u001b[0m in \u001b[0;36m<module>\u001b[1;34m\u001b[0m\n\u001b[0;32m    106\u001b[0m     \u001b[1;32mreturn\u001b[0m \u001b[0moutput\u001b[0m\u001b[1;33m\u001b[0m\u001b[1;33m\u001b[0m\u001b[0m\n\u001b[0;32m    107\u001b[0m     \u001b[0mdriver\u001b[0m\u001b[1;33m.\u001b[0m\u001b[0mclose\u001b[0m\u001b[1;33m(\u001b[0m\u001b[1;33m)\u001b[0m\u001b[1;33m\u001b[0m\u001b[1;33m\u001b[0m\u001b[0m\n\u001b[1;32m--> 108\u001b[1;33m \u001b[0mfacebook\u001b[0m \u001b[1;33m=\u001b[0m \u001b[0mfacebook_crwal\u001b[0m\u001b[1;33m(\u001b[0m\u001b[0msearch\u001b[0m\u001b[1;33m,\u001b[0m\u001b[0mdriver_path\u001b[0m\u001b[1;33m)\u001b[0m\u001b[1;33m\u001b[0m\u001b[1;33m\u001b[0m\u001b[0m\n\u001b[0m\u001b[0;32m    109\u001b[0m \u001b[1;33m\u001b[0m\u001b[0m\n",
      "\u001b[1;32m<ipython-input-8-10a7f5b97abc>\u001b[0m in \u001b[0;36mfacebook_crwal\u001b[1;34m(search, driver_path)\u001b[0m\n\u001b[0;32m     25\u001b[0m \u001b[1;33m\u001b[0m\u001b[0m\n\u001b[0;32m     26\u001b[0m     \u001b[1;31m#게시물 검색\u001b[0m\u001b[1;33m\u001b[0m\u001b[1;33m\u001b[0m\u001b[1;33m\u001b[0m\u001b[0m\n\u001b[1;32m---> 27\u001b[1;33m     \u001b[0melem\u001b[0m \u001b[1;33m=\u001b[0m \u001b[0mdriver\u001b[0m\u001b[1;33m.\u001b[0m\u001b[0mfind_element_by_name\u001b[0m\u001b[1;33m(\u001b[0m\u001b[1;34m\"global_typeahead\"\u001b[0m\u001b[1;33m)\u001b[0m\u001b[1;33m\u001b[0m\u001b[1;33m\u001b[0m\u001b[0m\n\u001b[0m\u001b[0;32m     28\u001b[0m     \u001b[0melem\u001b[0m\u001b[1;33m.\u001b[0m\u001b[0msend_keys\u001b[0m\u001b[1;33m(\u001b[0m\u001b[0msearch\u001b[0m\u001b[1;33m)\u001b[0m\u001b[1;33m\u001b[0m\u001b[1;33m\u001b[0m\u001b[0m\n\u001b[0;32m     29\u001b[0m     \u001b[0mtime\u001b[0m\u001b[1;33m.\u001b[0m\u001b[0msleep\u001b[0m\u001b[1;33m(\u001b[0m\u001b[1;36m2\u001b[0m\u001b[1;33m)\u001b[0m\u001b[1;33m\u001b[0m\u001b[1;33m\u001b[0m\u001b[0m\n",
      "\u001b[1;32m~\\anaconda3\\lib\\site-packages\\selenium\\webdriver\\remote\\webdriver.py\u001b[0m in \u001b[0;36mfind_element_by_name\u001b[1;34m(self, name)\u001b[0m\n\u001b[0;32m    494\u001b[0m             \u001b[0melement\u001b[0m \u001b[1;33m=\u001b[0m \u001b[0mdriver\u001b[0m\u001b[1;33m.\u001b[0m\u001b[0mfind_element_by_name\u001b[0m\u001b[1;33m(\u001b[0m\u001b[1;34m'foo'\u001b[0m\u001b[1;33m)\u001b[0m\u001b[1;33m\u001b[0m\u001b[1;33m\u001b[0m\u001b[0m\n\u001b[0;32m    495\u001b[0m         \"\"\"\n\u001b[1;32m--> 496\u001b[1;33m         \u001b[1;32mreturn\u001b[0m \u001b[0mself\u001b[0m\u001b[1;33m.\u001b[0m\u001b[0mfind_element\u001b[0m\u001b[1;33m(\u001b[0m\u001b[0mby\u001b[0m\u001b[1;33m=\u001b[0m\u001b[0mBy\u001b[0m\u001b[1;33m.\u001b[0m\u001b[0mNAME\u001b[0m\u001b[1;33m,\u001b[0m \u001b[0mvalue\u001b[0m\u001b[1;33m=\u001b[0m\u001b[0mname\u001b[0m\u001b[1;33m)\u001b[0m\u001b[1;33m\u001b[0m\u001b[1;33m\u001b[0m\u001b[0m\n\u001b[0m\u001b[0;32m    497\u001b[0m \u001b[1;33m\u001b[0m\u001b[0m\n\u001b[0;32m    498\u001b[0m     \u001b[1;32mdef\u001b[0m \u001b[0mfind_elements_by_name\u001b[0m\u001b[1;33m(\u001b[0m\u001b[0mself\u001b[0m\u001b[1;33m,\u001b[0m \u001b[0mname\u001b[0m\u001b[1;33m)\u001b[0m\u001b[1;33m:\u001b[0m\u001b[1;33m\u001b[0m\u001b[1;33m\u001b[0m\u001b[0m\n",
      "\u001b[1;32m~\\anaconda3\\lib\\site-packages\\selenium\\webdriver\\remote\\webdriver.py\u001b[0m in \u001b[0;36mfind_element\u001b[1;34m(self, by, value)\u001b[0m\n\u001b[0;32m    974\u001b[0m                 \u001b[0mby\u001b[0m \u001b[1;33m=\u001b[0m \u001b[0mBy\u001b[0m\u001b[1;33m.\u001b[0m\u001b[0mCSS_SELECTOR\u001b[0m\u001b[1;33m\u001b[0m\u001b[1;33m\u001b[0m\u001b[0m\n\u001b[0;32m    975\u001b[0m                 \u001b[0mvalue\u001b[0m \u001b[1;33m=\u001b[0m \u001b[1;34m'[name=\"%s\"]'\u001b[0m \u001b[1;33m%\u001b[0m \u001b[0mvalue\u001b[0m\u001b[1;33m\u001b[0m\u001b[1;33m\u001b[0m\u001b[0m\n\u001b[1;32m--> 976\u001b[1;33m         return self.execute(Command.FIND_ELEMENT, {\n\u001b[0m\u001b[0;32m    977\u001b[0m             \u001b[1;34m'using'\u001b[0m\u001b[1;33m:\u001b[0m \u001b[0mby\u001b[0m\u001b[1;33m,\u001b[0m\u001b[1;33m\u001b[0m\u001b[1;33m\u001b[0m\u001b[0m\n\u001b[0;32m    978\u001b[0m             'value': value})['value']\n",
      "\u001b[1;32m~\\anaconda3\\lib\\site-packages\\selenium\\webdriver\\remote\\webdriver.py\u001b[0m in \u001b[0;36mexecute\u001b[1;34m(self, driver_command, params)\u001b[0m\n\u001b[0;32m    319\u001b[0m         \u001b[0mresponse\u001b[0m \u001b[1;33m=\u001b[0m \u001b[0mself\u001b[0m\u001b[1;33m.\u001b[0m\u001b[0mcommand_executor\u001b[0m\u001b[1;33m.\u001b[0m\u001b[0mexecute\u001b[0m\u001b[1;33m(\u001b[0m\u001b[0mdriver_command\u001b[0m\u001b[1;33m,\u001b[0m \u001b[0mparams\u001b[0m\u001b[1;33m)\u001b[0m\u001b[1;33m\u001b[0m\u001b[1;33m\u001b[0m\u001b[0m\n\u001b[0;32m    320\u001b[0m         \u001b[1;32mif\u001b[0m \u001b[0mresponse\u001b[0m\u001b[1;33m:\u001b[0m\u001b[1;33m\u001b[0m\u001b[1;33m\u001b[0m\u001b[0m\n\u001b[1;32m--> 321\u001b[1;33m             \u001b[0mself\u001b[0m\u001b[1;33m.\u001b[0m\u001b[0merror_handler\u001b[0m\u001b[1;33m.\u001b[0m\u001b[0mcheck_response\u001b[0m\u001b[1;33m(\u001b[0m\u001b[0mresponse\u001b[0m\u001b[1;33m)\u001b[0m\u001b[1;33m\u001b[0m\u001b[1;33m\u001b[0m\u001b[0m\n\u001b[0m\u001b[0;32m    322\u001b[0m             response['value'] = self._unwrap_value(\n\u001b[0;32m    323\u001b[0m                 response.get('value', None))\n",
      "\u001b[1;32m~\\anaconda3\\lib\\site-packages\\selenium\\webdriver\\remote\\errorhandler.py\u001b[0m in \u001b[0;36mcheck_response\u001b[1;34m(self, response)\u001b[0m\n\u001b[0;32m    240\u001b[0m                 \u001b[0malert_text\u001b[0m \u001b[1;33m=\u001b[0m \u001b[0mvalue\u001b[0m\u001b[1;33m[\u001b[0m\u001b[1;34m'alert'\u001b[0m\u001b[1;33m]\u001b[0m\u001b[1;33m.\u001b[0m\u001b[0mget\u001b[0m\u001b[1;33m(\u001b[0m\u001b[1;34m'text'\u001b[0m\u001b[1;33m)\u001b[0m\u001b[1;33m\u001b[0m\u001b[1;33m\u001b[0m\u001b[0m\n\u001b[0;32m    241\u001b[0m             \u001b[1;32mraise\u001b[0m \u001b[0mexception_class\u001b[0m\u001b[1;33m(\u001b[0m\u001b[0mmessage\u001b[0m\u001b[1;33m,\u001b[0m \u001b[0mscreen\u001b[0m\u001b[1;33m,\u001b[0m \u001b[0mstacktrace\u001b[0m\u001b[1;33m,\u001b[0m \u001b[0malert_text\u001b[0m\u001b[1;33m)\u001b[0m\u001b[1;33m\u001b[0m\u001b[1;33m\u001b[0m\u001b[0m\n\u001b[1;32m--> 242\u001b[1;33m         \u001b[1;32mraise\u001b[0m \u001b[0mexception_class\u001b[0m\u001b[1;33m(\u001b[0m\u001b[0mmessage\u001b[0m\u001b[1;33m,\u001b[0m \u001b[0mscreen\u001b[0m\u001b[1;33m,\u001b[0m \u001b[0mstacktrace\u001b[0m\u001b[1;33m)\u001b[0m\u001b[1;33m\u001b[0m\u001b[1;33m\u001b[0m\u001b[0m\n\u001b[0m\u001b[0;32m    243\u001b[0m \u001b[1;33m\u001b[0m\u001b[0m\n\u001b[0;32m    244\u001b[0m     \u001b[1;32mdef\u001b[0m \u001b[0m_value_or_default\u001b[0m\u001b[1;33m(\u001b[0m\u001b[0mself\u001b[0m\u001b[1;33m,\u001b[0m \u001b[0mobj\u001b[0m\u001b[1;33m,\u001b[0m \u001b[0mkey\u001b[0m\u001b[1;33m,\u001b[0m \u001b[0mdefault\u001b[0m\u001b[1;33m)\u001b[0m\u001b[1;33m:\u001b[0m\u001b[1;33m\u001b[0m\u001b[1;33m\u001b[0m\u001b[0m\n",
      "\u001b[1;31mWebDriverException\u001b[0m: Message: chrome not reachable\n  (Session info: chrome=92.0.4515.131)\n"
     ]
    }
   ],
   "source": [
    "from selenium import webdriver\n",
    "from selenium.webdriver.chrome.options import Options\n",
    "from selenium.webdriver.common.keys import Keys\n",
    "options = webdriver.ChromeOptions()\n",
    "option = Options()\n",
    "options.add_argument(\"headless\")\n",
    "option.add_experimental_option(\"prefs\", {\n",
    "    \"profile.default_content_setting_values.notifications\": 1\n",
    "})\n",
    "usr = \"bfjlni5844@www.hanafos.com.dko.kr\"\n",
    "pwd = \"3whghkdlxld!\"\n",
    "\n",
    "def facebook_crwal(search,driver_path):\n",
    "    posts_list = []\n",
    "    comments_list = []\n",
    "    driver = webdriver.Chrome(options=option, executable_path=driver_path) #팝업만제거, 창제거까지 원하면 options로\n",
    "    driver.get(\"http://www.facebook.org\")\n",
    "    assert \"Facebook\" in driver.title\n",
    "    elem = driver.find_element_by_id(\"email\")\n",
    "    elem.send_keys(usr)\n",
    "    elem = driver.find_element_by_id(\"pass\")\n",
    "    elem.send_keys(pwd)\n",
    "    elem.send_keys(Keys.RETURN)\n",
    "    time.sleep(5)\n",
    "\n",
    "    #게시물 검색\n",
    "    elem = driver.find_element_by_name(\"global_typeahead\")\n",
    "    elem.send_keys(search)\n",
    "    time.sleep(2)\n",
    "    elem.send_keys(Keys.RETURN)\n",
    "    time.sleep(3)\n",
    "    elem = driver.find_element_by_link_text('게시물')\n",
    "    elem.send_keys(Keys.RETURN)\n",
    "    time.sleep(3)\n",
    "    elem = driver.find_element_by_class_name('plgsh5y4.pmk7jnqg.ditlmg2l.dpjh1vo5')\n",
    "    elem.click()\n",
    "    elem = driver.find_element_by_xpath('//*[@id=\"전체 공개 게시물\"]/div/div[1]/div/div/div/span/span')\n",
    "    elem.click()\n",
    "    time.sleep(3)\n",
    "\n",
    "    #맨 아래까지 스크롤해서 데이터 불러오기\n",
    "    prev_height = driver.execute_script(\"return document.body.scrollHeight\")\n",
    "    while True:\n",
    "        # 스크롤을 화면 가장 아래로 내린다\n",
    "        driver.execute_script(\"window.scrollTo(0,document.body.scrollHeight)\")    \n",
    "        # 페이지 로딩 대기\n",
    "        time.sleep(1)\n",
    "        # 현재 문서 높이를 가져와서 저장\n",
    "        curr_height = driver.execute_script(\"return document.body.scrollHeight\")\n",
    "\n",
    "        if(curr_height == prev_height):\n",
    "            break\n",
    "        else:\n",
    "            prev_height = driver.execute_script(\"return document.body.scrollHeight\")\n",
    "        \n",
    "    url_domain = 'https://www.facebook.com/search/posts?q='\n",
    "    filter_domain ='&filters=eyJycF9hdXRob3I6MCI6IntcIm5hbWVcIjpcIm1lcmdlZF9wdWJsaWNfcG9zdHNcIixcImFyZ3NcIjpcIlwifSJ9' \n",
    "    url = url_domain + search + filter_domain\n",
    "    soup = BeautifulSoup(driver.page_source,'html.parser')\n",
    "\n",
    "    try:\n",
    "        read_list = soup.select('div', class_='d2edcug0 o7dlgrpb')\n",
    "        read_list = read_list[0].find_all('div', class_='jb3vyjys hv4rvrfc ihqw7lf3 dati1w0a')\n",
    "        url_list = []\n",
    "        for url in read_list:\n",
    "            url_list.append(str(url.find_all('a')[0].get('href')))\n",
    "    except:\n",
    "        print('결과가 없습니다')\n",
    "        driver.close()\n",
    "        return 0\n",
    "\n",
    "    for url in url_list:\n",
    "        try:\n",
    "            driver = webdriver.Chrome(executable_path=driver_path, options=option)  # for Windows\n",
    "            driver.get(url)\n",
    "            time.sleep(2)\n",
    "            elem = driver.find_element_by_id(\"email\")\n",
    "            elem.send_keys(usr)\n",
    "            elem = driver.find_element_by_id(\"pass\")\n",
    "            elem.send_keys(pwd)\n",
    "            elem.send_keys(Keys.RETURN)\n",
    "            time.sleep(5)\n",
    "            \n",
    "            #일시적으로 차단됨 뜰 경우 해결 해결\n",
    "            elem = driver.find_element_by_id(\"pass\")\n",
    "            elem.send_keys(pwd)\n",
    "            elem.send_keys(Keys.RETURN)\n",
    "            time.sleep(5)\n",
    "            #\n",
    "            \n",
    "            soup = BeautifulSoup(driver.page_source,'html.parser')\n",
    "            post = soup.select_one('div', class_='qzhwtbm6 knvmm38d').find_all('div', dir_=\"auto\")\n",
    "            #게시물만 긁어오도록 수정 필요\n",
    "            posts = [clean_text(x.text) for x in post]\n",
    "            posts_list.append(posts)\n",
    "            comment = soup.select_one('div', class_='cwj9ozl2 tvmbv18p').find_all(\"'div', class_='kvgmc6g5 cxmmr5t8 oygrvhab hcukyx3x c1et5uql'\" > \"'div', dir_='auto'\")\n",
    "            #댓글 중 '내용'만 긁어오도록 수정 필요\n",
    "            comments = [clean_text(x.text) for x in comment]\n",
    "            comments_list.append(comments)\n",
    "            print(comments)\n",
    "        except:\n",
    "            print(\"None_type\")\n",
    "        driver.close()\n",
    "    output = pd.DataFrame({'기업 슬로건' : [search]*len(posts_list),\n",
    "                               '게시물' :  posts_list,\n",
    "                               '댓글' : comments_list})\n",
    "    return output\n",
    "    driver.close()\n",
    "facebook = facebook_crwal(search,driver_path)\n",
    "    "
   ]
  },
  {
   "cell_type": "code",
   "execution_count": null,
   "id": "e3c32e0c",
   "metadata": {},
   "outputs": [],
   "source": []
  },
  {
   "cell_type": "code",
   "execution_count": null,
   "id": "09c71263",
   "metadata": {},
   "outputs": [],
   "source": []
  },
  {
   "cell_type": "code",
   "execution_count": 44,
   "id": "f097beec",
   "metadata": {
    "scrolled": true
   },
   "outputs": [
    {
     "name": "stdout",
     "output_type": "stream",
     "text": [
      "[]\n"
     ]
    }
   ],
   "source": [
    "#연습용\n",
    "\n",
    "url = 'https://www.facebook.com/permalink.php?story_fbid=3101683403225689&id=100001521796809'\n",
    "driver = webdriver.Chrome(executable_path=driver_path, options=option)  # for Windows\n",
    "driver.get(url)\n",
    "time.sleep(2)\n",
    "elem = driver.find_element_by_id(\"email\")\n",
    "elem.send_keys(usr)\n",
    "elem = driver.find_element_by_id(\"pass\")\n",
    "elem.send_keys(pwd)\n",
    "elem.send_keys(Keys.RETURN)\n",
    "time.sleep(5)\n",
    "soup = BeautifulSoup(driver.page_source,'html.parser')\n",
    "post = soup.select_one('div', class_='qzhwtbm6 knvmm38d').find_all('div', dir_=\"auto\")\n",
    "posts = [clean_text(x.text) for x in post]\n",
    "comment = soup.select_one('div', class_='cwj9ozl2 tvmbv18p').find_all(\"'div', class_='kvgmc6g5 cxmmr5t8 oygrvhab hcukyx3x c1et5uql'\" > \"'div', dir_='auto'\")\n",
    "comments = [clean_text(x.text) for x in comment]\n",
    "\n",
    "print(posts)"
   ]
  },
  {
   "cell_type": "code",
   "execution_count": null,
   "id": "538ce7c0",
   "metadata": {},
   "outputs": [],
   "source": []
  },
  {
   "cell_type": "code",
   "execution_count": null,
   "id": "2407e288",
   "metadata": {},
   "outputs": [],
   "source": []
  },
  {
   "cell_type": "code",
   "execution_count": 41,
   "id": "232ff38d",
   "metadata": {
    "scrolled": true
   },
   "outputs": [],
   "source": [
    "facebook.to_csv('페이스북.csv',encoding='UTF8',index=None)"
   ]
  },
  {
   "cell_type": "code",
   "execution_count": 42,
   "id": "aad33d49",
   "metadata": {},
   "outputs": [],
   "source": [
    "test = pd.read_csv('페이스북.csv',encoding='UTF8')"
   ]
  },
  {
   "cell_type": "code",
   "execution_count": 43,
   "id": "24f7888c",
   "metadata": {
    "scrolled": true
   },
   "outputs": [
    {
     "data": {
      "text/html": [
       "<div>\n",
       "<style scoped>\n",
       "    .dataframe tbody tr th:only-of-type {\n",
       "        vertical-align: middle;\n",
       "    }\n",
       "\n",
       "    .dataframe tbody tr th {\n",
       "        vertical-align: top;\n",
       "    }\n",
       "\n",
       "    .dataframe thead th {\n",
       "        text-align: right;\n",
       "    }\n",
       "</style>\n",
       "<table border=\"1\" class=\"dataframe\">\n",
       "  <thead>\n",
       "    <tr style=\"text-align: right;\">\n",
       "      <th></th>\n",
       "      <th>기업 슬로건</th>\n",
       "      <th>게시물</th>\n",
       "      <th>댓글</th>\n",
       "    </tr>\n",
       "  </thead>\n",
       "  <tbody>\n",
       "  </tbody>\n",
       "</table>\n",
       "</div>"
      ],
      "text/plain": [
       "Empty DataFrame\n",
       "Columns: [기업 슬로건, 게시물, 댓글]\n",
       "Index: []"
      ]
     },
     "execution_count": 43,
     "metadata": {},
     "output_type": "execute_result"
    }
   ],
   "source": [
    "test"
   ]
  },
  {
   "cell_type": "markdown",
   "id": "f059a792",
   "metadata": {},
   "source": [
    "### -댓글 '더보기'로 더 로드해야하는지 결과보고 필요시 재설정\n",
    "### -결과보고 필요시 중복제거\n",
    "### -댓글 수가 너무 많으면 한게시물에 치우칠 수 있음 논의필요\n",
    "### -일시적으로 차단됨 뜨는 경우에만 비밀번호 재입력하도록 설정"
   ]
  }
 ],
 "metadata": {
  "kernelspec": {
   "display_name": "Python 3",
   "language": "python",
   "name": "python3"
  },
  "language_info": {
   "codemirror_mode": {
    "name": "ipython",
    "version": 3
   },
   "file_extension": ".py",
   "mimetype": "text/x-python",
   "name": "python",
   "nbconvert_exporter": "python",
   "pygments_lexer": "ipython3",
   "version": "3.8.8"
  }
 },
 "nbformat": 4,
 "nbformat_minor": 5
}
