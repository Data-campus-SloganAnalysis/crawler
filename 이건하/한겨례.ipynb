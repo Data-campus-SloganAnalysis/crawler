{
 "cells": [
  {
   "cell_type": "code",
   "execution_count": 12,
   "id": "2fc82f75",
   "metadata": {},
   "outputs": [],
   "source": [
    "import re\n",
    "from bs4 import BeautifulSoup\n",
    "from selenium import webdriver\n",
    "import time\n",
    "import pandas as pd\n",
    "\n",
    "\n",
    "options = webdriver.ChromeOptions()\n",
    "options.add_argument(\"headless\")"
   ]
  },
  {
   "cell_type": "code",
   "execution_count": 13,
   "id": "c1cd07d9",
   "metadata": {},
   "outputs": [],
   "source": [
    "driver_path = 'C:/chromedriver_win32/chromedriver.exe'"
   ]
  },
  {
   "cell_type": "code",
   "execution_count": 14,
   "id": "ef4b515a",
   "metadata": {},
   "outputs": [],
   "source": [
    "def clean_text(text):\n",
    "    cleaned_text = re.sub('[a-zA-Z]', '', text)\n",
    "    cleaned_text = re.sub('[\\{\\}\\[\\]\\/?.,;:|\\)*~`!^\\-_+<>@\\#$%&\\\\\\=\\(\\'\\\"]',\n",
    "                          '', cleaned_text)\n",
    "    cleaned_text = ' '.join(cleaned_text.split())\n",
    "    return cleaned_text"
   ]
  },
  {
   "cell_type": "code",
   "execution_count": 15,
   "id": "4237c2f9",
   "metadata": {},
   "outputs": [],
   "source": [
    "query = '풀무원 바른먹거리'"
   ]
  },
  {
   "cell_type": "code",
   "execution_count": 23,
   "id": "ce64c198",
   "metadata": {},
   "outputs": [
    {
     "name": "stdout",
     "output_type": "stream",
     "text": [
      "None_type\n",
      "None_type\n"
     ]
    }
   ],
   "source": [
    "def biz_khan(query,driver_path,page):\n",
    "    head_list = []\n",
    "    data_list = []\n",
    "    current_page = 1 #추가된 부분@@@@@@@@@@@@@@@@@@@@@@@@@\n",
    "    last_page =(int(page)-1)*10+1#추가된 부분@@@@@@@@@@@@@@@@@@@@@@@@@\n",
    "    domain = '한겨례'\n",
    "    \n",
    "    while current_page < last_page:\n",
    "        driver = webdriver.Chrome(executable_path=driver_path, options=options)  # for Windows\n",
    "        url_domain = 'https://search.naver.com/search.naver?where=news&query='\n",
    "        news_domain ='&sm=tab_opt&sort=0&photo=0&field=0&pd=0&ds=&de=&docid=&related=0&mynews=1&office_type=1&office_section_code=1&news_office_checked=1028&nso=&is_sug_officeid=0' \n",
    "        url = url_domain + query +'&%2Ca%3A&start='+str(current_page) + news_domain\n",
    "        #url = url_domain + query + news_domain\n",
    "        driver.get(url)\n",
    "        soup = BeautifulSoup(driver.page_source,'html.parser')\n",
    "\n",
    "        # 기사 url을 list형태로 반환\n",
    "        try:\n",
    "            news_list = soup.select('#main_pack > section > div > div.group_news > ul')\n",
    "            url_list = []\n",
    "            news_list = news_list[0].find_all('li')\n",
    "            for url in news_list:\n",
    "                url_list.append(str(url.find_all('a')[0].get('data-url')))\n",
    "        except:\n",
    "            print('기사가 없습니다.')\n",
    "            driver.close()\n",
    "            return 0\n",
    "        driver.close()\n",
    "\n",
    "        for url in url_list:\n",
    "            try:\n",
    "                driver = webdriver.Chrome(executable_path=driver_path, options=options)  # for Windows\n",
    "                driver.get(url)\n",
    "                time.sleep(2)\n",
    "                soup = BeautifulSoup(driver.page_source,'html.parser')\n",
    "                head = clean_text(soup.find('span', class_='title').text)\n",
    "                head_list.append(head)\n",
    "                tags = soup.select_one('#a-left-scroll-in > div.article-text > div').find_all('div', class_='text')\n",
    "                data = [clean_text(x.text) for x in tags]\n",
    "                data_list.append(' '.join(data))\n",
    "            except:\n",
    "                print(\"None_type\")\n",
    "            driver.close()\n",
    "        current_page+=10\n",
    "    output = pd.DataFrame({'언론사' : [domain]*len(head_list),\n",
    "                           '제목' :  head_list,\n",
    "                           '내용' : data_list})\n",
    "    return output\n",
    "\n",
    "biz = biz_khan(query,driver_path,3)"
   ]
  },
  {
   "cell_type": "code",
   "execution_count": 24,
   "id": "9c729af8",
   "metadata": {},
   "outputs": [],
   "source": [
    "biz.to_csv('한겨례.csv',encoding='UTF8',index=None)"
   ]
  },
  {
   "cell_type": "code",
   "execution_count": 25,
   "id": "7639ed6f",
   "metadata": {},
   "outputs": [],
   "source": [
    "test = pd.read_csv('한겨례.csv',encoding='UTF8')"
   ]
  },
  {
   "cell_type": "code",
   "execution_count": 26,
   "id": "a0433d3a",
   "metadata": {},
   "outputs": [
    {
     "data": {
      "text/html": [
       "<div>\n",
       "<style scoped>\n",
       "    .dataframe tbody tr th:only-of-type {\n",
       "        vertical-align: middle;\n",
       "    }\n",
       "\n",
       "    .dataframe tbody tr th {\n",
       "        vertical-align: top;\n",
       "    }\n",
       "\n",
       "    .dataframe thead th {\n",
       "        text-align: right;\n",
       "    }\n",
       "</style>\n",
       "<table border=\"1\" class=\"dataframe\">\n",
       "  <thead>\n",
       "    <tr style=\"text-align: right;\">\n",
       "      <th></th>\n",
       "      <th>언론사</th>\n",
       "      <th>제목</th>\n",
       "      <th>내용</th>\n",
       "    </tr>\n",
       "  </thead>\n",
       "  <tbody>\n",
       "    <tr>\n",
       "      <th>0</th>\n",
       "      <td>한겨례</td>\n",
       "      <td>고기 없는 ‘바른 먹거리’ 꿈일까요</td>\n",
       "      <td>풀무원이 내놓는 식품의 정책과 방향을 만든 남기선 상무는 “풀무원 제품에 고기를 쓰...</td>\n",
       "    </tr>\n",
       "    <tr>\n",
       "      <th>1</th>\n",
       "      <td>한겨례</td>\n",
       "      <td>풀무원 ‘1호 사원’ 입사 34년만에 최고경영자 됐다</td>\n",
       "      <td>풀무원 남승우 대표이사 풀무원 제공 ‘바른 먹거리’를 표방하며 33년 동안 풀무원을...</td>\n",
       "    </tr>\n",
       "    <tr>\n",
       "      <th>2</th>\n",
       "      <td>한겨례</td>\n",
       "      <td>공익활동 위한 ‘풀무원 재단’ 출범</td>\n",
       "      <td>풀무원은 16일 사회적 책임 활동 강화를 위해 ‘풀무원 재단’을 만들었다 재단은 비...</td>\n",
       "    </tr>\n",
       "    <tr>\n",
       "      <th>3</th>\n",
       "      <td>한겨례</td>\n",
       "      <td>풀무원 새 발표…식품·친환경 의지 강조</td>\n",
       "      <td>올해 전문경영인 체제로 전환환 식품기업 풀무원이 새 기업이미지를 발표하고 계열사들의...</td>\n",
       "    </tr>\n",
       "    <tr>\n",
       "      <th>4</th>\n",
       "      <td>한겨례</td>\n",
       "      <td>풀무원홀딩스 ‘1조 클럽’ 입성</td>\n",
       "      <td>풀무원홀딩스가 지난해 연결 매출 1조1204억원을 기록해 식품 업계 ‘1조 클럽’에...</td>\n",
       "    </tr>\n",
       "    <tr>\n",
       "      <th>5</th>\n",
       "      <td>한겨례</td>\n",
       "      <td>4월 9일 쇼핑 단신</td>\n",
       "      <td>백화점서 무선인터넷 무료 이용 롯데백화점은 케이티와 손잡고 26개 모든 점포에 케이...</td>\n",
       "    </tr>\n",
       "    <tr>\n",
       "      <th>6</th>\n",
       "      <td>한겨례</td>\n",
       "      <td>아이밥상 따로 차려볼까 어린이 전용먹거리 ‘봇물’</td>\n",
       "      <td>다시다도 따로 간장도 따로 소금도 따로 김치도 따로… 저출산이 추세화하는 대신 하나...</td>\n",
       "    </tr>\n",
       "    <tr>\n",
       "      <th>7</th>\n",
       "      <td>한겨례</td>\n",
       "      <td>“비교하면 욕심 끝없어…나이 들어 안 물러나는 건 헛짓”</td>\n",
       "      <td>국회의원과 부천시장 등 30년 동안 7선의 선출직 공직생활을 지내고 은퇴한 원혜영 ...</td>\n",
       "    </tr>\n",
       "    <tr>\n",
       "      <th>8</th>\n",
       "      <td>한겨례</td>\n",
       "      <td>‘브랜드의 고향’이 관광상품으로</td>\n",
       "      <td>브랜드 한국에 새 숨결을 ⑨ 체험 마케팅의 숨은 가치 오스트리아 인스부르크에서 차로...</td>\n",
       "    </tr>\n",
       "    <tr>\n",
       "      <th>9</th>\n",
       "      <td>한겨례</td>\n",
       "      <td>“일 25씩 더 해 기부하면 세계 굶주림 사라져”</td>\n",
       "      <td>“세상의 아름다움 중에서 인간의 아름다움을 딛고 넘어설 만한 아름다움은 없다고 생각...</td>\n",
       "    </tr>\n",
       "  </tbody>\n",
       "</table>\n",
       "</div>"
      ],
      "text/plain": [
       "   언론사                               제목  \\\n",
       "0  한겨례              고기 없는 ‘바른 먹거리’ 꿈일까요   \n",
       "1  한겨례    풀무원 ‘1호 사원’ 입사 34년만에 최고경영자 됐다   \n",
       "2  한겨례              공익활동 위한 ‘풀무원 재단’ 출범   \n",
       "3  한겨례            풀무원 새 발표…식품·친환경 의지 강조   \n",
       "4  한겨례                풀무원홀딩스 ‘1조 클럽’ 입성   \n",
       "5  한겨례                      4월 9일 쇼핑 단신   \n",
       "6  한겨례      아이밥상 따로 차려볼까 어린이 전용먹거리 ‘봇물’   \n",
       "7  한겨례  “비교하면 욕심 끝없어…나이 들어 안 물러나는 건 헛짓”   \n",
       "8  한겨례                ‘브랜드의 고향’이 관광상품으로   \n",
       "9  한겨례      “일 25씩 더 해 기부하면 세계 굶주림 사라져”   \n",
       "\n",
       "                                                  내용  \n",
       "0  풀무원이 내놓는 식품의 정책과 방향을 만든 남기선 상무는 “풀무원 제품에 고기를 쓰...  \n",
       "1  풀무원 남승우 대표이사 풀무원 제공 ‘바른 먹거리’를 표방하며 33년 동안 풀무원을...  \n",
       "2  풀무원은 16일 사회적 책임 활동 강화를 위해 ‘풀무원 재단’을 만들었다 재단은 비...  \n",
       "3  올해 전문경영인 체제로 전환환 식품기업 풀무원이 새 기업이미지를 발표하고 계열사들의...  \n",
       "4  풀무원홀딩스가 지난해 연결 매출 1조1204억원을 기록해 식품 업계 ‘1조 클럽’에...  \n",
       "5  백화점서 무선인터넷 무료 이용 롯데백화점은 케이티와 손잡고 26개 모든 점포에 케이...  \n",
       "6  다시다도 따로 간장도 따로 소금도 따로 김치도 따로… 저출산이 추세화하는 대신 하나...  \n",
       "7  국회의원과 부천시장 등 30년 동안 7선의 선출직 공직생활을 지내고 은퇴한 원혜영 ...  \n",
       "8  브랜드 한국에 새 숨결을 ⑨ 체험 마케팅의 숨은 가치 오스트리아 인스부르크에서 차로...  \n",
       "9  “세상의 아름다움 중에서 인간의 아름다움을 딛고 넘어설 만한 아름다움은 없다고 생각...  "
      ]
     },
     "execution_count": 26,
     "metadata": {},
     "output_type": "execute_result"
    }
   ],
   "source": [
    "test"
   ]
  },
  {
   "cell_type": "code",
   "execution_count": null,
   "id": "cb09ecce",
   "metadata": {},
   "outputs": [],
   "source": []
  }
 ],
 "metadata": {
  "kernelspec": {
   "display_name": "Python 3",
   "language": "python",
   "name": "python3"
  },
  "language_info": {
   "codemirror_mode": {
    "name": "ipython",
    "version": 3
   },
   "file_extension": ".py",
   "mimetype": "text/x-python",
   "name": "python",
   "nbconvert_exporter": "python",
   "pygments_lexer": "ipython3",
   "version": "3.8.8"
  }
 },
 "nbformat": 4,
 "nbformat_minor": 5
}
